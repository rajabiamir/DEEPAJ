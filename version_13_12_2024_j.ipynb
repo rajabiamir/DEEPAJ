{
  "cells": [
    {
      "cell_type": "markdown",
      "metadata": {
        "id": "KTHksdfUxjEy"
      },
      "source": [
        "## Installs\n"
      ]
    },
    {
      "cell_type": "code",
      "execution_count": 1,
      "metadata": {
        "colab": {
          "base_uri": "https://localhost:8080/"
        },
        "id": "kjy4DUSg0oY-",
        "outputId": "46c1c344-96a5-4acc-f010-776f96179b24"
      },
      "outputs": [
        {
          "name": "stdout",
          "output_type": "stream",
          "text": [
            "fatal: destination path 'sae' already exists and is not an empty directory.\n"
          ]
        }
      ],
      "source": [
        "! git clone https://github.com/Acciorocketships/sae.git"
      ]
    },
    {
      "cell_type": "code",
      "execution_count": 29,
      "metadata": {
        "colab": {
          "base_uri": "https://localhost:8080/"
        },
        "id": "fvByh_q01OHg",
        "outputId": "3f36c860-d171-4d00-8f23-85e1f56b31d0"
      },
      "outputs": [
        {
          "name": "stdout",
          "output_type": "stream",
          "text": [
            "Found existing installation: sae 1.1.0\n",
            "Uninstalling sae-1.1.0:\n",
            "  Would remove:\n",
            "    /usr/local/lib/python3.10/dist-packages/sae.egg-link\n",
            "Proceed (Y/n)? y\n",
            "  Successfully uninstalled sae-1.1.0\n"
          ]
        }
      ],
      "source": [
        "!pip uninstall sae\n"
      ]
    },
    {
      "cell_type": "code",
      "execution_count": 1,
      "metadata": {
        "colab": {
          "base_uri": "https://localhost:8080/"
        },
        "id": "pVnPb9Zx1hxP",
        "outputId": "ec450b0c-7157-4561-8c55-d6858f0fb470"
      },
      "outputs": [
        {
          "name": "stdout",
          "output_type": "stream",
          "text": [
            "Obtaining file:///home/rand/github/XMED521/proj/sae\n",
            "  Preparing metadata (setup.py) ... \u001b[?25l-\b \bdone\n",
            "\u001b[?25hRequirement already satisfied: torch in /home/rand/anaconda/anaconda3/envs/exmd/lib/python3.10/site-packages (from sae==1.1.0) (2.3.0)\n",
            "Requirement already satisfied: scipy in /home/rand/.local/lib/python3.10/site-packages (from sae==1.1.0) (1.13.0)\n",
            "Requirement already satisfied: wandb in /home/rand/anaconda/anaconda3/envs/exmd/lib/python3.10/site-packages (from sae==1.1.0) (0.19.0)\n",
            "Requirement already satisfied: matplotlib in /home/rand/.local/lib/python3.10/site-packages (from sae==1.1.0) (3.9.2)\n",
            "Requirement already satisfied: torchvision in /home/rand/anaconda/anaconda3/envs/exmd/lib/python3.10/site-packages (from sae==1.1.0) (0.20.1)\n",
            "Requirement already satisfied: tqdm in /home/rand/.local/lib/python3.10/site-packages (from sae==1.1.0) (4.66.4)\n",
            "Requirement already satisfied: contourpy>=1.0.1 in /home/rand/.local/lib/python3.10/site-packages (from matplotlib->sae==1.1.0) (1.3.0)\n",
            "Requirement already satisfied: cycler>=0.10 in /home/rand/.local/lib/python3.10/site-packages (from matplotlib->sae==1.1.0) (0.12.1)\n",
            "Requirement already satisfied: fonttools>=4.22.0 in /home/rand/.local/lib/python3.10/site-packages (from matplotlib->sae==1.1.0) (4.53.1)\n",
            "Requirement already satisfied: kiwisolver>=1.3.1 in /home/rand/.local/lib/python3.10/site-packages (from matplotlib->sae==1.1.0) (1.4.7)\n",
            "Requirement already satisfied: numpy>=1.23 in /home/rand/.local/lib/python3.10/site-packages (from matplotlib->sae==1.1.0) (1.26.4)\n",
            "Requirement already satisfied: packaging>=20.0 in /home/rand/.local/lib/python3.10/site-packages (from matplotlib->sae==1.1.0) (23.2)\n",
            "Requirement already satisfied: pillow>=8 in /home/rand/.local/lib/python3.10/site-packages (from matplotlib->sae==1.1.0) (10.3.0)\n",
            "Requirement already satisfied: pyparsing>=2.3.1 in /home/rand/anaconda/anaconda3/envs/exmd/lib/python3.10/site-packages (from matplotlib->sae==1.1.0) (3.2.0)\n",
            "Requirement already satisfied: python-dateutil>=2.7 in /home/rand/.local/lib/python3.10/site-packages (from matplotlib->sae==1.1.0) (2.9.0.post0)\n",
            "Requirement already satisfied: filelock in /home/rand/.local/lib/python3.10/site-packages (from torch->sae==1.1.0) (3.14.0)\n",
            "Requirement already satisfied: typing-extensions>=4.8.0 in /home/rand/.local/lib/python3.10/site-packages (from torch->sae==1.1.0) (4.12.2)\n",
            "Requirement already satisfied: sympy in /home/rand/anaconda/anaconda3/envs/exmd/lib/python3.10/site-packages (from torch->sae==1.1.0) (1.13.1)\n",
            "Requirement already satisfied: networkx in /home/rand/.local/lib/python3.10/site-packages (from torch->sae==1.1.0) (3.3)\n",
            "Requirement already satisfied: jinja2 in /home/rand/.local/lib/python3.10/site-packages (from torch->sae==1.1.0) (3.1.4)\n",
            "Requirement already satisfied: fsspec in /home/rand/.local/lib/python3.10/site-packages (from torch->sae==1.1.0) (2024.3.1)\n",
            "Collecting torch (from sae==1.1.0)\n",
            "  Using cached torch-2.5.1-cp310-cp310-manylinux1_x86_64.whl.metadata (28 kB)\n",
            "Requirement already satisfied: nvidia-cuda-nvrtc-cu12==12.4.127 in /home/rand/anaconda/anaconda3/envs/exmd/lib/python3.10/site-packages (from torch->sae==1.1.0) (12.4.127)\n",
            "Requirement already satisfied: nvidia-cuda-runtime-cu12==12.4.127 in /home/rand/anaconda/anaconda3/envs/exmd/lib/python3.10/site-packages (from torch->sae==1.1.0) (12.4.127)\n",
            "Requirement already satisfied: nvidia-cuda-cupti-cu12==12.4.127 in /home/rand/anaconda/anaconda3/envs/exmd/lib/python3.10/site-packages (from torch->sae==1.1.0) (12.4.127)\n",
            "Requirement already satisfied: nvidia-cudnn-cu12==9.1.0.70 in /home/rand/anaconda/anaconda3/envs/exmd/lib/python3.10/site-packages (from torch->sae==1.1.0) (9.1.0.70)\n",
            "Requirement already satisfied: nvidia-cublas-cu12==12.4.5.8 in /home/rand/anaconda/anaconda3/envs/exmd/lib/python3.10/site-packages (from torch->sae==1.1.0) (12.4.5.8)\n",
            "Requirement already satisfied: nvidia-cufft-cu12==11.2.1.3 in /home/rand/anaconda/anaconda3/envs/exmd/lib/python3.10/site-packages (from torch->sae==1.1.0) (11.2.1.3)\n",
            "Requirement already satisfied: nvidia-curand-cu12==10.3.5.147 in /home/rand/anaconda/anaconda3/envs/exmd/lib/python3.10/site-packages (from torch->sae==1.1.0) (10.3.5.147)\n",
            "Requirement already satisfied: nvidia-cusolver-cu12==11.6.1.9 in /home/rand/anaconda/anaconda3/envs/exmd/lib/python3.10/site-packages (from torch->sae==1.1.0) (11.6.1.9)\n",
            "Requirement already satisfied: nvidia-cusparse-cu12==12.3.1.170 in /home/rand/anaconda/anaconda3/envs/exmd/lib/python3.10/site-packages (from torch->sae==1.1.0) (12.3.1.170)\n",
            "Requirement already satisfied: nvidia-nccl-cu12==2.21.5 in /home/rand/anaconda/anaconda3/envs/exmd/lib/python3.10/site-packages (from torch->sae==1.1.0) (2.21.5)\n",
            "Requirement already satisfied: nvidia-nvtx-cu12==12.4.127 in /home/rand/anaconda/anaconda3/envs/exmd/lib/python3.10/site-packages (from torch->sae==1.1.0) (12.4.127)\n",
            "Requirement already satisfied: nvidia-nvjitlink-cu12==12.4.127 in /home/rand/.local/lib/python3.10/site-packages (from torch->sae==1.1.0) (12.4.127)\n",
            "Requirement already satisfied: triton==3.1.0 in /home/rand/anaconda/anaconda3/envs/exmd/lib/python3.10/site-packages (from torch->sae==1.1.0) (3.1.0)\n",
            "Requirement already satisfied: mpmath<1.4,>=1.1.0 in /home/rand/.local/lib/python3.10/site-packages (from sympy->torch->sae==1.1.0) (1.3.0)\n",
            "Requirement already satisfied: click!=8.0.0,>=7.1 in /home/rand/.local/lib/python3.10/site-packages (from wandb->sae==1.1.0) (8.1.7)\n",
            "Requirement already satisfied: docker-pycreds>=0.4.0 in /home/rand/anaconda/anaconda3/envs/exmd/lib/python3.10/site-packages (from wandb->sae==1.1.0) (0.4.0)\n",
            "Requirement already satisfied: gitpython!=3.1.29,>=1.0.0 in /home/rand/anaconda/anaconda3/envs/exmd/lib/python3.10/site-packages (from wandb->sae==1.1.0) (3.1.43)\n",
            "Requirement already satisfied: platformdirs in /home/rand/anaconda/anaconda3/envs/exmd/lib/python3.10/site-packages (from wandb->sae==1.1.0) (4.3.6)\n",
            "Requirement already satisfied: protobuf!=4.21.0,!=5.28.0,<6,>=3.19.0 in /home/rand/.local/lib/python3.10/site-packages (from wandb->sae==1.1.0) (4.25.3)\n",
            "Requirement already satisfied: psutil>=5.0.0 in /home/rand/.local/lib/python3.10/site-packages (from wandb->sae==1.1.0) (6.0.0)\n",
            "Requirement already satisfied: pydantic<3,>=2.6 in /home/rand/.local/lib/python3.10/site-packages (from wandb->sae==1.1.0) (2.7.1)\n",
            "Requirement already satisfied: pyyaml in /home/rand/.local/lib/python3.10/site-packages (from wandb->sae==1.1.0) (6.0.1)\n",
            "Requirement already satisfied: requests<3,>=2.0.0 in /home/rand/.local/lib/python3.10/site-packages (from wandb->sae==1.1.0) (2.31.0)\n",
            "Requirement already satisfied: sentry-sdk>=2.0.0 in /home/rand/anaconda/anaconda3/envs/exmd/lib/python3.10/site-packages (from wandb->sae==1.1.0) (2.19.2)\n",
            "Requirement already satisfied: setproctitle in /home/rand/anaconda/anaconda3/envs/exmd/lib/python3.10/site-packages (from wandb->sae==1.1.0) (1.3.4)\n",
            "Requirement already satisfied: setuptools in /home/rand/.local/lib/python3.10/site-packages (from wandb->sae==1.1.0) (68.2.2)\n",
            "Requirement already satisfied: six>=1.4.0 in /home/rand/anaconda/anaconda3/envs/exmd/lib/python3.10/site-packages (from docker-pycreds>=0.4.0->wandb->sae==1.1.0) (1.16.0)\n",
            "Requirement already satisfied: gitdb<5,>=4.0.1 in /home/rand/anaconda/anaconda3/envs/exmd/lib/python3.10/site-packages (from gitpython!=3.1.29,>=1.0.0->wandb->sae==1.1.0) (4.0.11)\n",
            "Requirement already satisfied: annotated-types>=0.4.0 in /home/rand/.local/lib/python3.10/site-packages (from pydantic<3,>=2.6->wandb->sae==1.1.0) (0.6.0)\n",
            "Requirement already satisfied: pydantic-core==2.18.2 in /home/rand/.local/lib/python3.10/site-packages (from pydantic<3,>=2.6->wandb->sae==1.1.0) (2.18.2)\n",
            "Requirement already satisfied: charset-normalizer<4,>=2 in /home/rand/.local/lib/python3.10/site-packages (from requests<3,>=2.0.0->wandb->sae==1.1.0) (3.3.2)\n",
            "Requirement already satisfied: idna<4,>=2.5 in /home/rand/.local/lib/python3.10/site-packages (from requests<3,>=2.0.0->wandb->sae==1.1.0) (3.7)\n",
            "Requirement already satisfied: urllib3<3,>=1.21.1 in /home/rand/.local/lib/python3.10/site-packages (from requests<3,>=2.0.0->wandb->sae==1.1.0) (2.2.1)\n",
            "Requirement already satisfied: certifi>=2017.4.17 in /home/rand/.local/lib/python3.10/site-packages (from requests<3,>=2.0.0->wandb->sae==1.1.0) (2024.2.2)\n",
            "Requirement already satisfied: MarkupSafe>=2.0 in /home/rand/.local/lib/python3.10/site-packages (from jinja2->torch->sae==1.1.0) (2.1.5)\n",
            "Requirement already satisfied: smmap<6,>=3.0.1 in /home/rand/anaconda/anaconda3/envs/exmd/lib/python3.10/site-packages (from gitdb<5,>=4.0.1->gitpython!=3.1.29,>=1.0.0->wandb->sae==1.1.0) (5.0.1)\n",
            "Using cached torch-2.5.1-cp310-cp310-manylinux1_x86_64.whl (906.4 MB)\n",
            "Installing collected packages: torch, sae\n",
            "  Attempting uninstall: torch\n",
            "    Found existing installation: torch 2.3.0\n",
            "    Uninstalling torch-2.3.0:\n",
            "      Successfully uninstalled torch-2.3.0\n",
            "  Attempting uninstall: sae\n",
            "    Found existing installation: sae 1.1.0\n",
            "    Uninstalling sae-1.1.0:\n",
            "      Successfully uninstalled sae-1.1.0\n",
            "\u001b[33m  DEPRECATION: Legacy editable install of sae==1.1.0 from file:///home/rand/github/XMED521/proj/sae (setup.py develop) is deprecated. pip 25.0 will enforce this behaviour change. A possible replacement is to add a pyproject.toml or enable --use-pep517, and use setuptools >= 64. If the resulting installation is not behaving as expected, try using --config-settings editable_mode=compat. Please consult the setuptools documentation for more information. Discussion can be found at https://github.com/pypa/pip/issues/11457\u001b[0m\u001b[33m\n",
            "\u001b[0m  Running setup.py develop for sae\n",
            "Successfully installed sae torch-2.5.1\n"
          ]
        }
      ],
      "source": [
        "! pip install -e sae\n"
      ]
    },
    {
      "cell_type": "code",
      "execution_count": 1,
      "metadata": {
        "id": "Q2ujC4vH1SIM"
      },
      "outputs": [],
      "source": [
        "\n",
        "import torch\n",
        "from torch import nn, optim\n",
        "from sae import AutoEncoder\n",
        "import scanpy as sc\n",
        "import pandas as pd\n",
        "import numpy as np\n",
        "from torch.utils.data import DataLoader\n",
        "import matplotlib.pyplot as plt\n",
        "import random"
      ]
    },
    {
      "cell_type": "markdown",
      "metadata": {
        "id": "q4ydZX2XI6PP"
      },
      "source": [
        "## Dataset"
      ]
    },
    {
      "cell_type": "code",
      "execution_count": 2,
      "metadata": {
        "id": "CJ-zntp-5j0m"
      },
      "outputs": [],
      "source": [
        "import scanpy as sc\n",
        "\n",
        "def split_data(X, subject_ids, unique_ids):\n",
        "  unique_ids = subject_ids.unique()\n",
        "  data = [[] for _ in range(X.shape[1])]\n",
        "  sizes = [[] for _ in range(X.shape[1])]\n",
        "  for i in range(X.shape[1]):\n",
        "    for j, subject_id in enumerate(unique_ids):\n",
        "      subject_indices = subject_ids == subject_id\n",
        "      subject_data = X[subject_indices, i]\n",
        "      data[i].append(torch.from_numpy(subject_data.toarray()))\n",
        "      sizes[i].append(torch.tensor([subject_data.shape[0]],dtype = torch.int32))\n",
        "  return data, sizes\n",
        "\n",
        "def collate(batch):\n",
        "      \"\"\"\n",
        "      x = torch.cat(data[0], dim=0)\n",
        "      sizes = torch.cat(sizes[0], dim=0)\n",
        "      batch = torch.arange(sizes.numel()).repeat_interleave(sizes)\n",
        "      \"\"\"\n",
        "      data = [item[0] for item in batch]\n",
        "      sizes = [item[1] for item in batch]\n",
        "      target = [item[2] for item in batch]\n",
        "      gene = [item[3] for item in batch]\n",
        "      subject = [item[4] for item in batch]\n",
        "      x = torch.cat(data, dim=0)\n",
        "      sizes = torch.cat([item[1] for item in batch], dim=0)\n",
        "      batch = torch.arange(sizes.numel()).repeat_interleave(sizes)\n",
        "      target = torch.LongTensor(target)\n",
        "      gene = torch.LongTensor(gene)\n",
        "      subject = torch.LongTensor(subject)\n",
        "      return x, batch, target, gene, subject\n",
        "\n",
        "class SCDataset(torch.utils.data.Dataset):\n",
        "    def __init__(\n",
        "        self,\n",
        "        adata,\n",
        "        phenotypes,\n",
        "        d_output=2, # default binary classification\n",
        "        dest_path=\"/content\", # default for colab\n",
        "        return_augs=False,\n",
        "    ):\n",
        "\n",
        "        self.return_augs = return_augs\n",
        "        self.d_output = d_output  # needed for decoder to grab\n",
        "        self.adata = adata\n",
        "        self.X  = self.adata.X\n",
        "\n",
        "        self.num_genes = self.X.shape[1]\n",
        "\n",
        "        self.subject_ids = self.adata.obs[\"subject_id\"]\n",
        "        self.unique_ids = self.subject_ids.unique()\n",
        "        self.num_subjects = len(self.unique_ids)\n",
        "\n",
        "        self.data, self.sizes = split_data(self.X, self.subject_ids, self.unique_ids)\n",
        "\n",
        "        self.phenotypes = phenotypes\n",
        "        self.labels = [self.phenotypes[self.phenotypes['Sample_ID']==int(unique_id)]['binary_y'] for unique_id in self.unique_ids]\n",
        "\n",
        "    def __len__(self):\n",
        "        return self.num_genes*self.num_subjects\n",
        "\n",
        "    def __getitem__(self, idx):\n",
        "        gene = idx // self.num_subjects\n",
        "        subject = idx % self.num_subjects\n",
        "        x = self.data[gene][subject]\n",
        "        size = self.sizes[gene][subject]\n",
        "        target = self.labels[subject].item()\n",
        "        return x, size, target, gene, subject"
      ]
    },
    {
      "cell_type": "code",
      "execution_count": null,
      "metadata": {
        "id": "IOYWmmY-vCTY"
      },
      "outputs": [],
      "source": []
    },
    {
      "cell_type": "markdown",
      "metadata": {
        "id": "gnD3Z9eRUe0G"
      },
      "source": [
        "### Junk"
      ]
    },
    {
      "cell_type": "code",
      "execution_count": 3,
      "metadata": {
        "id": "iFHI6RYs16ay"
      },
      "outputs": [
        {
          "ename": "FileNotFoundError",
          "evalue": "[Errno 2] Unable to synchronously open file (unable to open file: name = '/content/processed_dataset_16genes.h5ad', errno = 2, error message = 'No such file or directory', flags = 0, o_flags = 0)",
          "output_type": "error",
          "traceback": [
            "\u001b[0;31m---------------------------------------------------------------------------\u001b[0m",
            "\u001b[0;31mFileNotFoundError\u001b[0m                         Traceback (most recent call last)",
            "Cell \u001b[0;32mIn[3], line 1\u001b[0m\n\u001b[0;32m----> 1\u001b[0m adata \u001b[38;5;241m=\u001b[39m \u001b[43msc\u001b[49m\u001b[38;5;241;43m.\u001b[39;49m\u001b[43mread\u001b[49m\u001b[43m(\u001b[49m\u001b[38;5;124;43m\"\u001b[39;49m\u001b[38;5;124;43m/content/processed_dataset_16genes.h5ad\u001b[39;49m\u001b[38;5;124;43m\"\u001b[39;49m\u001b[43m)\u001b[49m\n",
            "File \u001b[0;32m~/.local/lib/python3.10/site-packages/legacy_api_wrap/__init__.py:80\u001b[0m, in \u001b[0;36mlegacy_api.<locals>.wrapper.<locals>.fn_compatible\u001b[0;34m(*args_all, **kw)\u001b[0m\n\u001b[1;32m     77\u001b[0m \u001b[38;5;129m@wraps\u001b[39m(fn)\n\u001b[1;32m     78\u001b[0m \u001b[38;5;28;01mdef\u001b[39;00m \u001b[38;5;21mfn_compatible\u001b[39m(\u001b[38;5;241m*\u001b[39margs_all: P\u001b[38;5;241m.\u001b[39margs, \u001b[38;5;241m*\u001b[39m\u001b[38;5;241m*\u001b[39mkw: P\u001b[38;5;241m.\u001b[39mkwargs) \u001b[38;5;241m-\u001b[39m\u001b[38;5;241m>\u001b[39m R:\n\u001b[1;32m     79\u001b[0m     \u001b[38;5;28;01mif\u001b[39;00m \u001b[38;5;28mlen\u001b[39m(args_all) \u001b[38;5;241m<\u001b[39m\u001b[38;5;241m=\u001b[39m n_positional:\n\u001b[0;32m---> 80\u001b[0m         \u001b[38;5;28;01mreturn\u001b[39;00m \u001b[43mfn\u001b[49m\u001b[43m(\u001b[49m\u001b[38;5;241;43m*\u001b[39;49m\u001b[43margs_all\u001b[49m\u001b[43m,\u001b[49m\u001b[43m \u001b[49m\u001b[38;5;241;43m*\u001b[39;49m\u001b[38;5;241;43m*\u001b[39;49m\u001b[43mkw\u001b[49m\u001b[43m)\u001b[49m\n\u001b[1;32m     82\u001b[0m     args_pos: P\u001b[38;5;241m.\u001b[39margs\n\u001b[1;32m     83\u001b[0m     args_pos, args_rest \u001b[38;5;241m=\u001b[39m args_all[:n_positional], args_all[n_positional:]\n",
            "File \u001b[0;32m~/.local/lib/python3.10/site-packages/scanpy/readwrite.py:130\u001b[0m, in \u001b[0;36mread\u001b[0;34m(filename, backed, sheet, ext, delimiter, first_column_names, backup_url, cache, cache_compression, **kwargs)\u001b[0m\n\u001b[1;32m    128\u001b[0m filename \u001b[38;5;241m=\u001b[39m Path(filename)  \u001b[38;5;66;03m# allow passing strings\u001b[39;00m\n\u001b[1;32m    129\u001b[0m \u001b[38;5;28;01mif\u001b[39;00m is_valid_filename(filename):\n\u001b[0;32m--> 130\u001b[0m     \u001b[38;5;28;01mreturn\u001b[39;00m \u001b[43m_read\u001b[49m\u001b[43m(\u001b[49m\n\u001b[1;32m    131\u001b[0m \u001b[43m        \u001b[49m\u001b[43mfilename\u001b[49m\u001b[43m,\u001b[49m\n\u001b[1;32m    132\u001b[0m \u001b[43m        \u001b[49m\u001b[43mbacked\u001b[49m\u001b[38;5;241;43m=\u001b[39;49m\u001b[43mbacked\u001b[49m\u001b[43m,\u001b[49m\n\u001b[1;32m    133\u001b[0m \u001b[43m        \u001b[49m\u001b[43msheet\u001b[49m\u001b[38;5;241;43m=\u001b[39;49m\u001b[43msheet\u001b[49m\u001b[43m,\u001b[49m\n\u001b[1;32m    134\u001b[0m \u001b[43m        \u001b[49m\u001b[43mext\u001b[49m\u001b[38;5;241;43m=\u001b[39;49m\u001b[43mext\u001b[49m\u001b[43m,\u001b[49m\n\u001b[1;32m    135\u001b[0m \u001b[43m        \u001b[49m\u001b[43mdelimiter\u001b[49m\u001b[38;5;241;43m=\u001b[39;49m\u001b[43mdelimiter\u001b[49m\u001b[43m,\u001b[49m\n\u001b[1;32m    136\u001b[0m \u001b[43m        \u001b[49m\u001b[43mfirst_column_names\u001b[49m\u001b[38;5;241;43m=\u001b[39;49m\u001b[43mfirst_column_names\u001b[49m\u001b[43m,\u001b[49m\n\u001b[1;32m    137\u001b[0m \u001b[43m        \u001b[49m\u001b[43mbackup_url\u001b[49m\u001b[38;5;241;43m=\u001b[39;49m\u001b[43mbackup_url\u001b[49m\u001b[43m,\u001b[49m\n\u001b[1;32m    138\u001b[0m \u001b[43m        \u001b[49m\u001b[43mcache\u001b[49m\u001b[38;5;241;43m=\u001b[39;49m\u001b[43mcache\u001b[49m\u001b[43m,\u001b[49m\n\u001b[1;32m    139\u001b[0m \u001b[43m        \u001b[49m\u001b[43mcache_compression\u001b[49m\u001b[38;5;241;43m=\u001b[39;49m\u001b[43mcache_compression\u001b[49m\u001b[43m,\u001b[49m\n\u001b[1;32m    140\u001b[0m \u001b[43m        \u001b[49m\u001b[38;5;241;43m*\u001b[39;49m\u001b[38;5;241;43m*\u001b[39;49m\u001b[43mkwargs\u001b[49m\u001b[43m,\u001b[49m\n\u001b[1;32m    141\u001b[0m \u001b[43m    \u001b[49m\u001b[43m)\u001b[49m\n\u001b[1;32m    142\u001b[0m \u001b[38;5;66;03m# generate filename and read to dict\u001b[39;00m\n\u001b[1;32m    143\u001b[0m filekey \u001b[38;5;241m=\u001b[39m \u001b[38;5;28mstr\u001b[39m(filename)\n",
            "File \u001b[0;32m~/.local/lib/python3.10/site-packages/scanpy/readwrite.py:766\u001b[0m, in \u001b[0;36m_read\u001b[0;34m(filename, backed, sheet, ext, delimiter, first_column_names, backup_url, cache, cache_compression, suppress_cache_warning, **kwargs)\u001b[0m\n\u001b[1;32m    764\u001b[0m \u001b[38;5;28;01mif\u001b[39;00m ext \u001b[38;5;129;01min\u001b[39;00m {\u001b[38;5;124m\"\u001b[39m\u001b[38;5;124mh5\u001b[39m\u001b[38;5;124m\"\u001b[39m, \u001b[38;5;124m\"\u001b[39m\u001b[38;5;124mh5ad\u001b[39m\u001b[38;5;124m\"\u001b[39m}:\n\u001b[1;32m    765\u001b[0m     \u001b[38;5;28;01mif\u001b[39;00m sheet \u001b[38;5;129;01mis\u001b[39;00m \u001b[38;5;28;01mNone\u001b[39;00m:\n\u001b[0;32m--> 766\u001b[0m         \u001b[38;5;28;01mreturn\u001b[39;00m \u001b[43mread_h5ad\u001b[49m\u001b[43m(\u001b[49m\u001b[43mfilename\u001b[49m\u001b[43m,\u001b[49m\u001b[43m \u001b[49m\u001b[43mbacked\u001b[49m\u001b[38;5;241;43m=\u001b[39;49m\u001b[43mbacked\u001b[49m\u001b[43m)\u001b[49m\n\u001b[1;32m    767\u001b[0m     \u001b[38;5;28;01melse\u001b[39;00m:\n\u001b[1;32m    768\u001b[0m         logg\u001b[38;5;241m.\u001b[39mdebug(\u001b[38;5;124mf\u001b[39m\u001b[38;5;124m\"\u001b[39m\u001b[38;5;124mreading sheet \u001b[39m\u001b[38;5;132;01m{\u001b[39;00msheet\u001b[38;5;132;01m}\u001b[39;00m\u001b[38;5;124m from file \u001b[39m\u001b[38;5;132;01m{\u001b[39;00mfilename\u001b[38;5;132;01m}\u001b[39;00m\u001b[38;5;124m\"\u001b[39m)\n",
            "File \u001b[0;32m~/.local/lib/python3.10/site-packages/anndata/_io/h5ad.py:234\u001b[0m, in \u001b[0;36mread_h5ad\u001b[0;34m(filename, backed, as_sparse, as_sparse_fmt, chunk_size)\u001b[0m\n\u001b[1;32m    226\u001b[0m         \u001b[38;5;28;01mraise\u001b[39;00m \u001b[38;5;167;01mNotImplementedError\u001b[39;00m(\n\u001b[1;32m    227\u001b[0m             \u001b[38;5;124m\"\u001b[39m\u001b[38;5;124mCurrently only `X` and `raw/X` can be read as sparse.\u001b[39m\u001b[38;5;124m\"\u001b[39m\n\u001b[1;32m    228\u001b[0m         )\n\u001b[1;32m    230\u001b[0m rdasp \u001b[38;5;241m=\u001b[39m partial(\n\u001b[1;32m    231\u001b[0m     read_dense_as_sparse, sparse_format\u001b[38;5;241m=\u001b[39mas_sparse_fmt, axis_chunk\u001b[38;5;241m=\u001b[39mchunk_size\n\u001b[1;32m    232\u001b[0m )\n\u001b[0;32m--> 234\u001b[0m \u001b[38;5;28;01mwith\u001b[39;00m \u001b[43mh5py\u001b[49m\u001b[38;5;241;43m.\u001b[39;49m\u001b[43mFile\u001b[49m\u001b[43m(\u001b[49m\u001b[43mfilename\u001b[49m\u001b[43m,\u001b[49m\u001b[43m \u001b[49m\u001b[38;5;124;43m\"\u001b[39;49m\u001b[38;5;124;43mr\u001b[39;49m\u001b[38;5;124;43m\"\u001b[39;49m\u001b[43m)\u001b[49m \u001b[38;5;28;01mas\u001b[39;00m f:\n\u001b[1;32m    236\u001b[0m     \u001b[38;5;28;01mdef\u001b[39;00m \u001b[38;5;21mcallback\u001b[39m(func, elem_name: \u001b[38;5;28mstr\u001b[39m, elem, iospec):\n\u001b[1;32m    237\u001b[0m         \u001b[38;5;28;01mif\u001b[39;00m iospec\u001b[38;5;241m.\u001b[39mencoding_type \u001b[38;5;241m==\u001b[39m \u001b[38;5;124m\"\u001b[39m\u001b[38;5;124manndata\u001b[39m\u001b[38;5;124m\"\u001b[39m \u001b[38;5;129;01mor\u001b[39;00m elem_name\u001b[38;5;241m.\u001b[39mendswith(\u001b[38;5;124m\"\u001b[39m\u001b[38;5;124m/\u001b[39m\u001b[38;5;124m\"\u001b[39m):\n",
            "File \u001b[0;32m~/.local/lib/python3.10/site-packages/h5py/_hl/files.py:561\u001b[0m, in \u001b[0;36mFile.__init__\u001b[0;34m(self, name, mode, driver, libver, userblock_size, swmr, rdcc_nslots, rdcc_nbytes, rdcc_w0, track_order, fs_strategy, fs_persist, fs_threshold, fs_page_size, page_buf_size, min_meta_keep, min_raw_keep, locking, alignment_threshold, alignment_interval, meta_block_size, **kwds)\u001b[0m\n\u001b[1;32m    552\u001b[0m     fapl \u001b[38;5;241m=\u001b[39m make_fapl(driver, libver, rdcc_nslots, rdcc_nbytes, rdcc_w0,\n\u001b[1;32m    553\u001b[0m                      locking, page_buf_size, min_meta_keep, min_raw_keep,\n\u001b[1;32m    554\u001b[0m                      alignment_threshold\u001b[38;5;241m=\u001b[39malignment_threshold,\n\u001b[1;32m    555\u001b[0m                      alignment_interval\u001b[38;5;241m=\u001b[39malignment_interval,\n\u001b[1;32m    556\u001b[0m                      meta_block_size\u001b[38;5;241m=\u001b[39mmeta_block_size,\n\u001b[1;32m    557\u001b[0m                      \u001b[38;5;241m*\u001b[39m\u001b[38;5;241m*\u001b[39mkwds)\n\u001b[1;32m    558\u001b[0m     fcpl \u001b[38;5;241m=\u001b[39m make_fcpl(track_order\u001b[38;5;241m=\u001b[39mtrack_order, fs_strategy\u001b[38;5;241m=\u001b[39mfs_strategy,\n\u001b[1;32m    559\u001b[0m                      fs_persist\u001b[38;5;241m=\u001b[39mfs_persist, fs_threshold\u001b[38;5;241m=\u001b[39mfs_threshold,\n\u001b[1;32m    560\u001b[0m                      fs_page_size\u001b[38;5;241m=\u001b[39mfs_page_size)\n\u001b[0;32m--> 561\u001b[0m     fid \u001b[38;5;241m=\u001b[39m \u001b[43mmake_fid\u001b[49m\u001b[43m(\u001b[49m\u001b[43mname\u001b[49m\u001b[43m,\u001b[49m\u001b[43m \u001b[49m\u001b[43mmode\u001b[49m\u001b[43m,\u001b[49m\u001b[43m \u001b[49m\u001b[43muserblock_size\u001b[49m\u001b[43m,\u001b[49m\u001b[43m \u001b[49m\u001b[43mfapl\u001b[49m\u001b[43m,\u001b[49m\u001b[43m \u001b[49m\u001b[43mfcpl\u001b[49m\u001b[43m,\u001b[49m\u001b[43m \u001b[49m\u001b[43mswmr\u001b[49m\u001b[38;5;241;43m=\u001b[39;49m\u001b[43mswmr\u001b[49m\u001b[43m)\u001b[49m\n\u001b[1;32m    563\u001b[0m \u001b[38;5;28;01mif\u001b[39;00m \u001b[38;5;28misinstance\u001b[39m(libver, \u001b[38;5;28mtuple\u001b[39m):\n\u001b[1;32m    564\u001b[0m     \u001b[38;5;28mself\u001b[39m\u001b[38;5;241m.\u001b[39m_libver \u001b[38;5;241m=\u001b[39m libver\n",
            "File \u001b[0;32m~/.local/lib/python3.10/site-packages/h5py/_hl/files.py:235\u001b[0m, in \u001b[0;36mmake_fid\u001b[0;34m(name, mode, userblock_size, fapl, fcpl, swmr)\u001b[0m\n\u001b[1;32m    233\u001b[0m     \u001b[38;5;28;01mif\u001b[39;00m swmr \u001b[38;5;129;01mand\u001b[39;00m swmr_support:\n\u001b[1;32m    234\u001b[0m         flags \u001b[38;5;241m|\u001b[39m\u001b[38;5;241m=\u001b[39m h5f\u001b[38;5;241m.\u001b[39mACC_SWMR_READ\n\u001b[0;32m--> 235\u001b[0m     fid \u001b[38;5;241m=\u001b[39m \u001b[43mh5f\u001b[49m\u001b[38;5;241;43m.\u001b[39;49m\u001b[43mopen\u001b[49m\u001b[43m(\u001b[49m\u001b[43mname\u001b[49m\u001b[43m,\u001b[49m\u001b[43m \u001b[49m\u001b[43mflags\u001b[49m\u001b[43m,\u001b[49m\u001b[43m \u001b[49m\u001b[43mfapl\u001b[49m\u001b[38;5;241;43m=\u001b[39;49m\u001b[43mfapl\u001b[49m\u001b[43m)\u001b[49m\n\u001b[1;32m    236\u001b[0m \u001b[38;5;28;01melif\u001b[39;00m mode \u001b[38;5;241m==\u001b[39m \u001b[38;5;124m'\u001b[39m\u001b[38;5;124mr+\u001b[39m\u001b[38;5;124m'\u001b[39m:\n\u001b[1;32m    237\u001b[0m     fid \u001b[38;5;241m=\u001b[39m h5f\u001b[38;5;241m.\u001b[39mopen(name, h5f\u001b[38;5;241m.\u001b[39mACC_RDWR, fapl\u001b[38;5;241m=\u001b[39mfapl)\n",
            "File \u001b[0;32mh5py/_objects.pyx:54\u001b[0m, in \u001b[0;36mh5py._objects.with_phil.wrapper\u001b[0;34m()\u001b[0m\n",
            "File \u001b[0;32mh5py/_objects.pyx:55\u001b[0m, in \u001b[0;36mh5py._objects.with_phil.wrapper\u001b[0;34m()\u001b[0m\n",
            "File \u001b[0;32mh5py/h5f.pyx:102\u001b[0m, in \u001b[0;36mh5py.h5f.open\u001b[0;34m()\u001b[0m\n",
            "\u001b[0;31mFileNotFoundError\u001b[0m: [Errno 2] Unable to synchronously open file (unable to open file: name = '/content/processed_dataset_16genes.h5ad', errno = 2, error message = 'No such file or directory', flags = 0, o_flags = 0)"
          ]
        }
      ],
      "source": [
        "adata = sc.read(\"/content/processed_dataset_16genes.h5ad\")"
      ]
    },
    {
      "cell_type": "code",
      "execution_count": null,
      "metadata": {
        "colab": {
          "base_uri": "https://localhost:8080/"
        },
        "id": "XjXPROP0PdxS",
        "outputId": "59444997-f256-4c91-ce69-f1eae8f9b756"
      },
      "outputs": [
        {
          "data": {
            "text/plain": [
              "(5296, 128)"
            ]
          },
          "execution_count": 5,
          "metadata": {},
          "output_type": "execute_result"
        }
      ],
      "source": [
        "adata.X.shape"
      ]
    },
    {
      "cell_type": "code",
      "execution_count": null,
      "metadata": {
        "id": "gxuYra1z3j_6"
      },
      "outputs": [],
      "source": [
        "subject_ids = adata.obs['subject_id']"
      ]
    },
    {
      "cell_type": "code",
      "execution_count": null,
      "metadata": {
        "id": "vFpZ-PFJ4iyW"
      },
      "outputs": [],
      "source": [
        "def split_data(X, subject_ids):\n",
        "  unique_ids = subject_ids.unique()\n",
        "  data = [[] for _ in range(X.shape[1])]\n",
        "  sizes = [[] for _ in range(X.shape[1])]\n",
        "  for i in range(X.shape[1]):\n",
        "    for j, subject_id in enumerate(unique_ids):\n",
        "      subject_indices = subject_ids == subject_id\n",
        "      subject_data = X[subject_indices, i]\n",
        "      data[i].append(torch.from_numpy(subject_data.toarray()))\n",
        "      sizes[i].append(torch.tensor([subject_data.shape[0]],dtype = torch.int32))\n",
        "  return data, sizes\n",
        "\n"
      ]
    },
    {
      "cell_type": "code",
      "execution_count": null,
      "metadata": {
        "id": "-WkrLdFQ6CoS"
      },
      "outputs": [],
      "source": [
        "data, sizes = split_data(adata.X, subject_ids)"
      ]
    },
    {
      "cell_type": "code",
      "execution_count": null,
      "metadata": {
        "colab": {
          "base_uri": "https://localhost:8080/"
        },
        "id": "8bH-oaoWP1s4",
        "outputId": "861190ee-a9e6-4b8c-e328-ca49d2e3bf4f"
      },
      "outputs": [
        {
          "data": {
            "text/plain": [
              "14"
            ]
          },
          "execution_count": 13,
          "metadata": {},
          "output_type": "execute_result"
        }
      ],
      "source": [
        "len(data[0])"
      ]
    },
    {
      "cell_type": "code",
      "execution_count": null,
      "metadata": {
        "id": "McC1TQNU2cEj"
      },
      "outputs": [],
      "source": [
        "import random\n",
        "class MyDataLoader:\n",
        "    def __init__(self, dataset, batch_size, shuffle = True):\n",
        "        self.dataset = dataset\n",
        "        self.batch_size = batch_size\n",
        "        self.shuffle = shuffle\n",
        "        self.indices = list(range(len(dataset)))\n",
        "\n",
        "    def __iter__(self):\n",
        "        if self.shuffle:\n",
        "            random.shuffle(self.indices)\n",
        "        self.current_index = 0\n",
        "        return self\n",
        "\n",
        "    def __next__(self):\n",
        "        if self.current_index >= len(self.dataset):\n",
        "            raise StopIteration\n",
        "        btach_indices = self.indices[self.current_index:self.current_index + self.batch_size]\n",
        "        batch = [self.dataset[i] for i in batch_indices]\n",
        "        self.current_index += self.batch_size\n",
        "        return batch\n"
      ]
    },
    {
      "cell_type": "code",
      "execution_count": null,
      "metadata": {},
      "outputs": [],
      "source": [
        "from torch.utils.data import TensorDataset, DataLoader\n",
        "\n",
        "\n",
        "class GeneInteractionNN(nn.Module):\n",
        "    def __init__(self, input_dim, hidden_dim, beta):\n",
        "        super(GeneInteractionNN, self).__init__()\n",
        "        self.hidden = nn.Linear(input_dim, hidden_dim)\n",
        "        self.output = nn.Linear(hidden_dim, 1)\n",
        "        self.activation_fn = nn.Softplus(beta = beta)\n",
        "\n",
        "\n",
        "    def forward(self, x):\n",
        "        x1 = self.activation_fn(self.hidden(x))\n",
        "        x2 = self.output(x1)\n",
        "        output= torch.sigmoid(x2)\n",
        "        return output\n"
      ]
    },
    {
      "cell_type": "markdown",
      "metadata": {
        "id": "I2upLaDoI_0P"
      },
      "source": [
        "## Autoencoder Training"
      ]
    },
    {
      "cell_type": "code",
      "execution_count": 3,
      "metadata": {
        "id": "XnQ7MTivUjeX"
      },
      "outputs": [],
      "source": [
        "def train_autoencoder(model, device, train_loader, optimizer, epoch, log_interval=5000):\n",
        "    \"\"\"Training loop.\"\"\"\n",
        "    model.train()\n",
        "    for batch_idx, (data, size, _,_,_) in enumerate(train_loader):\n",
        "        data, size = data.to(device), size.to(device)\n",
        "        optimizer.zero_grad()\n",
        "        xr, batchr = model(data, size)\n",
        "        loss_data = model.loss()\n",
        "        loss = loss_data[\"loss\"]\n",
        "        loss.backward()\n",
        "        optimizer.step()\n",
        "        if batch_idx % log_interval == 0:\n",
        "            print('Train Epoch: {} [{}/{} ({:.0f}%)]\\tLoss: {:.6f}'.format(\n",
        "                epoch, batch_idx * len(data), len(train_loader),\n",
        "                100. * batch_idx / len(train_loader), loss.item()))\n"
      ]
    },
    {
      "cell_type": "code",
      "execution_count": 4,
      "metadata": {
        "id": "UeOw9I6yVokN"
      },
      "outputs": [],
      "source": [
        "def test_autoencoder(model, device, test_loader):\n",
        "    model.eval()\n",
        "    test_loss = 0\n",
        "    with torch.no_grad():\n",
        "        for data, size, _ ,_,_ in test_loader:\n",
        "            data, size = data.to(device), size.to(device)\n",
        "            xr, batchr = model(data, size)\n",
        "            loss_data = model.loss()\n",
        "            loss = loss_data[\"loss\"]\n",
        "            test_loss += loss  # sum up batch loss\n",
        "\n",
        "    test_loss /= len(test_loader.dataset)\n",
        "\n",
        "    print(f\"Test Loss: {test_loss}\")\n",
        "    #changed\n",
        "    return test_loss"
      ]
    },
    {
      "cell_type": "code",
      "execution_count": 5,
      "metadata": {
        "id": "dzGG-XmfVpBX"
      },
      "outputs": [],
      "source": [
        "def run_train_autoencoder(test_subjects=None, hidden_dim =6, weight_decay=.01):\n",
        "\n",
        "    # experiment settings:\n",
        "    num_epochs = 220 \n",
        "    batch_size = 8\n",
        "    learning_rate = .005  \n",
        "    weight_decay = weight_decay\n",
        "\n",
        "    \n",
        "    hidden_dim = hidden_dim\n",
        "    dim = 1\n",
        "    device = 'cuda' if torch.cuda.is_available() else 'cpu'   \n",
        "\n",
        "    print(\"Using device:\", device)\n",
        "    \n",
        "\n",
        "    adata = sc.read(\"./processed_dataset_16genes.h5ad\")\n",
        "    max_n = adata.obs['subject_id'].value_counts().max()\n",
        "    model = AutoEncoder(dim=dim, hidden_dim=hidden_dim, max_n=max_n)\n",
        "    model.to(device)\n",
        "    phenotypes = pd.read_csv('phenotypes_16gene.csv')\n",
        "    if test_subjects:\n",
        "      train_adata = adata[~adata.obs['subject_id'].isin(test_subjects), :]\n",
        "      test_adata = adata[adata.obs['subject_id'].isin(test_subjects), :]\n",
        "      train_phenotypes = phenotypes[~phenotypes['Sample_ID'].isin([int(s) for s in test_subjects])]\n",
        "      test_phenotypes = phenotypes[phenotypes['Sample_ID'].isin([int(s) for s in test_subjects])]\n",
        "\n",
        "    else:\n",
        "      train_adata = adata\n",
        "      test_adata = None\n",
        "      train_phenotypes = phenotypes\n",
        "      test_phenotypes = None\n",
        "    # create datasets\n",
        "    ds_train = SCDataset(\n",
        "        adata=train_adata,\n",
        "        phenotypes=train_phenotypes,\n",
        "        d_output=2,\n",
        "        dest_path=\"/content\",\n",
        "        return_augs=False,\n",
        "    )\n",
        "    train_loader = DataLoader(ds_train, batch_size=batch_size, shuffle=True, collate_fn = collate)\n",
        "    if test_adata:\n",
        "      ds_test = SCDataset(\n",
        "          adata=test_adata,\n",
        "          phenotypes=test_phenotypes,\n",
        "          d_output=2,\n",
        "          dest_path=\"/content\",\n",
        "          return_augs=False,\n",
        "      )\n",
        "      test_loader = DataLoader(ds_test, batch_size=batch_size, shuffle=False, collate_fn = collate)\n",
        "\n",
        "\n",
        "    # create optimizer\n",
        "    optimizer = optim.AdamW(model.parameters(), lr=learning_rate, weight_decay=weight_decay)\n",
        "\n",
        "    model.to(device)\n",
        "    accuracies = []\n",
        "    best = 1000000\n",
        "    best_state_dict = None\n",
        "    patience = 5\n",
        "    epoch_since_update = 0\n",
        "\n",
        "    for epoch in range(num_epochs):\n",
        "        train_autoencoder(model, device, train_loader, optimizer, epoch)\n",
        "        if test_adata:\n",
        "          accuracy = test_autoencoder(model, device, test_loader)\n",
        "          accuracies.append(accuracy)\n",
        "          if best - accuracy >0:\n",
        "            best = accuracy\n",
        "            best_state_dict = model.state_dict()\n",
        "            epoch_since_update = 0\n",
        "          else:\n",
        "            epoch_since_update +=1\n",
        "            if epoch_since_update >= patience:\n",
        "              model.load_state_dict(best_state_dict)\n",
        "              break\n",
        "\n",
        "        optimizer.step()\n",
        "\n",
        "    return model, accuracies, ds_train, ds_test"
      ]
    },
    {
      "cell_type": "markdown",
      "metadata": {},
      "source": [
        "### Search hyperparameters"
      ]
    },
    {
      "cell_type": "code",
      "execution_count": null,
      "metadata": {},
      "outputs": [
        {
          "name": "stdout",
          "output_type": "stream",
          "text": [
            "Using device: cuda\n"
          ]
        },
        {
          "name": "stderr",
          "output_type": "stream",
          "text": [
            "Exception ignored in: <bound method IPythonKernel._clean_thread_parent_frames of <ipykernel.ipkernel.IPythonKernel object at 0x7fdb4eb55390>>\n",
            "Traceback (most recent call last):\n",
            "  File \"/home/rand/anaconda/anaconda3/envs/exmd/lib/python3.10/site-packages/ipykernel/ipkernel.py\", line 775, in _clean_thread_parent_frames\n",
            "    def _clean_thread_parent_frames(\n",
            "KeyboardInterrupt: \n",
            "/home/rand/.local/lib/python3.10/site-packages/numpy/lib/function_base.py:520: RuntimeWarning: Mean of empty slice.\n",
            "  avg = a.mean(axis, **keepdims_kw)\n",
            "/home/rand/.local/lib/python3.10/site-packages/numpy/core/_methods.py:121: RuntimeWarning: invalid value encountered in divide\n",
            "  ret = um.true_divide(\n",
            "/home/rand/.local/lib/python3.10/site-packages/numpy/lib/function_base.py:2889: RuntimeWarning: Degrees of freedom <= 0 for slice\n",
            "  c = cov(x, y, rowvar, dtype=dtype)\n",
            "/home/rand/.local/lib/python3.10/site-packages/numpy/lib/function_base.py:2748: RuntimeWarning: divide by zero encountered in divide\n",
            "  c *= np.true_divide(1, fact)\n",
            "/home/rand/.local/lib/python3.10/site-packages/numpy/lib/function_base.py:2748: RuntimeWarning: invalid value encountered in multiply\n",
            "  c *= np.true_divide(1, fact)\n",
            "/home/rand/github/XMED521/proj/sae/sae/sae_model.py:52: UserWarning: var(): degrees of freedom is <= 0. Correction should be strictly less than the reduction factor (input numel divided by output numel). (Triggered internally at ../aten/src/ATen/native/ReduceOps.cpp:1823.)\n",
            "  xr_var = xr.var(dim=0).mean()\n"
          ]
        },
        {
          "name": "stdout",
          "output_type": "stream",
          "text": [
            "Train Epoch: 0 [0/34 (0%)]\tLoss: 366141.750000\n",
            "Test Loss: 12142.216796875\n",
            "Train Epoch: 1 [0/34 (0%)]\tLoss: 453297.937500\n"
          ]
        },
        {
          "name": "stderr",
          "output_type": "stream",
          "text": [
            "/home/rand/.local/lib/python3.10/site-packages/numpy/lib/function_base.py:2897: RuntimeWarning: invalid value encountered in divide\n",
            "  c /= stddev[:, None]\n",
            "/home/rand/.local/lib/python3.10/site-packages/numpy/lib/function_base.py:2898: RuntimeWarning: invalid value encountered in divide\n",
            "  c /= stddev[None, :]\n"
          ]
        },
        {
          "name": "stdout",
          "output_type": "stream",
          "text": [
            "Test Loss: 12114.140625\n",
            "Train Epoch: 2 [0/34 (0%)]\tLoss: 153298.734375\n",
            "Test Loss: 12075.8427734375\n",
            "Train Epoch: 3 [0/34 (0%)]\tLoss: 194793.218750\n",
            "Test Loss: 12011.1015625\n",
            "Train Epoch: 4 [0/34 (0%)]\tLoss: 266412.187500\n",
            "Test Loss: 11925.86328125\n",
            "Train Epoch: 5 [0/34 (0%)]\tLoss: 294565.218750\n",
            "Test Loss: 11820.533203125\n",
            "Train Epoch: 6 [0/34 (0%)]\tLoss: 420646.843750\n",
            "Test Loss: 11696.7265625\n",
            "Train Epoch: 7 [0/34 (0%)]\tLoss: 79569.265625\n",
            "Test Loss: 11556.7490234375\n",
            "Train Epoch: 8 [0/34 (0%)]\tLoss: 160976.156250\n",
            "Test Loss: 11396.8935546875\n",
            "Train Epoch: 9 [0/34 (0%)]\tLoss: 222789.187500\n",
            "Test Loss: 11235.62109375\n",
            "Train Epoch: 10 [0/34 (0%)]\tLoss: 230346.390625\n",
            "Test Loss: 11054.6787109375\n",
            "Train Epoch: 11 [0/34 (0%)]\tLoss: 197412.703125\n",
            "Test Loss: 10863.2021484375\n",
            "Train Epoch: 12 [0/34 (0%)]\tLoss: 45418.476562\n",
            "Test Loss: 10655.6484375\n",
            "Train Epoch: 13 [0/34 (0%)]\tLoss: 187771.671875\n",
            "Test Loss: 10442.9296875\n",
            "Train Epoch: 14 [0/34 (0%)]\tLoss: 214669.234375\n",
            "Test Loss: 10215.546875\n",
            "Train Epoch: 15 [0/34 (0%)]\tLoss: 201090.703125\n",
            "Test Loss: 9982.98828125\n",
            "Train Epoch: 16 [0/34 (0%)]\tLoss: 258780.718750\n",
            "Test Loss: 9743.7138671875\n",
            "Train Epoch: 17 [0/34 (0%)]\tLoss: 160074.171875\n",
            "Test Loss: 9499.8583984375\n",
            "Train Epoch: 18 [0/34 (0%)]\tLoss: 272214.562500\n",
            "Test Loss: 9250.564453125\n",
            "Train Epoch: 19 [0/34 (0%)]\tLoss: 299459.531250\n",
            "Test Loss: 9013.8583984375\n",
            "Train Epoch: 20 [0/34 (0%)]\tLoss: 271994.750000\n"
          ]
        }
      ],
      "source": [
        "test_subjects = ['1','15','3']\n",
        "hidden_dims = [3,4,6,8,10]\n",
        "weight_decay = [0, 0.001, 0.01, 0.1]\n",
        "accuracies = []\n",
        "autoencoders = []\n",
        "params = []\n",
        "for hidden_dim in hidden_dims:\n",
        "  for weight in weight_decay:\n",
        "    model, accuracy, ds_train, ds_test = run_train_autoencoder(test_subjects = test_subjects, hidden_dim=hidden_dim, weight_decay=weight)\n",
        "    accuracies.append(accuracy)\n",
        "    autoencoders.append(model)\n",
        "    params.append((hidden_dim, weight))"
      ]
    },
    {
      "cell_type": "code",
      "execution_count": 87,
      "metadata": {
        "id": "ZGCMr4aw641a"
      },
      "outputs": [
        {
          "data": {
            "text/plain": [
              "[tensor(12104.7266, device='cuda:0'),\n",
              " tensor(12055.0566, device='cuda:0'),\n",
              " tensor(11990.6787, device='cuda:0'),\n",
              " tensor(11913.1943, device='cuda:0'),\n",
              " tensor(11821.1152, device='cuda:0'),\n",
              " tensor(11716.4688, device='cuda:0'),\n",
              " tensor(11592.9990, device='cuda:0'),\n",
              " tensor(11463.1895, device='cuda:0'),\n",
              " tensor(11314.7578, device='cuda:0'),\n",
              " tensor(11154.4785, device='cuda:0'),\n",
              " tensor(10981.8467, device='cuda:0'),\n",
              " tensor(10796.1846, device='cuda:0'),\n",
              " tensor(10609.4248, device='cuda:0'),\n",
              " tensor(10398.7441, device='cuda:0'),\n",
              " tensor(10181.9434, device='cuda:0'),\n",
              " tensor(9970.7920, device='cuda:0'),\n",
              " tensor(9740.4932, device='cuda:0'),\n",
              " tensor(9501.8711, device='cuda:0'),\n",
              " tensor(9266.9082, device='cuda:0'),\n",
              " tensor(9031.8574, device='cuda:0'),\n",
              " tensor(8786.6631, device='cuda:0'),\n",
              " tensor(8550.8535, device='cuda:0'),\n",
              " tensor(8311.6484, device='cuda:0'),\n",
              " tensor(8063.0352, device='cuda:0'),\n",
              " tensor(7826.1250, device='cuda:0'),\n",
              " tensor(7596.1182, device='cuda:0'),\n",
              " tensor(7367.3936, device='cuda:0'),\n",
              " tensor(7132.1787, device='cuda:0'),\n",
              " tensor(6920.3799, device='cuda:0'),\n",
              " tensor(6713.7109, device='cuda:0'),\n",
              " tensor(6522.0107, device='cuda:0'),\n",
              " tensor(6321.9160, device='cuda:0'),\n",
              " tensor(6136.8086, device='cuda:0'),\n",
              " tensor(5968.6904, device='cuda:0'),\n",
              " tensor(5816.9541, device='cuda:0'),\n",
              " tensor(5663.3281, device='cuda:0'),\n",
              " tensor(5526.8862, device='cuda:0'),\n",
              " tensor(5406.8076, device='cuda:0'),\n",
              " tensor(5290.5137, device='cuda:0'),\n",
              " tensor(5186.3589, device='cuda:0'),\n",
              " tensor(5102.7324, device='cuda:0'),\n",
              " tensor(5023.2573, device='cuda:0'),\n",
              " tensor(4957.2627, device='cuda:0'),\n",
              " tensor(4904.8389, device='cuda:0'),\n",
              " tensor(4861.4932, device='cuda:0'),\n",
              " tensor(4832.1011, device='cuda:0'),\n",
              " tensor(4815.7915, device='cuda:0'),\n",
              " tensor(4809.8032, device='cuda:0'),\n",
              " tensor(4814.4473, device='cuda:0'),\n",
              " tensor(4829.8154, device='cuda:0'),\n",
              " tensor(4853.7568, device='cuda:0'),\n",
              " tensor(4885.9136, device='cuda:0'),\n",
              " tensor(4928.5171, device='cuda:0')]"
            ]
          },
          "execution_count": 87,
          "metadata": {},
          "output_type": "execute_result"
        }
      ],
      "source": [
        "accuracies[0]"
      ]
    },
    {
      "cell_type": "code",
      "execution_count": 93,
      "metadata": {
        "id": "ae5mEc0k67xR"
      },
      "outputs": [
        {
          "data": {
            "image/png": "[encoded data removed]",
            "text/plain": [
              "<Figure size 640x480 with 1 Axes>"
            ]
          },
          "metadata": {},
          "output_type": "display_data"
        },
        {
          "data": {
            "image/png": "[encoded data removed]",
            "text/plain": [
              "<Figure size 640x480 with 1 Axes>"
            ]
          },
          "metadata": {},
          "output_type": "display_data"
        }
      ],
      "source": [
        "for param, acc in zip(params[:10], accuracies[:10]):\n",
        "    accuracy = [a.detach().cpu().numpy() for a in acc]\n",
        "    plt.plot(range(len(accuracy)),accuracy, label = f\"hidden_dim: {param[0]}, weight_decay: {param[1]}\")\n",
        "plt.xlabel('Epoch')\n",
        "plt.ylabel('Loss')\n",
        "plt.title('Loss vs Epoch for Different Hyperparameters')\n",
        "plt.legend()\n",
        "plt.grid()\n",
        "plt.show()\n",
        "\n",
        "\n",
        "for param, acc in zip(params[10:], accuracies[10:]):\n",
        "    if param[1] == 0 and param[0] == 10:\n",
        "        continue\n",
        "    accuracy = [a.detach().cpu().numpy() for a in acc]\n",
        "    plt.plot(range(len(accuracy)),accuracy, label = f\"hidden_dim: {param[0]}, weight_decay: {param[1]}\")\n",
        "plt.xlabel('Epoch')\n",
        "plt.ylabel('Loss')\n",
        "plt.title('Loss vs Epoch for Different Hyperparameters')\n",
        "plt.legend()\n",
        "plt.grid()\n",
        "plt.show()\n"
      ]
    },
    {
      "cell_type": "markdown",
      "metadata": {},
      "source": [
        "### train autoencoder"
      ]
    },
    {
      "cell_type": "code",
      "execution_count": 6,
      "metadata": {},
      "outputs": [
        {
          "name": "stdout",
          "output_type": "stream",
          "text": [
            "Using device: cuda\n"
          ]
        },
        {
          "name": "stderr",
          "output_type": "stream",
          "text": [
            "/home/rand/.local/lib/python3.10/site-packages/numpy/lib/function_base.py:520: RuntimeWarning: Mean of empty slice.\n",
            "  avg = a.mean(axis, **keepdims_kw)\n",
            "/home/rand/.local/lib/python3.10/site-packages/numpy/core/_methods.py:121: RuntimeWarning: invalid value encountered in divide\n",
            "  ret = um.true_divide(\n",
            "/home/rand/.local/lib/python3.10/site-packages/numpy/lib/function_base.py:2889: RuntimeWarning: Degrees of freedom <= 0 for slice\n",
            "  c = cov(x, y, rowvar, dtype=dtype)\n",
            "/home/rand/.local/lib/python3.10/site-packages/numpy/lib/function_base.py:2748: RuntimeWarning: divide by zero encountered in divide\n",
            "  c *= np.true_divide(1, fact)\n",
            "/home/rand/.local/lib/python3.10/site-packages/numpy/lib/function_base.py:2748: RuntimeWarning: invalid value encountered in multiply\n",
            "  c *= np.true_divide(1, fact)\n",
            "/home/rand/github/XMED521/proj/sae/sae/sae_model.py:52: UserWarning: var(): degrees of freedom is <= 0. Correction should be strictly less than the reduction factor (input numel divided by output numel). (Triggered internally at ../aten/src/ATen/native/ReduceOps.cpp:1823.)\n",
            "  xr_var = xr.var(dim=0).mean()\n",
            "/home/rand/.local/lib/python3.10/site-packages/numpy/lib/function_base.py:2897: RuntimeWarning: invalid value encountered in divide\n",
            "  c /= stddev[:, None]\n",
            "/home/rand/.local/lib/python3.10/site-packages/numpy/lib/function_base.py:2898: RuntimeWarning: invalid value encountered in divide\n",
            "  c /= stddev[None, :]\n"
          ]
        },
        {
          "name": "stdout",
          "output_type": "stream",
          "text": [
            "Train Epoch: 0 [0/34 (0%)]\tLoss: 363952.750000\n",
            "Test Loss: 12433.849609375\n",
            "Train Epoch: 1 [0/34 (0%)]\tLoss: 334543.843750\n",
            "Test Loss: 12051.958984375\n",
            "Train Epoch: 2 [0/34 (0%)]\tLoss: 589516.250000\n",
            "Test Loss: 11981.232421875\n",
            "Train Epoch: 3 [0/34 (0%)]\tLoss: 298264.781250\n",
            "Test Loss: 11893.607421875\n",
            "Train Epoch: 4 [0/34 (0%)]\tLoss: 205099.734375\n",
            "Test Loss: 11786.8203125\n",
            "Train Epoch: 5 [0/34 (0%)]\tLoss: 156264.593750\n",
            "Test Loss: 11669.029296875\n",
            "Train Epoch: 6 [0/34 (0%)]\tLoss: 318495.187500\n",
            "Test Loss: 11533.93359375\n",
            "Train Epoch: 7 [0/34 (0%)]\tLoss: 79636.281250\n",
            "Test Loss: 11378.43359375\n",
            "Train Epoch: 8 [0/34 (0%)]\tLoss: 334436.218750\n",
            "Test Loss: 11205.158203125\n",
            "Train Epoch: 9 [0/34 (0%)]\tLoss: 501909.281250\n",
            "Test Loss: 11015.330078125\n",
            "Train Epoch: 10 [0/34 (0%)]\tLoss: 480367.000000\n",
            "Test Loss: 10816.796875\n",
            "Train Epoch: 11 [0/34 (0%)]\tLoss: 83396.429688\n",
            "Test Loss: 10608.955078125\n",
            "Train Epoch: 12 [0/34 (0%)]\tLoss: 334518.937500\n",
            "Test Loss: 10383.6826171875\n",
            "Train Epoch: 13 [0/34 (0%)]\tLoss: 223709.390625\n",
            "Test Loss: 10149.62109375\n",
            "Train Epoch: 14 [0/34 (0%)]\tLoss: 250538.609375\n",
            "Test Loss: 9908.3896484375\n",
            "Train Epoch: 15 [0/34 (0%)]\tLoss: 483313.656250\n",
            "Test Loss: 9660.7294921875\n",
            "Train Epoch: 16 [0/34 (0%)]\tLoss: 373458.812500\n",
            "Test Loss: 9401.7158203125\n",
            "Train Epoch: 17 [0/34 (0%)]\tLoss: 265356.281250\n",
            "Test Loss: 9142.32421875\n",
            "Train Epoch: 18 [0/34 (0%)]\tLoss: 194679.500000\n",
            "Test Loss: 8897.3359375\n",
            "Train Epoch: 19 [0/34 (0%)]\tLoss: 237429.968750\n",
            "Test Loss: 8633.154296875\n",
            "Train Epoch: 20 [0/34 (0%)]\tLoss: 112564.992188\n",
            "Test Loss: 8376.65234375\n",
            "Train Epoch: 21 [0/34 (0%)]\tLoss: 44009.937500\n",
            "Test Loss: 8111.1455078125\n",
            "Train Epoch: 22 [0/34 (0%)]\tLoss: 139058.921875\n",
            "Test Loss: 7867.94677734375\n",
            "Train Epoch: 23 [0/34 (0%)]\tLoss: 274738.250000\n",
            "Test Loss: 7626.171875\n",
            "Train Epoch: 24 [0/34 (0%)]\tLoss: 127001.125000\n",
            "Test Loss: 7376.4462890625\n",
            "Train Epoch: 25 [0/34 (0%)]\tLoss: 154771.640625\n",
            "Test Loss: 7148.400390625\n",
            "Train Epoch: 26 [0/34 (0%)]\tLoss: 288267.781250\n",
            "Test Loss: 6925.0810546875\n",
            "Train Epoch: 27 [0/34 (0%)]\tLoss: 165399.734375\n",
            "Test Loss: 6712.583984375\n",
            "Train Epoch: 28 [0/34 (0%)]\tLoss: 239426.937500\n",
            "Test Loss: 6494.38037109375\n",
            "Train Epoch: 29 [0/34 (0%)]\tLoss: 257760.734375\n",
            "Test Loss: 6298.703125\n",
            "Train Epoch: 30 [0/34 (0%)]\tLoss: 66368.507812\n",
            "Test Loss: 6116.70458984375\n",
            "Train Epoch: 31 [0/34 (0%)]\tLoss: 193146.312500\n",
            "Test Loss: 5934.75\n",
            "Train Epoch: 32 [0/34 (0%)]\tLoss: 150922.125000\n",
            "Test Loss: 5771.38671875\n",
            "Train Epoch: 33 [0/34 (0%)]\tLoss: 103063.843750\n",
            "Test Loss: 5447.86865234375\n",
            "Train Epoch: 34 [0/34 (0%)]\tLoss: 152824.125000\n",
            "Test Loss: 5032.30712890625\n",
            "Train Epoch: 35 [0/34 (0%)]\tLoss: 306919.500000\n",
            "Test Loss: 4799.955078125\n",
            "Train Epoch: 36 [0/34 (0%)]\tLoss: 87101.234375\n",
            "Test Loss: 4573.00927734375\n",
            "Train Epoch: 37 [0/34 (0%)]\tLoss: 126216.445312\n",
            "Test Loss: 4329.296875\n",
            "Train Epoch: 38 [0/34 (0%)]\tLoss: 206818.281250\n",
            "Test Loss: 4104.828125\n",
            "Train Epoch: 39 [0/34 (0%)]\tLoss: 93635.031250\n",
            "Test Loss: 3885.1923828125\n",
            "Train Epoch: 40 [0/34 (0%)]\tLoss: 94462.109375\n",
            "Test Loss: 3661.9462890625\n",
            "Train Epoch: 41 [0/34 (0%)]\tLoss: 299175.750000\n",
            "Test Loss: 3450.24267578125\n",
            "Train Epoch: 42 [0/34 (0%)]\tLoss: 39918.964844\n",
            "Test Loss: 3259.91259765625\n",
            "Train Epoch: 43 [0/34 (0%)]\tLoss: 154269.031250\n",
            "Test Loss: 3045.109375\n",
            "Train Epoch: 44 [0/34 (0%)]\tLoss: 294098.687500\n",
            "Test Loss: 2864.33056640625\n",
            "Train Epoch: 45 [0/34 (0%)]\tLoss: 94741.289062\n",
            "Test Loss: 2670.75390625\n",
            "Train Epoch: 46 [0/34 (0%)]\tLoss: 158689.453125\n",
            "Test Loss: 2488.306640625\n",
            "Train Epoch: 47 [0/34 (0%)]\tLoss: 185936.500000\n",
            "Test Loss: 2313.776611328125\n",
            "Train Epoch: 48 [0/34 (0%)]\tLoss: 235012.031250\n",
            "Test Loss: 2134.3564453125\n",
            "Train Epoch: 49 [0/34 (0%)]\tLoss: 126815.351562\n",
            "Test Loss: 1975.965576171875\n",
            "Train Epoch: 50 [0/34 (0%)]\tLoss: 277026.812500\n",
            "Test Loss: 1816.27734375\n",
            "Train Epoch: 51 [0/34 (0%)]\tLoss: 19785.015625\n",
            "Test Loss: 1671.34375\n",
            "Train Epoch: 52 [0/34 (0%)]\tLoss: 74833.968750\n",
            "Test Loss: 1528.3333740234375\n",
            "Train Epoch: 53 [0/34 (0%)]\tLoss: 95761.351562\n",
            "Test Loss: 1404.6531982421875\n",
            "Train Epoch: 54 [0/34 (0%)]\tLoss: 49127.976562\n",
            "Test Loss: 1264.583251953125\n",
            "Train Epoch: 55 [0/34 (0%)]\tLoss: 74076.039062\n",
            "Test Loss: 1152.0330810546875\n",
            "Train Epoch: 56 [0/34 (0%)]\tLoss: 24052.531250\n",
            "Test Loss: 1038.814208984375\n",
            "Train Epoch: 57 [0/34 (0%)]\tLoss: 66561.312500\n",
            "Test Loss: 948.0067749023438\n",
            "Train Epoch: 58 [0/34 (0%)]\tLoss: 55.706348\n",
            "Test Loss: 834.0941162109375\n",
            "Train Epoch: 59 [0/34 (0%)]\tLoss: 46854.679688\n",
            "Test Loss: 730.5098876953125\n",
            "Train Epoch: 60 [0/34 (0%)]\tLoss: 135646.984375\n",
            "Test Loss: 640.52490234375\n",
            "Train Epoch: 61 [0/34 (0%)]\tLoss: 141208.609375\n",
            "Test Loss: 559.2249755859375\n",
            "Train Epoch: 62 [0/34 (0%)]\tLoss: 149450.562500\n",
            "Test Loss: 477.08990478515625\n",
            "Train Epoch: 63 [0/34 (0%)]\tLoss: 14651.883789\n",
            "Test Loss: 398.96319580078125\n",
            "Train Epoch: 64 [0/34 (0%)]\tLoss: 1619.531372\n",
            "Test Loss: 333.48834228515625\n",
            "Train Epoch: 65 [0/34 (0%)]\tLoss: 12482.651367\n",
            "Test Loss: 274.36602783203125\n",
            "Train Epoch: 66 [0/34 (0%)]\tLoss: 18729.646484\n",
            "Test Loss: 223.2896728515625\n",
            "Train Epoch: 67 [0/34 (0%)]\tLoss: 1026.893066\n",
            "Test Loss: 175.45169067382812\n",
            "Train Epoch: 68 [0/34 (0%)]\tLoss: 73489.031250\n",
            "Test Loss: 134.944091796875\n",
            "Train Epoch: 69 [0/34 (0%)]\tLoss: 132261.781250\n",
            "Test Loss: 99.41353607177734\n",
            "Train Epoch: 70 [0/34 (0%)]\tLoss: 76606.406250\n",
            "Test Loss: 68.78722381591797\n",
            "Train Epoch: 71 [0/34 (0%)]\tLoss: 46900.464844\n",
            "Test Loss: 44.58696746826172\n",
            "Train Epoch: 72 [0/34 (0%)]\tLoss: 91206.390625\n",
            "Test Loss: 25.432653427124023\n",
            "Train Epoch: 73 [0/34 (0%)]\tLoss: 159405.718750\n",
            "Test Loss: 22.811763763427734\n",
            "Train Epoch: 74 [0/34 (0%)]\tLoss: 13123.612305\n",
            "Test Loss: 14.634337425231934\n",
            "Train Epoch: 75 [0/34 (0%)]\tLoss: 63435.562500\n",
            "Test Loss: 3.7597146034240723\n",
            "Train Epoch: 76 [0/34 (0%)]\tLoss: 104106.343750\n",
            "Test Loss: 2.8020386695861816\n",
            "Train Epoch: 77 [0/34 (0%)]\tLoss: 94770.156250\n",
            "Test Loss: 7.891265869140625\n",
            "Train Epoch: 78 [0/34 (0%)]\tLoss: 88634.750000\n",
            "Test Loss: 16.451526641845703\n",
            "Train Epoch: 79 [0/34 (0%)]\tLoss: 116581.226562\n",
            "Test Loss: 29.218246459960938\n",
            "Train Epoch: 80 [0/34 (0%)]\tLoss: 6495.460938\n",
            "Test Loss: 48.16044616699219\n",
            "Train Epoch: 81 [0/34 (0%)]\tLoss: 66178.000000\n",
            "Test Loss: 71.1990966796875\n"
          ]
        }
      ],
      "source": [
        "autoencoder, accuracies, ds_train, ds_test = run_train_autoencoder(test_subjects = ['1','15','3'])"
      ]
    },
    {
      "cell_type": "code",
      "execution_count": 7,
      "metadata": {
        "colab": {
          "base_uri": "https://localhost:8080/",
          "height": 472
        },
        "id": "MzUhpFhx4cRR",
        "outputId": "819f414b-7cad-4a37-e050-ccbc2811423e"
      },
      "outputs": [
        {
          "data": {
            "image/png": "[encoded data removed]",
            "text/plain": [
              "<Figure size 640x480 with 1 Axes>"
            ]
          },
          "metadata": {},
          "output_type": "display_data"
        }
      ],
      "source": [
        "# COMPLETE THE PLOT FUNCTION HERE\n",
        "loss = [a.detach().cpu().numpy() for a in accuracies]\n",
        "plt.plot(range(len(loss)), loss, label= 'Loss',marker='o')\n",
        "\n",
        "\n",
        "# Add axis labels\n",
        "plt.xlabel('Epoch')\n",
        "plt.ylabel('Loss')\n",
        "\n",
        "# Add a title (optional)\n",
        "plt.title('Loss vs Epoch')\n",
        "\n",
        "# Add a legend (optional)\n",
        "plt.legend()\n",
        "# Show the graph\n",
        "plt.grid()\n",
        "plt.show()"
      ]
    },
    {
      "cell_type": "markdown",
      "metadata": {
        "id": "TgLF0Sc978vz"
      },
      "source": [
        "## Encodings Dataset"
      ]
    },
    {
      "cell_type": "code",
      "execution_count": 8,
      "metadata": {
        "id": "M--81kMzB7Iv"
      },
      "outputs": [],
      "source": [
        "def generate_embeddings(embedding_model, ds):\n",
        "    device = 'cuda' if torch.cuda.is_available() else 'cpu'\n",
        "    loader = DataLoader(ds, batch_size=1, shuffle=False, collate_fn = collate)\n",
        "    embeddings = []\n",
        "    labels = []\n",
        "    genes = []\n",
        "    subjects = []\n",
        "    with torch.no_grad():\n",
        "        for data, size, y, gene, subject in loader:\n",
        "            data, size = data.to(device), size.to(device)\n",
        "            embedding = embedding_model(data, size)\n",
        "            embeddings.append(embedding)\n",
        "            labels.append(y)\n",
        "            genes.append(gene.cpu().item())\n",
        "            subjects.append(subject.cpu().item())\n",
        "    return torch.stack(embeddings, axis=0).squeeze(), torch.stack(labels,axis=0), genes, subjects\n"
      ]
    },
    {
      "cell_type": "code",
      "execution_count": 9,
      "metadata": {
        "id": "GiJe9gHQIaWV"
      },
      "outputs": [],
      "source": [
        "embeddings_train, y_train , genes_train, subjects_train = generate_embeddings(autoencoder.encoder, ds_train)\n",
        "embeddings_test, y_test, genes_test, subjectes_test = generate_embeddings(autoencoder.encoder, ds_test)"
      ]
    },
    {
      "cell_type": "code",
      "execution_count": 10,
      "metadata": {
        "id": "8JKuohQyIPkw"
      },
      "outputs": [],
      "source": [
        "def reshape_tensor_label(tensor, labels, gene_ids, subject_ids, num_genes, num_subjects):\n",
        "\n",
        "    embedding_dim = tensor.shape[1]  # Get embedding dimension\n",
        "    reshaped_tensor = torch.zeros((num_genes, num_subjects, embedding_dim))\n",
        "    reshaped_labels = torch.zeros((num_genes, num_subjects))\n",
        "    for i in range(tensor.shape[0]):\n",
        "        gene_index = gene_ids[i]\n",
        "        subject_index = subject_ids[i]\n",
        "        reshaped_tensor[gene_index, subject_index] = tensor[i]\n",
        "        reshaped_labels[gene_index, subject_index] = labels[i].item()\n",
        "    return reshaped_tensor, reshaped_labels"
      ]
    },
    {
      "cell_type": "code",
      "execution_count": 11,
      "metadata": {
        "id": "_Vo1QAJfImXV"
      },
      "outputs": [],
      "source": [
        "reshaped_embeddings_train, reshaped_labels_train = reshape_tensor_label(embeddings_train, y_train, genes_train, subjects_train, ds_train.num_genes, ds_train.num_subjects)\n",
        "reshaped_embeddings_test, reshaped_labels_test = reshape_tensor_label(embeddings_test, y_test, genes_test, subjectes_test, ds_test.num_genes, ds_test.num_subjects)"
      ]
    },
    {
      "cell_type": "code",
      "execution_count": null,
      "metadata": {},
      "outputs": [],
      "source": []
    },
    {
      "cell_type": "markdown",
      "metadata": {
        "id": "pPz3n-oI6XQX"
      },
      "source": [
        "## Prediction Models (they don't worj )"
      ]
    },
    {
      "cell_type": "code",
      "execution_count": 13,
      "metadata": {
        "id": "pzjMkgyP6abt"
      },
      "outputs": [],
      "source": [
        "import numpy as np\n",
        "import torch\n",
        "import torch.nn as nn\n",
        "import torch.optim as optim\n",
        "from torch.utils.data import TensorDataset, DataLoader\n",
        "\n",
        "class LinearLayer(nn.Module):\n",
        "    def __init__(self, input_dim, output_dim):     \n",
        "        super(LinearLayer, self).__init__()\n",
        "        self.input_dim = input_dim\n",
        "        self.output_dim = output_dim\n",
        "        \n",
        "        scale = 1. * np.sqrt(6. / (input_dim + output_dim))\n",
        "        # approximated posterior\n",
        "        self.w = nn.Parameter(torch.Tensor(self.input_dim, self.output_dim).uniform_(-scale, scale))\n",
        "        self.bias = nn.Parameter(torch.Tensor(self.output_dim).uniform_(-scale, scale))\n",
        "\n",
        "    def forward(self, x):\n",
        "        output = torch.mm(x, self.w) + self.bias          \n",
        "        return output\n",
        "\n",
        "    \n",
        "class Predictor(nn.Module):\n",
        "    def __init__(self, gene_size, hidden_dim, beta):\n",
        "        super(Predictor, self).__init__()\n",
        "        self.input_dim = gene_size\n",
        "        \n",
        "        self.Layer1 = LinearLayer(self.input_dim, hidden_dim)\n",
        "        self.Layer2 = LinearLayer(hidden_dim, 1)\n",
        "        self.activation_fn = nn.Softplus(beta = beta)\n",
        "        \n",
        "    def forward(self, x):\n",
        "        x1 = self.activation_fn(self.Layer1(x))\n",
        "        x2 = self.Layer2(x1)\n",
        "\n",
        "        return x2, self.reg_layers()\n",
        "    \n",
        "    def reg_layers(self):\n",
        "        reg = torch.norm(self.Layer1.w, 1) + torch.norm(self.Layer2.w, 1)\n",
        "        return reg \n",
        "    \n",
        "\n",
        "class Main_effect(nn.Module):\n",
        "    def __init__(self, gene_size):\n",
        "        super(Main_effect, self).__init__()\n",
        "        self.input_dim = gene_size\n",
        "        self.Layer1 = LinearLayer(self.input_dim, 1)\n",
        "\n",
        "    def forward(self, x):\n",
        "        x = self.Layer1(x)\n",
        "        return x, self.reg_layers()\n",
        "\n",
        "    def reg_layers(self):\n",
        "        reg = torch.norm(self.Layer1.w, 1)\n",
        "        return reg\n",
        "\n",
        "\n",
        "\n",
        "class NNtraining(object):\n",
        "    def __init__(self,\n",
        "                 model,\n",
        "                 learning_rate=0.05,\n",
        "                 batch_size=10000,\n",
        "                 num_epoch=10,\n",
        "                 early_stop_patience = 20,\n",
        "                 reg_weight_predictor = 0.0,\n",
        "                 use_cuda=False,\n",
        "                 use_early_stopping = False):\n",
        "\n",
        "        self.model = model\n",
        "        self.learning_rate = learning_rate\n",
        "        self.batch_size = batch_size\n",
        "        self.num_epoch = num_epoch\n",
        "        self.best_val = 1e5\n",
        "        self.early_stop_patience = early_stop_patience\n",
        "        self.epochs_since_update = 0  # used for early stopping\n",
        "        self.reg_weight_predictor = reg_weight_predictor\n",
        "        self.use_early_stopping = use_early_stopping\n",
        "\n",
        "        self.use_cuda = use_cuda\n",
        "        if use_cuda:\n",
        "            self.model.cuda()\n",
        "\n",
        "    def training(self, x, y, xval, yval):\n",
        "\n",
        "        parameters = set(self.model.parameters())\n",
        "        optimizer = optim.Adam(parameters, lr=self.learning_rate, eps=1e-8)\n",
        "        criterion = nn.BCELoss()\n",
        "        if self.use_cuda:\n",
        "            x = x.cuda()\n",
        "            y = y.cuda()\n",
        "        train_dl = DataLoader(TensorDataset(x, y), batch_size=self.batch_size, shuffle=True)\n",
        "        for epoch in range(self.num_epoch):\n",
        "            for x_batch, y_batch in train_dl:\n",
        "                optimizer.zero_grad()\n",
        "                self.model.train()\n",
        "                # calculate the training loss\n",
        "                output, reg_predictor = self.model(x_batch)\n",
        "                output = self.model(x_batch)\n",
        "                loss = criterion(y_batch, output) + self.reg_weight_predictor * reg_predictor\n",
        "                print(output)\n",
        "                print(y_batch.unsqueeze(1))\n",
        "                loss = criterion(output,y_batch.unsqueeze(1))\n",
        "                print(loss)\n",
        "                # backpropogate the gradient\n",
        "                loss.backward()\n",
        "                # optimize with SGD\n",
        "                optimizer.step()\n",
        "\n",
        "\n",
        "\n",
        "    def build_evaluation(self, x_test, y_test):\n",
        "        criterion = nn.BCELoss()\n",
        "        if self.use_cuda:\n",
        "            x_test = x_test.cuda()\n",
        "            y_test = y_test.cuda()\n",
        "        self.model.eval()\n",
        "        y_pred = self.model(x_test)\n",
        "      #  y_pred, _, = self.model(x_test)\n",
        "        mse_eval = criterion(y_test, y_pred).detach()\n",
        "\n",
        "        pve = (1. - torch.var(y_pred.view(-1) - y_test.view(-1)) / torch.var(y_test.view(-1))).detach()\n",
        "        return mse_eval, pve\n",
        "\n"
      ]
    },
    {
      "cell_type": "markdown",
      "metadata": {
        "id": "qr1uLqDtbcwa"
      },
      "source": [
        "## Prediction (something is wrong it only outputs zeros)"
      ]
    },
    {
      "cell_type": "code",
      "execution_count": 12,
      "metadata": {
        "id": "zDfgi307agi3"
      },
      "outputs": [],
      "source": [
        "def transform_split(tensor, labels, split = 1):\n",
        "  transformed = tensor.reshape(tensor.shape[1],tensor.shape[0]*tensor.shape[2])\n",
        "  labels = labels[0,:]\n",
        "  split1 = int(tensor.shape[1]*split)\n",
        "  tensor1 = transformed[:split1,:]\n",
        "  tensor2 = transformed[split1:,:]\n",
        "  labels1 = labels[:split1]\n",
        "  labels2 = labels[split1:]\n",
        "  return tensor1, tensor2, labels1, labels2"
      ]
    },
    {
      "cell_type": "code",
      "execution_count": 13,
      "metadata": {
        "id": "Fn1nrJIBbMsu"
      },
      "outputs": [],
      "source": [
        "x, _,y,_ = transform_split(reshaped_embeddings_train, reshaped_labels_train)"
      ]
    },
    {
      "cell_type": "code",
      "execution_count": 14,
      "metadata": {},
      "outputs": [],
      "source": [
        "xval, _, yval, _ = transform_split(reshaped_embeddings_test, reshaped_labels_test)"
      ]
    },
    {
      "cell_type": "code",
      "execution_count": 15,
      "metadata": {},
      "outputs": [],
      "source": [
        "import numpy as np\n",
        "import torch\n",
        "import torch.nn as nn\n",
        "import torch.optim as optim\n",
        "from torch.utils.data import TensorDataset, DataLoader\n",
        "\n",
        "class LinearLayer(nn.Module):\n",
        "    def __init__(self, input_dim, output_dim):     \n",
        "        super(LinearLayer, self).__init__()\n",
        "        self.input_dim = input_dim\n",
        "        self.output_dim = output_dim\n",
        "        \n",
        "        scale = 1. * np.sqrt(6. / (input_dim + output_dim))\n",
        "        # approximated posterior\n",
        "        self.w = nn.Parameter(torch.Tensor(self.input_dim, self.output_dim).uniform_(-scale, scale))\n",
        "        self.bias = nn.Parameter(torch.Tensor(self.output_dim).uniform_(-scale, scale))\n",
        "\n",
        "    def forward(self, x):\n",
        "        xw = torch.mm(x, self.w)\n",
        "        output = xw + self.bias          \n",
        "        return output\n",
        "\n",
        "    \n",
        "class Predictor(nn.Module):\n",
        "    def __init__(self, gene_size, hidden_dim, beta):\n",
        "        super(Predictor, self).__init__()\n",
        "        self.input_dim = gene_size\n",
        "        \n",
        "        self.Layer1 = LinearLayer(self.input_dim, hidden_dim)\n",
        "        self.Layer2 = LinearLayer(hidden_dim, 1)\n",
        "        self.activation_fn = nn.Softplus(beta = beta)\n",
        "        \n",
        "    def forward(self, x):\n",
        "        x1 = self.activation_fn(self.Layer1(x))\n",
        "        x2 = self.Layer2(x1)\n",
        "        output = torch.sigmoid(x2)\n",
        "        return output, self.reg_layers()\n",
        "    \n",
        "    def reg_layers(self):\n",
        "        reg = torch.norm(self.Layer1.w, 1) + torch.norm(self.Layer2.w, 1)\n",
        "        return reg \n",
        "    \n",
        "\n",
        "class Main_effect(nn.Module):\n",
        "    def __init__(self, gene_size):\n",
        "        super(Main_effect, self).__init__()\n",
        "        self.input_dim = gene_size\n",
        "        self.Layer1 = LinearLayer(self.input_dim, 1)\n",
        "\n",
        "    def forward(self, x):\n",
        "        x = self.Layer1(x)\n",
        "        return x, self.reg_layers()\n",
        "\n",
        "    def reg_layers(self):\n",
        "        reg = torch.norm(self.Layer1.w, 1)\n",
        "        return reg\n",
        "\n"
      ]
    },
    {
      "cell_type": "code",
      "execution_count": 16,
      "metadata": {
        "id": "WWRUouen1Wf4"
      },
      "outputs": [],
      "source": [
        "def train_predictor(model, device, train_loader, optimizer, epoch,loss_fn, reg_weight, lambda_l1):\n",
        "    \"\"\"Training loop.\"\"\"\n",
        "    model.train()\n",
        "    for batch_idx, (data, target) in enumerate(train_loader):\n",
        "        data, target = data.to(device), target.to(device)\n",
        "        optimizer.zero_grad()\n",
        "        output, reg = model(data)\n",
        "        loss = loss_fn(output, target)+ reg_weight * reg\n",
        "        #for param in model.parameters():\n",
        "        #    loss += lambda_l1 * torch.sum(torch.abs(param))\n",
        "        loss.backward()\n",
        "        optimizer.step()\n"
      ]
    },
    {
      "cell_type": "code",
      "execution_count": 17,
      "metadata": {
        "id": "XaB3wUqS2ARD"
      },
      "outputs": [],
      "source": [
        "def test_predictor(model, device, test_loader, loss_fn):\n",
        "    model.eval()\n",
        "    with torch.no_grad():\n",
        "        test_loss = 0\n",
        "        correct = 0\n",
        "        for data, target in test_loader:\n",
        "            data, target = data.to(device), target.to(device)\n",
        "            output, reg = model(data)\n",
        "            test_loss += loss_fn(output, target).item()\n",
        "            pred = output.round()\n",
        "            print(f\"output: {output}, pred: {pred}, target: {target}\")\n",
        "            correct += pred.eq(target.view_as(pred)).sum().item()\n",
        "\n",
        "    test_loss /= len(test_loader.dataset)\n",
        "    print('\\nTest set: Average loss: {:.4f}, Accuracy: {}/{} ({:.2f}%)\\n'.format(\n",
        "        test_loss, correct, len(test_loader.dataset),\n",
        "        100. * correct / len(test_loader.dataset)))\n",
        "    return (100.* correct / len(test_loader.dataset)), test_loss"
      ]
    },
    {
      "cell_type": "code",
      "execution_count": 18,
      "metadata": {
        "id": "GEah_omo0VMS"
      },
      "outputs": [],
      "source": [
        "def run_train_predictor(x, y, xval, yval, beta):\n",
        "    learning_rate = 0.002\n",
        "    epochs = 100\n",
        "    reg_weight = 0.01\n",
        "\n",
        "    device = 'cuda' if torch.cuda.is_available() else 'cpu'\n",
        "    input_dim = x.shape[1]\n",
        "    hidden_dim = 32\n",
        "\n",
        "    model = Predictor(input_dim, hidden_dim, beta)  \n",
        "\n",
        "    train_dl = DataLoader(TensorDataset(x, y.unsqueeze(1)), batch_size=1, shuffle=True)\n",
        "    test_dl = DataLoader(TensorDataset(xval, yval.unsqueeze(1)), batch_size=1, shuffle=False)\n",
        "    loss_fn = nn.BCELoss()\n",
        "    optimizer = torch.optim.Adam(model.parameters(), lr=learning_rate, eps=1e-8)\n",
        "    model.to(device)\n",
        "    accuracies = []\n",
        "    losses = []\n",
        "    best = 1000000\n",
        "    best_state_dict = None\n",
        "    patience = 8\n",
        "    epoch_since_update = 0\n",
        "    for epoch in range(epochs):\n",
        "        train_predictor(model, device, train_dl, optimizer, epoch, loss_fn, reg_weight=reg_weight,lambda_l1 = 0.02) \n",
        "        accuracy, loss = test_predictor(model, device, test_dl, loss_fn)\n",
        "        if best - loss >0:\n",
        "            best = loss\n",
        "            best_state_dict = model.state_dict()\n",
        "            epoch_since_update = 0\n",
        "        else:\n",
        "            epoch_since_update +=1\n",
        "            if epoch_since_update >= patience:\n",
        "              model.load_state_dict(best_state_dict)\n",
        "              break\n",
        "        accuracies.append(accuracy)\n",
        "        losses.append(loss)\n",
        "        optimizer.step()\n",
        "    return model, accuracies, losses\n",
        "\n"
      ]
    },
    {
      "cell_type": "code",
      "execution_count": 28,
      "metadata": {
        "colab": {
          "base_uri": "https://localhost:8080/"
        },
        "id": "3NlErVuy3ktO",
        "outputId": "725a7df2-19a1-4ea3-b1af-cd24287b1be3"
      },
      "outputs": [
        {
          "name": "stdout",
          "output_type": "stream",
          "text": [
            "output: tensor([[1.]], device='cuda:0'), pred: tensor([[1.]], device='cuda:0'), target: tensor([[1.]], device='cuda:0')\n",
            "output: tensor([[0.]], device='cuda:0'), pred: tensor([[0.]], device='cuda:0'), target: tensor([[1.]], device='cuda:0')\n",
            "output: tensor([[0.]], device='cuda:0'), pred: tensor([[0.]], device='cuda:0'), target: tensor([[0.]], device='cuda:0')\n",
            "\n",
            "Test set: Average loss: 33.3333, Accuracy: 2/3 (66.67%)\n",
            "\n",
            "output: tensor([[1.]], device='cuda:0'), pred: tensor([[1.]], device='cuda:0'), target: tensor([[1.]], device='cuda:0')\n",
            "output: tensor([[0.]], device='cuda:0'), pred: tensor([[0.]], device='cuda:0'), target: tensor([[1.]], device='cuda:0')\n",
            "output: tensor([[0.]], device='cuda:0'), pred: tensor([[0.]], device='cuda:0'), target: tensor([[0.]], device='cuda:0')\n",
            "\n",
            "Test set: Average loss: 33.3333, Accuracy: 2/3 (66.67%)\n",
            "\n",
            "output: tensor([[1.]], device='cuda:0'), pred: tensor([[1.]], device='cuda:0'), target: tensor([[1.]], device='cuda:0')\n",
            "output: tensor([[0.]], device='cuda:0'), pred: tensor([[0.]], device='cuda:0'), target: tensor([[1.]], device='cuda:0')\n",
            "output: tensor([[0.]], device='cuda:0'), pred: tensor([[0.]], device='cuda:0'), target: tensor([[0.]], device='cuda:0')\n",
            "\n",
            "Test set: Average loss: 33.3333, Accuracy: 2/3 (66.67%)\n",
            "\n",
            "output: tensor([[1.]], device='cuda:0'), pred: tensor([[1.]], device='cuda:0'), target: tensor([[1.]], device='cuda:0')\n",
            "output: tensor([[0.]], device='cuda:0'), pred: tensor([[0.]], device='cuda:0'), target: tensor([[1.]], device='cuda:0')\n",
            "output: tensor([[0.]], device='cuda:0'), pred: tensor([[0.]], device='cuda:0'), target: tensor([[0.]], device='cuda:0')\n",
            "\n",
            "Test set: Average loss: 33.3333, Accuracy: 2/3 (66.67%)\n",
            "\n",
            "output: tensor([[1.]], device='cuda:0'), pred: tensor([[1.]], device='cuda:0'), target: tensor([[1.]], device='cuda:0')\n",
            "output: tensor([[0.]], device='cuda:0'), pred: tensor([[0.]], device='cuda:0'), target: tensor([[1.]], device='cuda:0')\n",
            "output: tensor([[0.]], device='cuda:0'), pred: tensor([[0.]], device='cuda:0'), target: tensor([[0.]], device='cuda:0')\n",
            "\n",
            "Test set: Average loss: 33.3333, Accuracy: 2/3 (66.67%)\n",
            "\n",
            "output: tensor([[1.]], device='cuda:0'), pred: tensor([[1.]], device='cuda:0'), target: tensor([[1.]], device='cuda:0')\n",
            "output: tensor([[0.]], device='cuda:0'), pred: tensor([[0.]], device='cuda:0'), target: tensor([[1.]], device='cuda:0')\n",
            "output: tensor([[0.]], device='cuda:0'), pred: tensor([[0.]], device='cuda:0'), target: tensor([[0.]], device='cuda:0')\n",
            "\n",
            "Test set: Average loss: 33.3333, Accuracy: 2/3 (66.67%)\n",
            "\n",
            "output: tensor([[1.]], device='cuda:0'), pred: tensor([[1.]], device='cuda:0'), target: tensor([[1.]], device='cuda:0')\n",
            "output: tensor([[0.]], device='cuda:0'), pred: tensor([[0.]], device='cuda:0'), target: tensor([[1.]], device='cuda:0')\n",
            "output: tensor([[0.]], device='cuda:0'), pred: tensor([[0.]], device='cuda:0'), target: tensor([[0.]], device='cuda:0')\n",
            "\n",
            "Test set: Average loss: 33.3333, Accuracy: 2/3 (66.67%)\n",
            "\n",
            "output: tensor([[1.]], device='cuda:0'), pred: tensor([[1.]], device='cuda:0'), target: tensor([[1.]], device='cuda:0')\n",
            "output: tensor([[0.]], device='cuda:0'), pred: tensor([[0.]], device='cuda:0'), target: tensor([[1.]], device='cuda:0')\n",
            "output: tensor([[0.]], device='cuda:0'), pred: tensor([[0.]], device='cuda:0'), target: tensor([[0.]], device='cuda:0')\n",
            "\n",
            "Test set: Average loss: 33.3333, Accuracy: 2/3 (66.67%)\n",
            "\n",
            "output: tensor([[1.]], device='cuda:0'), pred: tensor([[1.]], device='cuda:0'), target: tensor([[1.]], device='cuda:0')\n",
            "output: tensor([[0.]], device='cuda:0'), pred: tensor([[0.]], device='cuda:0'), target: tensor([[1.]], device='cuda:0')\n",
            "output: tensor([[0.]], device='cuda:0'), pred: tensor([[0.]], device='cuda:0'), target: tensor([[0.]], device='cuda:0')\n",
            "\n",
            "Test set: Average loss: 33.3333, Accuracy: 2/3 (66.67%)\n",
            "\n"
          ]
        }
      ],
      "source": [
        "predictor, accuracies, losses = run_train_predictor(x,y,xval,yval,beta =5)"
      ]
    },
    {
      "cell_type": "code",
      "execution_count": 29,
      "metadata": {
        "colab": {
          "base_uri": "https://localhost:8080/",
          "height": 447
        },
        "id": "kvFwOHsc33D1",
        "outputId": "390e5fe6-f6e1-441f-e8c8-575a8aa13445"
      },
      "outputs": [
        {
          "data": {
            "text/plain": [
              "[<matplotlib.lines.Line2D at 0x7f33340fac80>]"
            ]
          },
          "execution_count": 29,
          "metadata": {},
          "output_type": "execute_result"
        },
        {
          "data": {
            "image/png": "[encoded data removed]",
            "text/plain": [
              "<Figure size 640x480 with 1 Axes>"
            ]
          },
          "metadata": {},
          "output_type": "display_data"
        }
      ],
      "source": [
        "plt.plot(range(len(accuracies)),accuracies)"
      ]
    },
    {
      "cell_type": "code",
      "execution_count": 30,
      "metadata": {
        "colab": {
          "base_uri": "https://localhost:8080/",
          "height": 447
        },
        "id": "3TrGE1lb34MM",
        "outputId": "1ee8bda8-81f4-405c-8a1f-b078b3f62084"
      },
      "outputs": [
        {
          "data": {
            "text/plain": [
              "[<matplotlib.lines.Line2D at 0x7f3334190670>]"
            ]
          },
          "execution_count": 30,
          "metadata": {},
          "output_type": "execute_result"
        },
        {
          "data": {
            "image/png": "[encoded data removed]",
            "text/plain": [
              "<Figure size 640x480 with 1 Axes>"
            ]
          },
          "metadata": {},
          "output_type": "display_data"
        }
      ],
      "source": [
        "plt.plot(range(len(losses)),losses)"
      ]
    },
    {
      "cell_type": "markdown",
      "metadata": {
        "id": "zNIw8Z1K433L"
      },
      "source": [
        "## Shapley Taylor Interactoin Index"
      ]
    },
    {
      "cell_type": "code",
      "execution_count": 31,
      "metadata": {
        "id": "oDyPj4_X4c5f"
      },
      "outputs": [],
      "source": [
        "import numpy as np\n",
        "import torch\n",
        "import torch.multiprocessing as mp\n",
        "\n",
        "class ShapleyTaylorInteractionIndex:\n",
        "    def __init__(self,\n",
        "            encodings,\n",
        "            predictor,\n",
        "            device,\n",
        "            num_permutations: int|None = None,\n",
        "            ):\n",
        "        \"\"\"\n",
        "        encodings expected dimension = (individuals,genes,gene_embedding dimension)\n",
        "\n",
        "        \"\"\"\n",
        "        self.num_permutations = num_permutations\n",
        "        self.encodings = encodings\n",
        "        self.predictor = predictor\n",
        "        self.predictor.eval()\n",
        "        self.baseline = self.caluculate_baseline(self.encodings)\n",
        "        self.num_individuals = self.encodings.shape[0]\n",
        "        self.num_genes = self.encodings.shape[1]\n",
        "        self.device = device\n",
        "\n",
        "    def caluculate_baseline(self, encodings):\n",
        "        #verify this is right\n",
        "        baseline = torch.mean(encodings, dim =0)\n",
        "        return baseline\n",
        "\n",
        "    def generate_permutations(self, num_permutations, num_genes):\n",
        "        permutations = [np.random.permutation(num_genes) for _ in range(num_permutations)]\n",
        "        return permutations\n",
        "\n",
        "    def generate_stratified_permutations(self, num_permutations, num_genes, encodings):\n",
        "        pass\n",
        "\n",
        "    def global_shapely_interaction_index(self, num_permutations,shapley_values = True):\n",
        "        if not num_permutations:\n",
        "            if not self.num_permutations:\n",
        "                raise ValueError(\"num_permutations can not be none\")\n",
        "            else:\n",
        "                num_permutations=self.num_permutations\n",
        "\n",
        "        #intitialize matrix\n",
        "        global_shapley_interactions = torch.zeros(size=(self.num_individuals,self.num_genes,self.num_genes))\n",
        "        #make the permutation matrix\n",
        "        permutations = self.generate_permutations(num_permutations,self.num_genes)\n",
        "        \"\"\"\n",
        "        mp.set_start_method('spawn', force=True)  # Force if already set\n",
        "        num_processes = mp.cpu_count()\n",
        "        if num_processes > num_permutations:\n",
        "          num_processes = num_permutations\n",
        "        pool = mp.Pool(processes=num_processes)\n",
        "        #iterate over individuals, could be parallelized\n",
        "        results = pool.starmap(self.local_shapley_interaction_index, [(permutations,k, shapley_values) for k in range(self.num_individuals)])\n",
        "        pool.close()\n",
        "        pool.join()\n",
        "        global_shapley_interactions = torch.stack(results, axis=0)\n",
        "        \"\"\"\n",
        "\n",
        "        for k in range(self.num_individuals):\n",
        "            global_shapley_interactions[k] = self.local_shapley_interaction_index(permutations,k, shapley_values)\n",
        "            print(f\"finished up to {k}\")\n",
        "\n",
        "        #check axis\n",
        "\n",
        "        global_shapley_interactions = torch.mean(global_shapley_interactions,axis = 0)\n",
        "        return global_shapley_interactions\n",
        "\n",
        "    def local_shapley_interaction_index(self,permutations,k, shapley_values):\n",
        "        local_shapley_interaction = torch.zeros(size=(len(permutations),self.num_genes,self.num_genes))\n",
        "        if shapley_values:\n",
        "            marginal_contribution = torch.zeros(size=(len(permutations),self.num_genes))\n",
        "        for iter, pi in enumerate(permutations):\n",
        "            s = []\n",
        "            for i in pi:\n",
        "                if i >=1: s.append(i-1)\n",
        "                for j in pi[i+1:]:\n",
        "                    local_shapley_interaction[iter,i,j] = self.interaction_score(s,i,j,k)\n",
        "                if shapley_values:\n",
        "                    marginal_contribution[iter,i] = self.marginal_contribution(s,i,k)\n",
        "        local_shapley_interaction = torch.mean(local_shapley_interaction,axis=0)\n",
        "        local_shapley_interaction = local_shapley_interaction + +local_shapley_interaction.T\n",
        "        if shapley_values:\n",
        "            local_shapley_interaction += torch.diag(torch.mean(marginal_contribution, axis =0))\n",
        "        #maybe add shapley value here\n",
        "        return local_shapley_interaction\n",
        "\n",
        "    def interaction_score(self, s, i, j,k):\n",
        "        s_ij = self.mask_input(s+[i,j],k).flatten()\n",
        "        s_i = self.mask_input(s+[i],k).flatten()\n",
        "        s_j = self.mask_input(s+[j],k).flatten()\n",
        "        s = self.mask_input(s,k).flatten()\n",
        "        output_s_ij = self.predictor(s_ij.to(self.device))\n",
        "        output_s_i = self.predictor(s_i.to(self.device))\n",
        "        output_s_j = self.predictor(s_j.to(self.device))\n",
        "        output_s = self.predictor(s.to(self.device))\n",
        "        return output_s_ij-output_s_i-output_s_j+output_s\n",
        "\n",
        "    def marginal_contribution(self,s,i,k):\n",
        "        s_i = self.mask_input(s+[i],k).flatten()\n",
        "        s = self.mask_input(s,k).flatten()\n",
        "        output_s_i = self.predictor(s_i.to(self.device))\n",
        "        output_s = self.predictor(s.to(self.device))\n",
        "        return output_s_i - output_s\n",
        "\n",
        "    def mask_input(self, index_set, k):\n",
        "        input = self.baseline.clone()\n",
        "        input[index_set]=self.encodings[k][index_set]\n",
        "        return input\n",
        "\n",
        "\n",
        "\n",
        "\n",
        "\n"
      ]
    },
    {
      "cell_type": "code",
      "execution_count": 32,
      "metadata": {
        "id": "xGF9AJl37QZK"
      },
      "outputs": [],
      "source": [
        "device = 'cuda' if torch.cuda.is_available() else 'cpu'\n",
        "\n"
      ]
    },
    {
      "cell_type": "code",
      "execution_count": 33,
      "metadata": {
        "id": "faXdSsCS42ss"
      },
      "outputs": [],
      "source": [
        "stii = ShapleyTaylorInteractionIndex(reshaped_embeddings_train.permute(1,0,2), predictor=predictor,device=device)"
      ]
    },
    {
      "cell_type": "code",
      "execution_count": 34,
      "metadata": {
        "colab": {
          "base_uri": "https://localhost:8080/"
        },
        "id": "EWSl5HQu58Ui",
        "outputId": "2ee7242d-5b71-4c0f-a5a0-2a7102378294"
      },
      "outputs": [
        {
          "ename": "RuntimeError",
          "evalue": "self must be a matrix",
          "output_type": "error",
          "traceback": [
            "\u001b[0;31m---------------------------------------------------------------------------\u001b[0m",
            "\u001b[0;31mRuntimeError\u001b[0m                              Traceback (most recent call last)",
            "Cell \u001b[0;32mIn[34], line 1\u001b[0m\n\u001b[0;32m----> 1\u001b[0m interaction_index \u001b[38;5;241m=\u001b[39m \u001b[43mstii\u001b[49m\u001b[38;5;241;43m.\u001b[39;49m\u001b[43mglobal_shapely_interaction_index\u001b[49m\u001b[43m(\u001b[49m\u001b[43mnum_permutations\u001b[49m\u001b[38;5;241;43m=\u001b[39;49m\u001b[38;5;241;43m10\u001b[39;49m\u001b[43m)\u001b[49m\n",
            "Cell \u001b[0;32mIn[31], line 62\u001b[0m, in \u001b[0;36mShapleyTaylorInteractionIndex.global_shapely_interaction_index\u001b[0;34m(self, num_permutations, shapley_values)\u001b[0m\n\u001b[1;32m     48\u001b[0m \u001b[38;5;250m\u001b[39m\u001b[38;5;124;03m\"\"\"\u001b[39;00m\n\u001b[1;32m     49\u001b[0m \u001b[38;5;124;03mmp.set_start_method('spawn', force=True)  # Force if already set\u001b[39;00m\n\u001b[1;32m     50\u001b[0m \u001b[38;5;124;03mnum_processes = mp.cpu_count()\u001b[39;00m\n\u001b[0;32m   (...)\u001b[0m\n\u001b[1;32m     58\u001b[0m \u001b[38;5;124;03mglobal_shapley_interactions = torch.stack(results, axis=0)\u001b[39;00m\n\u001b[1;32m     59\u001b[0m \u001b[38;5;124;03m\"\"\"\u001b[39;00m\n\u001b[1;32m     61\u001b[0m \u001b[38;5;28;01mfor\u001b[39;00m k \u001b[38;5;129;01min\u001b[39;00m \u001b[38;5;28mrange\u001b[39m(\u001b[38;5;28mself\u001b[39m\u001b[38;5;241m.\u001b[39mnum_individuals):\n\u001b[0;32m---> 62\u001b[0m     global_shapley_interactions[k] \u001b[38;5;241m=\u001b[39m \u001b[38;5;28;43mself\u001b[39;49m\u001b[38;5;241;43m.\u001b[39;49m\u001b[43mlocal_shapley_interaction_index\u001b[49m\u001b[43m(\u001b[49m\u001b[43mpermutations\u001b[49m\u001b[43m,\u001b[49m\u001b[43mk\u001b[49m\u001b[43m,\u001b[49m\u001b[43m \u001b[49m\u001b[43mshapley_values\u001b[49m\u001b[43m)\u001b[49m\n\u001b[1;32m     63\u001b[0m     \u001b[38;5;28mprint\u001b[39m(\u001b[38;5;124mf\u001b[39m\u001b[38;5;124m\"\u001b[39m\u001b[38;5;124mfinished up to \u001b[39m\u001b[38;5;132;01m{\u001b[39;00mk\u001b[38;5;132;01m}\u001b[39;00m\u001b[38;5;124m\"\u001b[39m)\n\u001b[1;32m     65\u001b[0m \u001b[38;5;66;03m#check axis\u001b[39;00m\n",
            "Cell \u001b[0;32mIn[31], line 79\u001b[0m, in \u001b[0;36mShapleyTaylorInteractionIndex.local_shapley_interaction_index\u001b[0;34m(self, permutations, k, shapley_values)\u001b[0m\n\u001b[1;32m     77\u001b[0m \u001b[38;5;28;01mif\u001b[39;00m i \u001b[38;5;241m>\u001b[39m\u001b[38;5;241m=\u001b[39m\u001b[38;5;241m1\u001b[39m: s\u001b[38;5;241m.\u001b[39mappend(i\u001b[38;5;241m-\u001b[39m\u001b[38;5;241m1\u001b[39m)\n\u001b[1;32m     78\u001b[0m \u001b[38;5;28;01mfor\u001b[39;00m j \u001b[38;5;129;01min\u001b[39;00m pi[i\u001b[38;5;241m+\u001b[39m\u001b[38;5;241m1\u001b[39m:]:\n\u001b[0;32m---> 79\u001b[0m     local_shapley_interaction[\u001b[38;5;28miter\u001b[39m,i,j] \u001b[38;5;241m=\u001b[39m \u001b[38;5;28;43mself\u001b[39;49m\u001b[38;5;241;43m.\u001b[39;49m\u001b[43minteraction_score\u001b[49m\u001b[43m(\u001b[49m\u001b[43ms\u001b[49m\u001b[43m,\u001b[49m\u001b[43mi\u001b[49m\u001b[43m,\u001b[49m\u001b[43mj\u001b[49m\u001b[43m,\u001b[49m\u001b[43mk\u001b[49m\u001b[43m)\u001b[49m\n\u001b[1;32m     80\u001b[0m \u001b[38;5;28;01mif\u001b[39;00m shapley_values:\n\u001b[1;32m     81\u001b[0m     marginal_contribution[\u001b[38;5;28miter\u001b[39m,i] \u001b[38;5;241m=\u001b[39m \u001b[38;5;28mself\u001b[39m\u001b[38;5;241m.\u001b[39mmarginal_contribution(s,i,k)\n",
            "Cell \u001b[0;32mIn[31], line 94\u001b[0m, in \u001b[0;36mShapleyTaylorInteractionIndex.interaction_score\u001b[0;34m(self, s, i, j, k)\u001b[0m\n\u001b[1;32m     92\u001b[0m s_j \u001b[38;5;241m=\u001b[39m \u001b[38;5;28mself\u001b[39m\u001b[38;5;241m.\u001b[39mmask_input(s\u001b[38;5;241m+\u001b[39m[j],k)\u001b[38;5;241m.\u001b[39mflatten()\n\u001b[1;32m     93\u001b[0m s \u001b[38;5;241m=\u001b[39m \u001b[38;5;28mself\u001b[39m\u001b[38;5;241m.\u001b[39mmask_input(s,k)\u001b[38;5;241m.\u001b[39mflatten()\n\u001b[0;32m---> 94\u001b[0m output_s_ij \u001b[38;5;241m=\u001b[39m \u001b[38;5;28;43mself\u001b[39;49m\u001b[38;5;241;43m.\u001b[39;49m\u001b[43mpredictor\u001b[49m\u001b[43m(\u001b[49m\u001b[43ms_ij\u001b[49m\u001b[38;5;241;43m.\u001b[39;49m\u001b[43mto\u001b[49m\u001b[43m(\u001b[49m\u001b[38;5;28;43mself\u001b[39;49m\u001b[38;5;241;43m.\u001b[39;49m\u001b[43mdevice\u001b[49m\u001b[43m)\u001b[49m\u001b[43m)\u001b[49m\n\u001b[1;32m     95\u001b[0m output_s_i \u001b[38;5;241m=\u001b[39m \u001b[38;5;28mself\u001b[39m\u001b[38;5;241m.\u001b[39mpredictor(s_i\u001b[38;5;241m.\u001b[39mto(\u001b[38;5;28mself\u001b[39m\u001b[38;5;241m.\u001b[39mdevice))\n\u001b[1;32m     96\u001b[0m output_s_j \u001b[38;5;241m=\u001b[39m \u001b[38;5;28mself\u001b[39m\u001b[38;5;241m.\u001b[39mpredictor(s_j\u001b[38;5;241m.\u001b[39mto(\u001b[38;5;28mself\u001b[39m\u001b[38;5;241m.\u001b[39mdevice))\n",
            "File \u001b[0;32m~/anaconda/anaconda3/envs/exmd/lib/python3.10/site-packages/torch/nn/modules/module.py:1736\u001b[0m, in \u001b[0;36mModule._wrapped_call_impl\u001b[0;34m(self, *args, **kwargs)\u001b[0m\n\u001b[1;32m   1734\u001b[0m     \u001b[38;5;28;01mreturn\u001b[39;00m \u001b[38;5;28mself\u001b[39m\u001b[38;5;241m.\u001b[39m_compiled_call_impl(\u001b[38;5;241m*\u001b[39margs, \u001b[38;5;241m*\u001b[39m\u001b[38;5;241m*\u001b[39mkwargs)  \u001b[38;5;66;03m# type: ignore[misc]\u001b[39;00m\n\u001b[1;32m   1735\u001b[0m \u001b[38;5;28;01melse\u001b[39;00m:\n\u001b[0;32m-> 1736\u001b[0m     \u001b[38;5;28;01mreturn\u001b[39;00m \u001b[38;5;28;43mself\u001b[39;49m\u001b[38;5;241;43m.\u001b[39;49m\u001b[43m_call_impl\u001b[49m\u001b[43m(\u001b[49m\u001b[38;5;241;43m*\u001b[39;49m\u001b[43margs\u001b[49m\u001b[43m,\u001b[49m\u001b[43m \u001b[49m\u001b[38;5;241;43m*\u001b[39;49m\u001b[38;5;241;43m*\u001b[39;49m\u001b[43mkwargs\u001b[49m\u001b[43m)\u001b[49m\n",
            "File \u001b[0;32m~/anaconda/anaconda3/envs/exmd/lib/python3.10/site-packages/torch/nn/modules/module.py:1747\u001b[0m, in \u001b[0;36mModule._call_impl\u001b[0;34m(self, *args, **kwargs)\u001b[0m\n\u001b[1;32m   1742\u001b[0m \u001b[38;5;66;03m# If we don't have any hooks, we want to skip the rest of the logic in\u001b[39;00m\n\u001b[1;32m   1743\u001b[0m \u001b[38;5;66;03m# this function, and just call forward.\u001b[39;00m\n\u001b[1;32m   1744\u001b[0m \u001b[38;5;28;01mif\u001b[39;00m \u001b[38;5;129;01mnot\u001b[39;00m (\u001b[38;5;28mself\u001b[39m\u001b[38;5;241m.\u001b[39m_backward_hooks \u001b[38;5;129;01mor\u001b[39;00m \u001b[38;5;28mself\u001b[39m\u001b[38;5;241m.\u001b[39m_backward_pre_hooks \u001b[38;5;129;01mor\u001b[39;00m \u001b[38;5;28mself\u001b[39m\u001b[38;5;241m.\u001b[39m_forward_hooks \u001b[38;5;129;01mor\u001b[39;00m \u001b[38;5;28mself\u001b[39m\u001b[38;5;241m.\u001b[39m_forward_pre_hooks\n\u001b[1;32m   1745\u001b[0m         \u001b[38;5;129;01mor\u001b[39;00m _global_backward_pre_hooks \u001b[38;5;129;01mor\u001b[39;00m _global_backward_hooks\n\u001b[1;32m   1746\u001b[0m         \u001b[38;5;129;01mor\u001b[39;00m _global_forward_hooks \u001b[38;5;129;01mor\u001b[39;00m _global_forward_pre_hooks):\n\u001b[0;32m-> 1747\u001b[0m     \u001b[38;5;28;01mreturn\u001b[39;00m \u001b[43mforward_call\u001b[49m\u001b[43m(\u001b[49m\u001b[38;5;241;43m*\u001b[39;49m\u001b[43margs\u001b[49m\u001b[43m,\u001b[49m\u001b[43m \u001b[49m\u001b[38;5;241;43m*\u001b[39;49m\u001b[38;5;241;43m*\u001b[39;49m\u001b[43mkwargs\u001b[49m\u001b[43m)\u001b[49m\n\u001b[1;32m   1749\u001b[0m result \u001b[38;5;241m=\u001b[39m \u001b[38;5;28;01mNone\u001b[39;00m\n\u001b[1;32m   1750\u001b[0m called_always_called_hooks \u001b[38;5;241m=\u001b[39m \u001b[38;5;28mset\u001b[39m()\n",
            "Cell \u001b[0;32mIn[15], line 34\u001b[0m, in \u001b[0;36mPredictor.forward\u001b[0;34m(self, x)\u001b[0m\n\u001b[1;32m     33\u001b[0m \u001b[38;5;28;01mdef\u001b[39;00m \u001b[38;5;21mforward\u001b[39m(\u001b[38;5;28mself\u001b[39m, x):\n\u001b[0;32m---> 34\u001b[0m     x1 \u001b[38;5;241m=\u001b[39m \u001b[38;5;28mself\u001b[39m\u001b[38;5;241m.\u001b[39mactivation_fn(\u001b[38;5;28;43mself\u001b[39;49m\u001b[38;5;241;43m.\u001b[39;49m\u001b[43mLayer1\u001b[49m\u001b[43m(\u001b[49m\u001b[43mx\u001b[49m\u001b[43m)\u001b[49m)\n\u001b[1;32m     35\u001b[0m     x2 \u001b[38;5;241m=\u001b[39m \u001b[38;5;28mself\u001b[39m\u001b[38;5;241m.\u001b[39mLayer2(x1)\n\u001b[1;32m     36\u001b[0m     output \u001b[38;5;241m=\u001b[39m torch\u001b[38;5;241m.\u001b[39msigmoid(x2)\n",
            "File \u001b[0;32m~/anaconda/anaconda3/envs/exmd/lib/python3.10/site-packages/torch/nn/modules/module.py:1736\u001b[0m, in \u001b[0;36mModule._wrapped_call_impl\u001b[0;34m(self, *args, **kwargs)\u001b[0m\n\u001b[1;32m   1734\u001b[0m     \u001b[38;5;28;01mreturn\u001b[39;00m \u001b[38;5;28mself\u001b[39m\u001b[38;5;241m.\u001b[39m_compiled_call_impl(\u001b[38;5;241m*\u001b[39margs, \u001b[38;5;241m*\u001b[39m\u001b[38;5;241m*\u001b[39mkwargs)  \u001b[38;5;66;03m# type: ignore[misc]\u001b[39;00m\n\u001b[1;32m   1735\u001b[0m \u001b[38;5;28;01melse\u001b[39;00m:\n\u001b[0;32m-> 1736\u001b[0m     \u001b[38;5;28;01mreturn\u001b[39;00m \u001b[38;5;28;43mself\u001b[39;49m\u001b[38;5;241;43m.\u001b[39;49m\u001b[43m_call_impl\u001b[49m\u001b[43m(\u001b[49m\u001b[38;5;241;43m*\u001b[39;49m\u001b[43margs\u001b[49m\u001b[43m,\u001b[49m\u001b[43m \u001b[49m\u001b[38;5;241;43m*\u001b[39;49m\u001b[38;5;241;43m*\u001b[39;49m\u001b[43mkwargs\u001b[49m\u001b[43m)\u001b[49m\n",
            "File \u001b[0;32m~/anaconda/anaconda3/envs/exmd/lib/python3.10/site-packages/torch/nn/modules/module.py:1747\u001b[0m, in \u001b[0;36mModule._call_impl\u001b[0;34m(self, *args, **kwargs)\u001b[0m\n\u001b[1;32m   1742\u001b[0m \u001b[38;5;66;03m# If we don't have any hooks, we want to skip the rest of the logic in\u001b[39;00m\n\u001b[1;32m   1743\u001b[0m \u001b[38;5;66;03m# this function, and just call forward.\u001b[39;00m\n\u001b[1;32m   1744\u001b[0m \u001b[38;5;28;01mif\u001b[39;00m \u001b[38;5;129;01mnot\u001b[39;00m (\u001b[38;5;28mself\u001b[39m\u001b[38;5;241m.\u001b[39m_backward_hooks \u001b[38;5;129;01mor\u001b[39;00m \u001b[38;5;28mself\u001b[39m\u001b[38;5;241m.\u001b[39m_backward_pre_hooks \u001b[38;5;129;01mor\u001b[39;00m \u001b[38;5;28mself\u001b[39m\u001b[38;5;241m.\u001b[39m_forward_hooks \u001b[38;5;129;01mor\u001b[39;00m \u001b[38;5;28mself\u001b[39m\u001b[38;5;241m.\u001b[39m_forward_pre_hooks\n\u001b[1;32m   1745\u001b[0m         \u001b[38;5;129;01mor\u001b[39;00m _global_backward_pre_hooks \u001b[38;5;129;01mor\u001b[39;00m _global_backward_hooks\n\u001b[1;32m   1746\u001b[0m         \u001b[38;5;129;01mor\u001b[39;00m _global_forward_hooks \u001b[38;5;129;01mor\u001b[39;00m _global_forward_pre_hooks):\n\u001b[0;32m-> 1747\u001b[0m     \u001b[38;5;28;01mreturn\u001b[39;00m \u001b[43mforward_call\u001b[49m\u001b[43m(\u001b[49m\u001b[38;5;241;43m*\u001b[39;49m\u001b[43margs\u001b[49m\u001b[43m,\u001b[49m\u001b[43m \u001b[49m\u001b[38;5;241;43m*\u001b[39;49m\u001b[38;5;241;43m*\u001b[39;49m\u001b[43mkwargs\u001b[49m\u001b[43m)\u001b[49m\n\u001b[1;32m   1749\u001b[0m result \u001b[38;5;241m=\u001b[39m \u001b[38;5;28;01mNone\u001b[39;00m\n\u001b[1;32m   1750\u001b[0m called_always_called_hooks \u001b[38;5;241m=\u001b[39m \u001b[38;5;28mset\u001b[39m()\n",
            "Cell \u001b[0;32mIn[15], line 19\u001b[0m, in \u001b[0;36mLinearLayer.forward\u001b[0;34m(self, x)\u001b[0m\n\u001b[1;32m     18\u001b[0m \u001b[38;5;28;01mdef\u001b[39;00m \u001b[38;5;21mforward\u001b[39m(\u001b[38;5;28mself\u001b[39m, x):\n\u001b[0;32m---> 19\u001b[0m     xw \u001b[38;5;241m=\u001b[39m \u001b[43mtorch\u001b[49m\u001b[38;5;241;43m.\u001b[39;49m\u001b[43mmm\u001b[49m\u001b[43m(\u001b[49m\u001b[43mx\u001b[49m\u001b[43m,\u001b[49m\u001b[43m \u001b[49m\u001b[38;5;28;43mself\u001b[39;49m\u001b[38;5;241;43m.\u001b[39;49m\u001b[43mw\u001b[49m\u001b[43m)\u001b[49m\n\u001b[1;32m     20\u001b[0m     output \u001b[38;5;241m=\u001b[39m xw \u001b[38;5;241m+\u001b[39m \u001b[38;5;28mself\u001b[39m\u001b[38;5;241m.\u001b[39mbias          \n\u001b[1;32m     21\u001b[0m     \u001b[38;5;28;01mreturn\u001b[39;00m output\n",
            "\u001b[0;31mRuntimeError\u001b[0m: self must be a matrix"
          ]
        }
      ],
      "source": [
        "interaction_index = stii.global_shapely_interaction_index(num_permutations=10)"
      ]
    },
    {
      "cell_type": "code",
      "execution_count": 151,
      "metadata": {},
      "outputs": [
        {
          "name": "stderr",
          "output_type": "stream",
          "text": [
            "/tmp/ipykernel_205847/3884116217.py:1: UserWarning: To copy construct from a tensor, it is recommended to use sourceTensor.clone().detach() or sourceTensor.clone().detach().requires_grad_(True), rather than torch.tensor(sourceTensor).\n",
            "  model(torch.tensor(reshaped_embeddings_train[0].flatten()).to(device))\n"
          ]
        },
        {
          "ename": "RuntimeError",
          "evalue": "self must be a matrix",
          "output_type": "error",
          "traceback": [
            "\u001b[0;31m---------------------------------------------------------------------------\u001b[0m",
            "\u001b[0;31mRuntimeError\u001b[0m                              Traceback (most recent call last)",
            "Cell \u001b[0;32mIn[151], line 1\u001b[0m\n\u001b[0;32m----> 1\u001b[0m \u001b[43mmodel\u001b[49m\u001b[43m(\u001b[49m\u001b[43mtorch\u001b[49m\u001b[38;5;241;43m.\u001b[39;49m\u001b[43mtensor\u001b[49m\u001b[43m(\u001b[49m\u001b[43mreshaped_embeddings_train\u001b[49m\u001b[43m[\u001b[49m\u001b[38;5;241;43m0\u001b[39;49m\u001b[43m]\u001b[49m\u001b[38;5;241;43m.\u001b[39;49m\u001b[43mflatten\u001b[49m\u001b[43m(\u001b[49m\u001b[43m)\u001b[49m\u001b[43m)\u001b[49m\u001b[38;5;241;43m.\u001b[39;49m\u001b[43mto\u001b[49m\u001b[43m(\u001b[49m\u001b[43mdevice\u001b[49m\u001b[43m)\u001b[49m\u001b[43m)\u001b[49m\n",
            "File \u001b[0;32m~/anaconda/anaconda3/envs/exmd/lib/python3.10/site-packages/torch/nn/modules/module.py:1736\u001b[0m, in \u001b[0;36mModule._wrapped_call_impl\u001b[0;34m(self, *args, **kwargs)\u001b[0m\n\u001b[1;32m   1734\u001b[0m     \u001b[38;5;28;01mreturn\u001b[39;00m \u001b[38;5;28mself\u001b[39m\u001b[38;5;241m.\u001b[39m_compiled_call_impl(\u001b[38;5;241m*\u001b[39margs, \u001b[38;5;241m*\u001b[39m\u001b[38;5;241m*\u001b[39mkwargs)  \u001b[38;5;66;03m# type: ignore[misc]\u001b[39;00m\n\u001b[1;32m   1735\u001b[0m \u001b[38;5;28;01melse\u001b[39;00m:\n\u001b[0;32m-> 1736\u001b[0m     \u001b[38;5;28;01mreturn\u001b[39;00m \u001b[38;5;28;43mself\u001b[39;49m\u001b[38;5;241;43m.\u001b[39;49m\u001b[43m_call_impl\u001b[49m\u001b[43m(\u001b[49m\u001b[38;5;241;43m*\u001b[39;49m\u001b[43margs\u001b[49m\u001b[43m,\u001b[49m\u001b[43m \u001b[49m\u001b[38;5;241;43m*\u001b[39;49m\u001b[38;5;241;43m*\u001b[39;49m\u001b[43mkwargs\u001b[49m\u001b[43m)\u001b[49m\n",
            "File \u001b[0;32m~/anaconda/anaconda3/envs/exmd/lib/python3.10/site-packages/torch/nn/modules/module.py:1747\u001b[0m, in \u001b[0;36mModule._call_impl\u001b[0;34m(self, *args, **kwargs)\u001b[0m\n\u001b[1;32m   1742\u001b[0m \u001b[38;5;66;03m# If we don't have any hooks, we want to skip the rest of the logic in\u001b[39;00m\n\u001b[1;32m   1743\u001b[0m \u001b[38;5;66;03m# this function, and just call forward.\u001b[39;00m\n\u001b[1;32m   1744\u001b[0m \u001b[38;5;28;01mif\u001b[39;00m \u001b[38;5;129;01mnot\u001b[39;00m (\u001b[38;5;28mself\u001b[39m\u001b[38;5;241m.\u001b[39m_backward_hooks \u001b[38;5;129;01mor\u001b[39;00m \u001b[38;5;28mself\u001b[39m\u001b[38;5;241m.\u001b[39m_backward_pre_hooks \u001b[38;5;129;01mor\u001b[39;00m \u001b[38;5;28mself\u001b[39m\u001b[38;5;241m.\u001b[39m_forward_hooks \u001b[38;5;129;01mor\u001b[39;00m \u001b[38;5;28mself\u001b[39m\u001b[38;5;241m.\u001b[39m_forward_pre_hooks\n\u001b[1;32m   1745\u001b[0m         \u001b[38;5;129;01mor\u001b[39;00m _global_backward_pre_hooks \u001b[38;5;129;01mor\u001b[39;00m _global_backward_hooks\n\u001b[1;32m   1746\u001b[0m         \u001b[38;5;129;01mor\u001b[39;00m _global_forward_hooks \u001b[38;5;129;01mor\u001b[39;00m _global_forward_pre_hooks):\n\u001b[0;32m-> 1747\u001b[0m     \u001b[38;5;28;01mreturn\u001b[39;00m \u001b[43mforward_call\u001b[49m\u001b[43m(\u001b[49m\u001b[38;5;241;43m*\u001b[39;49m\u001b[43margs\u001b[49m\u001b[43m,\u001b[49m\u001b[43m \u001b[49m\u001b[38;5;241;43m*\u001b[39;49m\u001b[38;5;241;43m*\u001b[39;49m\u001b[43mkwargs\u001b[49m\u001b[43m)\u001b[49m\n\u001b[1;32m   1749\u001b[0m result \u001b[38;5;241m=\u001b[39m \u001b[38;5;28;01mNone\u001b[39;00m\n\u001b[1;32m   1750\u001b[0m called_always_called_hooks \u001b[38;5;241m=\u001b[39m \u001b[38;5;28mset\u001b[39m()\n",
            "Cell \u001b[0;32mIn[106], line 34\u001b[0m, in \u001b[0;36mPredictor.forward\u001b[0;34m(self, x)\u001b[0m\n\u001b[1;32m     33\u001b[0m \u001b[38;5;28;01mdef\u001b[39;00m \u001b[38;5;21mforward\u001b[39m(\u001b[38;5;28mself\u001b[39m, x):\n\u001b[0;32m---> 34\u001b[0m     x1 \u001b[38;5;241m=\u001b[39m \u001b[38;5;28mself\u001b[39m\u001b[38;5;241m.\u001b[39mactivation_fn(\u001b[38;5;28;43mself\u001b[39;49m\u001b[38;5;241;43m.\u001b[39;49m\u001b[43mLayer1\u001b[49m\u001b[43m(\u001b[49m\u001b[43mx\u001b[49m\u001b[43m)\u001b[49m)\n\u001b[1;32m     35\u001b[0m     x2 \u001b[38;5;241m=\u001b[39m \u001b[38;5;28mself\u001b[39m\u001b[38;5;241m.\u001b[39mLayer2(x1)\n\u001b[1;32m     36\u001b[0m     output \u001b[38;5;241m=\u001b[39m torch\u001b[38;5;241m.\u001b[39msigmoid(x2)\n",
            "File \u001b[0;32m~/anaconda/anaconda3/envs/exmd/lib/python3.10/site-packages/torch/nn/modules/module.py:1736\u001b[0m, in \u001b[0;36mModule._wrapped_call_impl\u001b[0;34m(self, *args, **kwargs)\u001b[0m\n\u001b[1;32m   1734\u001b[0m     \u001b[38;5;28;01mreturn\u001b[39;00m \u001b[38;5;28mself\u001b[39m\u001b[38;5;241m.\u001b[39m_compiled_call_impl(\u001b[38;5;241m*\u001b[39margs, \u001b[38;5;241m*\u001b[39m\u001b[38;5;241m*\u001b[39mkwargs)  \u001b[38;5;66;03m# type: ignore[misc]\u001b[39;00m\n\u001b[1;32m   1735\u001b[0m \u001b[38;5;28;01melse\u001b[39;00m:\n\u001b[0;32m-> 1736\u001b[0m     \u001b[38;5;28;01mreturn\u001b[39;00m \u001b[38;5;28;43mself\u001b[39;49m\u001b[38;5;241;43m.\u001b[39;49m\u001b[43m_call_impl\u001b[49m\u001b[43m(\u001b[49m\u001b[38;5;241;43m*\u001b[39;49m\u001b[43margs\u001b[49m\u001b[43m,\u001b[49m\u001b[43m \u001b[49m\u001b[38;5;241;43m*\u001b[39;49m\u001b[38;5;241;43m*\u001b[39;49m\u001b[43mkwargs\u001b[49m\u001b[43m)\u001b[49m\n",
            "File \u001b[0;32m~/anaconda/anaconda3/envs/exmd/lib/python3.10/site-packages/torch/nn/modules/module.py:1747\u001b[0m, in \u001b[0;36mModule._call_impl\u001b[0;34m(self, *args, **kwargs)\u001b[0m\n\u001b[1;32m   1742\u001b[0m \u001b[38;5;66;03m# If we don't have any hooks, we want to skip the rest of the logic in\u001b[39;00m\n\u001b[1;32m   1743\u001b[0m \u001b[38;5;66;03m# this function, and just call forward.\u001b[39;00m\n\u001b[1;32m   1744\u001b[0m \u001b[38;5;28;01mif\u001b[39;00m \u001b[38;5;129;01mnot\u001b[39;00m (\u001b[38;5;28mself\u001b[39m\u001b[38;5;241m.\u001b[39m_backward_hooks \u001b[38;5;129;01mor\u001b[39;00m \u001b[38;5;28mself\u001b[39m\u001b[38;5;241m.\u001b[39m_backward_pre_hooks \u001b[38;5;129;01mor\u001b[39;00m \u001b[38;5;28mself\u001b[39m\u001b[38;5;241m.\u001b[39m_forward_hooks \u001b[38;5;129;01mor\u001b[39;00m \u001b[38;5;28mself\u001b[39m\u001b[38;5;241m.\u001b[39m_forward_pre_hooks\n\u001b[1;32m   1745\u001b[0m         \u001b[38;5;129;01mor\u001b[39;00m _global_backward_pre_hooks \u001b[38;5;129;01mor\u001b[39;00m _global_backward_hooks\n\u001b[1;32m   1746\u001b[0m         \u001b[38;5;129;01mor\u001b[39;00m _global_forward_hooks \u001b[38;5;129;01mor\u001b[39;00m _global_forward_pre_hooks):\n\u001b[0;32m-> 1747\u001b[0m     \u001b[38;5;28;01mreturn\u001b[39;00m \u001b[43mforward_call\u001b[49m\u001b[43m(\u001b[49m\u001b[38;5;241;43m*\u001b[39;49m\u001b[43margs\u001b[49m\u001b[43m,\u001b[49m\u001b[43m \u001b[49m\u001b[38;5;241;43m*\u001b[39;49m\u001b[38;5;241;43m*\u001b[39;49m\u001b[43mkwargs\u001b[49m\u001b[43m)\u001b[49m\n\u001b[1;32m   1749\u001b[0m result \u001b[38;5;241m=\u001b[39m \u001b[38;5;28;01mNone\u001b[39;00m\n\u001b[1;32m   1750\u001b[0m called_always_called_hooks \u001b[38;5;241m=\u001b[39m \u001b[38;5;28mset\u001b[39m()\n",
            "Cell \u001b[0;32mIn[106], line 19\u001b[0m, in \u001b[0;36mLinearLayer.forward\u001b[0;34m(self, x)\u001b[0m\n\u001b[1;32m     18\u001b[0m \u001b[38;5;28;01mdef\u001b[39;00m \u001b[38;5;21mforward\u001b[39m(\u001b[38;5;28mself\u001b[39m, x):\n\u001b[0;32m---> 19\u001b[0m     xw \u001b[38;5;241m=\u001b[39m \u001b[43mtorch\u001b[49m\u001b[38;5;241;43m.\u001b[39;49m\u001b[43mmm\u001b[49m\u001b[43m(\u001b[49m\u001b[43mx\u001b[49m\u001b[43m,\u001b[49m\u001b[43m \u001b[49m\u001b[38;5;28;43mself\u001b[39;49m\u001b[38;5;241;43m.\u001b[39;49m\u001b[43mw\u001b[49m\u001b[43m)\u001b[49m\n\u001b[1;32m     20\u001b[0m     output \u001b[38;5;241m=\u001b[39m xw \u001b[38;5;241m+\u001b[39m \u001b[38;5;28mself\u001b[39m\u001b[38;5;241m.\u001b[39mbias          \n\u001b[1;32m     21\u001b[0m     \u001b[38;5;28;01mreturn\u001b[39;00m output\n",
            "\u001b[0;31mRuntimeError\u001b[0m: self must be a matrix"
          ]
        }
      ],
      "source": [
        "model(torch.tensor(reshaped_embeddings_train[0].flatten()).to(device))"
      ]
    },
    {
      "cell_type": "code",
      "execution_count": 241,
      "metadata": {
        "colab": {
          "base_uri": "https://localhost:8080/"
        },
        "id": "wKPwSl1S6Ees",
        "outputId": "121e358e-fadd-4ef7-eb28-30a22f1bf68b"
      },
      "outputs": [
        {
          "data": {
            "text/plain": [
              "tensor([[-1.7793e-03,  0.0000e+00,  3.8122e-03, -1.9005e-02,  1.2202e-02,\n",
              "         -2.2341e-03, -1.1627e-03,  2.3929e-03,  1.6152e-03,  1.1388e-02,\n",
              "         -5.5532e-04,  8.1764e-04, -9.4488e-04,  6.2936e-03,  2.3614e-03,\n",
              "          2.2948e-03],\n",
              "        [ 0.0000e+00,  2.0194e-03, -2.5970e-03,  9.9479e-03, -1.3407e-03,\n",
              "         -2.1404e-04, -1.3492e-04,  7.0312e-03,  3.1060e-03,  1.2953e-03,\n",
              "         -5.4395e-04, -4.6956e-04,  2.3781e-03, -2.4488e-03,  0.0000e+00,\n",
              "         -3.3699e-04],\n",
              "        [ 3.8122e-03, -2.5970e-03,  3.0766e-03,  9.1560e-03, -5.4178e-04,\n",
              "          2.8770e-03,  2.9291e-03, -2.4455e-05,  1.2700e-03, -3.4513e-03,\n",
              "         -5.8095e-04,  2.4117e-04,  2.7206e-04, -2.2466e-03,  2.1794e-03,\n",
              "          6.2476e-03],\n",
              "        [-1.9005e-02,  9.9479e-03,  9.1560e-03, -1.7375e-02,  2.8112e-02,\n",
              "          1.3177e-02, -9.9338e-04, -1.3489e-02, -1.1640e-02,  4.4284e-02,\n",
              "          4.0434e-02, -1.0625e-02, -6.7691e-03,  2.8587e-02,  3.2564e-03,\n",
              "         -9.7593e-03],\n",
              "        [ 1.2202e-02, -1.3407e-03, -5.4178e-04,  2.8112e-02,  5.9113e-03,\n",
              "         -9.4843e-03, -8.1242e-04,  5.6778e-03,  5.8117e-03, -1.0389e-02,\n",
              "          0.0000e+00, -1.5161e-03,  8.4309e-03, -6.6406e-03, -1.3117e-03,\n",
              "          1.7420e-02],\n",
              "        [-2.2341e-03, -2.1404e-04,  2.8770e-03,  1.3177e-02, -9.4843e-03,\n",
              "         -5.5796e-03, -6.8329e-04, -1.0236e-02, -4.2315e-03,  7.1015e-04,\n",
              "          4.5294e-03,  3.4702e-03, -1.9113e-03,  3.9380e-04,  1.2891e-03,\n",
              "         -2.4431e-03],\n",
              "        [-1.1627e-03, -1.3492e-04,  2.9291e-03, -9.9338e-04, -8.1242e-04,\n",
              "         -6.8329e-04,  1.3632e-03, -1.7279e-03, -1.7797e-03, -1.4802e-03,\n",
              "          5.2137e-04,  4.6923e-04, -2.1462e-04,  1.0379e-05, -9.8285e-04,\n",
              "          1.3749e-04],\n",
              "        [ 2.3929e-03,  7.0312e-03, -2.4455e-05, -1.3489e-02,  5.6778e-03,\n",
              "         -1.0236e-02, -1.7279e-03,  1.5625e-04,  1.3732e-03,  1.9044e-03,\n",
              "          6.3466e-03, -4.9309e-03,  9.9631e-05,  8.6067e-04, -5.1203e-03,\n",
              "          3.8178e-03],\n",
              "        [ 1.6152e-03,  3.1060e-03,  1.2700e-03, -1.1640e-02,  5.8117e-03,\n",
              "         -4.2315e-03, -1.7797e-03,  1.3732e-03,  9.5694e-03,  0.0000e+00,\n",
              "          0.0000e+00, -4.9474e-03, -2.1927e-04, -1.7638e-03, -1.0715e-03,\n",
              "          3.5662e-04],\n",
              "        [ 1.1388e-02,  1.2953e-03, -3.4513e-03,  4.4284e-02, -1.0389e-02,\n",
              "          7.1015e-04, -1.4802e-03,  1.9044e-03,  0.0000e+00, -1.6305e-02,\n",
              "          1.2019e-03,  1.1986e-03, -7.4911e-04, -9.3549e-03, -6.3035e-04,\n",
              "          6.8673e-03],\n",
              "        [-5.5532e-04, -5.4395e-04, -5.8095e-04,  4.0434e-02,  0.0000e+00,\n",
              "          4.5294e-03,  5.2137e-04,  6.3466e-03,  0.0000e+00,  1.2019e-03,\n",
              "         -1.2792e-02, -1.1000e-03,  2.6173e-03,  3.1353e-04, -8.8054e-04,\n",
              "          3.6841e-04],\n",
              "        [ 8.1764e-04, -4.6956e-04,  2.4117e-04, -1.0625e-02, -1.5161e-03,\n",
              "          3.4702e-03,  4.6923e-04, -4.9309e-03, -4.9474e-03,  1.1986e-03,\n",
              "         -1.1000e-03,  1.2527e-02, -2.3638e-03, -8.2723e-04, -1.7164e-03,\n",
              "         -1.1734e-02],\n",
              "        [-9.4488e-04,  2.3781e-03,  2.7206e-04, -6.7691e-03,  8.4309e-03,\n",
              "         -1.9113e-03, -2.1462e-04,  9.9631e-05, -2.1927e-04, -7.4911e-04,\n",
              "          2.6173e-03, -2.3638e-03, -4.2324e-03, -1.5987e-04,  3.4134e-03,\n",
              "         -4.1526e-04],\n",
              "        [ 6.2936e-03, -2.4488e-03, -2.2466e-03,  2.8587e-02, -6.6406e-03,\n",
              "          3.9380e-04,  1.0379e-05,  8.6067e-04, -1.7638e-03, -9.3549e-03,\n",
              "          3.1353e-04, -8.2723e-04, -1.5987e-04,  1.3464e-03, -2.8642e-04,\n",
              "          2.1568e-03],\n",
              "        [ 2.3614e-03,  0.0000e+00,  2.1794e-03,  3.2564e-03, -1.3117e-03,\n",
              "          1.2891e-03, -9.8285e-04, -5.1203e-03, -1.0715e-03, -6.3035e-04,\n",
              "         -8.8054e-04, -1.7164e-03,  3.4134e-03, -2.8642e-04,  1.0859e-02,\n",
              "         -1.2482e-03],\n",
              "        [ 2.2948e-03, -3.3699e-04,  6.2476e-03, -9.7593e-03,  1.7420e-02,\n",
              "         -2.4431e-03,  1.3749e-04,  3.8178e-03,  3.5662e-04,  6.8673e-03,\n",
              "          3.6841e-04, -1.1734e-02, -4.1526e-04,  2.1568e-03, -1.2482e-03,\n",
              "         -1.5593e-04]], grad_fn=<MeanBackward1>)"
            ]
          },
          "execution_count": 241,
          "metadata": {},
          "output_type": "execute_result"
        }
      ],
      "source": [
        "interaction_index"
      ]
    },
    {
      "cell_type": "code",
      "execution_count": 243,
      "metadata": {},
      "outputs": [],
      "source": [
        "# Create a mask with zeros in the lower triangle and ones in the upper triangle\n",
        "mask = torch.triu(torch.ones_like(interaction_index), diagonal=1)\n",
        "\n",
        "# Multiply the interaction_index by the mask\n",
        "upper_interaction_index = interaction_index * mask"
      ]
    },
    {
      "cell_type": "code",
      "execution_count": 253,
      "metadata": {},
      "outputs": [
        {
          "data": {
            "text/plain": [
              "<Axes: >"
            ]
          },
          "execution_count": 253,
          "metadata": {},
          "output_type": "execute_result"
        },
        {
          "data": {
            "image/png": "[encoded data removed]",
            "text/plain": [
              "<Figure size 640x480 with 2 Axes>"
            ]
          },
          "metadata": {},
          "output_type": "display_data"
        }
      ],
      "source": [
        "from matplotlib.colors import LinearSegmentedColormap\n",
        "\n",
        "# Create a custom colormap\n",
        "cmap = LinearSegmentedColormap.from_list('custom_cmap', ['blue', 'white', 'red'])\n",
        "\n",
        "# Use the custom colormap in the heatmap\n",
        "sns.heatmap(interaction_index.detach().numpy(), cmap=cmap)"
      ]
    },
    {
      "cell_type": "code",
      "execution_count": 251,
      "metadata": {
        "id": "qb7kCABqQO_e"
      },
      "outputs": [
        {
          "data": {
            "text/plain": [
              "<Axes: >"
            ]
          },
          "execution_count": 251,
          "metadata": {},
          "output_type": "execute_result"
        },
        {
          "data": {
            "image/png": "[encoded data removed]",
            "text/plain": [
              "<Figure size 640x480 with 2 Axes>"
            ]
          },
          "metadata": {},
          "output_type": "display_data"
        }
      ],
      "source": [
        "import seaborn as sns\n",
        "sns.heatmap(upper_interaction_index.detach().numpy(), cmap='seismic')\n"
      ]
    },
    {
      "cell_type": "code",
      "execution_count": null,
      "metadata": {},
      "outputs": [],
      "source": []
    }
  ],
  "metadata": {
    "accelerator": "GPU",
    "colab": {
      "collapsed_sections": [
        "gnD3Z9eRUe0G",
        "pPz3n-oI6XQX",
        "qr1uLqDtbcwa"
      ],
      "gpuType": "T4",
      "provenance": []
    },
    "kernelspec": {
      "display_name": "exmd",
      "language": "python",
      "name": "python3"
    },
    "language_info": {
      "codemirror_mode": {
        "name": "ipython",
        "version": 3
      },
      "file_extension": ".py",
      "mimetype": "text/x-python",
      "name": "python",
      "nbconvert_exporter": "python",
      "pygments_lexer": "ipython3",
      "version": "3.10.15"
    }
  },
  "nbformat": 4,
  "nbformat_minor": 0
}
