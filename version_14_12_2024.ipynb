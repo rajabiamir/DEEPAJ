{
  "cells": [
    {
      "cell_type": "markdown",
      "metadata": {
        "id": "KTHksdfUxjEy"
      },
      "source": [
        "## Installs\n"
      ]
    },
    {
      "cell_type": "code",
      "execution_count": 1,
      "metadata": {
        "id": "Q2ujC4vH1SIM"
      },
      "outputs": [],
      "source": [
        "\n",
        "import torch\n",
        "from torch import nn, optim\n",
        "from sae import AutoEncoder\n",
        "import scanpy as sc\n",
        "import pandas as pd\n",
        "import numpy as np\n",
        "from torch.utils.data import DataLoader\n",
        "import matplotlib.pyplot as plt\n",
        "import random"
      ]
    },
    {
      "cell_type": "markdown",
      "metadata": {
        "id": "q4ydZX2XI6PP"
      },
      "source": [
        "## Dataset"
      ]
    },
    {
      "cell_type": "code",
      "execution_count": 2,
      "metadata": {
        "id": "CJ-zntp-5j0m"
      },
      "outputs": [],
      "source": [
        "import scanpy as sc\n",
        "\n",
        "def split_data(X, subject_ids, unique_ids):\n",
        "  unique_ids = subject_ids.unique()\n",
        "  data = [[] for _ in range(X.shape[1])]\n",
        "  sizes = [[] for _ in range(X.shape[1])]\n",
        "  for i in range(X.shape[1]):\n",
        "    for j, subject_id in enumerate(unique_ids):\n",
        "      subject_indices = subject_ids == subject_id\n",
        "      subject_data = X[subject_indices, i]\n",
        "      data[i].append(torch.from_numpy(subject_data.toarray()))\n",
        "      sizes[i].append(torch.tensor([subject_data.shape[0]],dtype = torch.int32))\n",
        "  return data, sizes\n",
        "\n",
        "def collate(batch):\n",
        "      \"\"\"\n",
        "      x = torch.cat(data[0], dim=0)\n",
        "      sizes = torch.cat(sizes[0], dim=0)\n",
        "      batch = torch.arange(sizes.numel()).repeat_interleave(sizes)\n",
        "      \"\"\"\n",
        "      data = [item[0] for item in batch]\n",
        "      sizes = [item[1] for item in batch]\n",
        "      target = [item[2] for item in batch]\n",
        "      gene = [item[3] for item in batch]\n",
        "      subject = [item[4] for item in batch]\n",
        "      x = torch.cat(data, dim=0)\n",
        "      sizes = torch.cat([item[1] for item in batch], dim=0)\n",
        "      batch = torch.arange(sizes.numel()).repeat_interleave(sizes)\n",
        "      target = torch.LongTensor(target)\n",
        "      gene = torch.LongTensor(gene)\n",
        "      subject = torch.LongTensor(subject)\n",
        "      return x, batch, target, gene, subject\n",
        "\n",
        "class SCDataset(torch.utils.data.Dataset):\n",
        "    def __init__(\n",
        "        self,\n",
        "        adata,\n",
        "        phenotypes,\n",
        "        d_output=2, # default binary classification\n",
        "        dest_path=\"/content\", # default for colab\n",
        "        return_augs=False,\n",
        "    ):\n",
        "\n",
        "        self.return_augs = return_augs\n",
        "        self.d_output = d_output  # needed for decoder to grab\n",
        "        self.adata = adata\n",
        "        self.X  = self.adata.X\n",
        "\n",
        "        self.num_genes = self.X.shape[1]\n",
        "\n",
        "        self.subject_ids = self.adata.obs[\"subject_id\"]\n",
        "        self.unique_ids = self.subject_ids.unique()\n",
        "        self.num_subjects = len(self.unique_ids)\n",
        "\n",
        "        self.data, self.sizes = split_data(self.X, self.subject_ids, self.unique_ids)\n",
        "\n",
        "        self.phenotypes = phenotypes\n",
        "        self.labels = [self.phenotypes[self.phenotypes['Sample_ID']==int(unique_id)]['binary_y'] for unique_id in self.unique_ids]\n",
        "\n",
        "    def __len__(self):\n",
        "        return self.num_genes*self.num_subjects\n",
        "\n",
        "    def __getitem__(self, idx):\n",
        "        gene = idx // self.num_subjects\n",
        "        subject = idx % self.num_subjects\n",
        "        x = self.data[gene][subject]\n",
        "        size = self.sizes[gene][subject]\n",
        "        target = self.labels[subject].item()\n",
        "        return x, size, target, gene, subject"
      ]
    },
    {
      "cell_type": "markdown",
      "metadata": {
        "id": "I2upLaDoI_0P"
      },
      "source": [
        "## Autoencoder Training"
      ]
    },
    {
      "cell_type": "code",
      "execution_count": 3,
      "metadata": {
        "id": "XnQ7MTivUjeX"
      },
      "outputs": [],
      "source": [
        "def train_autoencoder(model, device, train_loader, optimizer, epoch, log_interval=5000):\n",
        "    \"\"\"Training loop.\"\"\"\n",
        "    model.train()\n",
        "    for batch_idx, (data, size, _,_,_) in enumerate(train_loader):\n",
        "        data, size = data.to(device), size.to(device)\n",
        "        optimizer.zero_grad()\n",
        "        xr, batchr = model(data, size)\n",
        "        loss_data = model.loss()\n",
        "        loss = loss_data[\"loss\"]\n",
        "        loss.backward()\n",
        "        optimizer.step()\n",
        "        if batch_idx % log_interval == 0:\n",
        "            print('Train Epoch: {} [{}/{} ({:.0f}%)]\\tLoss: {:.6f}'.format(\n",
        "                epoch, batch_idx * len(data), len(train_loader),\n",
        "                100. * batch_idx / len(train_loader), loss.item()))\n"
      ]
    },
    {
      "cell_type": "code",
      "execution_count": 4,
      "metadata": {
        "id": "UeOw9I6yVokN"
      },
      "outputs": [],
      "source": [
        "def test_autoencoder(model, device, test_loader):\n",
        "    model.eval()\n",
        "    test_loss = 0\n",
        "    with torch.no_grad():\n",
        "        for data, size, _ ,_,_ in test_loader:\n",
        "            data, size = data.to(device), size.to(device)\n",
        "            xr, batchr = model(data, size)\n",
        "            loss_data = model.loss()\n",
        "            loss = loss_data[\"loss\"]\n",
        "            test_loss += loss  # sum up batch loss\n",
        "\n",
        "    test_loss /= len(test_loader.dataset)\n",
        "\n",
        "    print(f\"Test Loss: {test_loss}\")\n",
        "    #changed\n",
        "    return test_loss"
      ]
    },
    {
      "cell_type": "code",
      "execution_count": 5,
      "metadata": {
        "id": "dzGG-XmfVpBX"
      },
      "outputs": [],
      "source": [
        "def run_train_autoencoder(test_subjects=None, hidden_dim =6, weight_decay=.01):\n",
        "\n",
        "    # experiment settings:\n",
        "    num_epochs = 220 \n",
        "    batch_size = 8\n",
        "    learning_rate = .005  \n",
        "    weight_decay = weight_decay\n",
        "\n",
        "    \n",
        "    hidden_dim = hidden_dim\n",
        "    dim = 1\n",
        "    device = 'cuda' if torch.cuda.is_available() else 'cpu'   \n",
        "\n",
        "    print(\"Using device:\", device)\n",
        "    \n",
        "\n",
        "    adata = sc.read(\"./processed_dataset_16genes.h5ad\")\n",
        "    max_n = adata.obs['subject_id'].value_counts().max()\n",
        "    model = AutoEncoder(dim=dim, hidden_dim=hidden_dim, max_n=max_n)\n",
        "    model.to(device)\n",
        "    phenotypes = pd.read_csv('phenotypes_16gene.csv')\n",
        "    if test_subjects:\n",
        "      train_adata = adata[~adata.obs['subject_id'].isin(test_subjects), :]\n",
        "      test_adata = adata[adata.obs['subject_id'].isin(test_subjects), :]\n",
        "      train_phenotypes = phenotypes[~phenotypes['Sample_ID'].isin([int(s) for s in test_subjects])]\n",
        "      test_phenotypes = phenotypes[phenotypes['Sample_ID'].isin([int(s) for s in test_subjects])]\n",
        "\n",
        "    else:\n",
        "      train_adata = adata\n",
        "      test_adata = None\n",
        "      train_phenotypes = phenotypes\n",
        "      test_phenotypes = None\n",
        "    # create datasets\n",
        "    ds_train = SCDataset(\n",
        "        adata=train_adata,\n",
        "        phenotypes=train_phenotypes,\n",
        "        d_output=2,\n",
        "        dest_path=\"/content\",\n",
        "        return_augs=False,\n",
        "    )\n",
        "    train_loader = DataLoader(ds_train, batch_size=batch_size, shuffle=True, collate_fn = collate)\n",
        "    if test_adata:\n",
        "      ds_test = SCDataset(\n",
        "          adata=test_adata,\n",
        "          phenotypes=test_phenotypes,\n",
        "          d_output=2,\n",
        "          dest_path=\"/content\",\n",
        "          return_augs=False,\n",
        "      )\n",
        "      test_loader = DataLoader(ds_test, batch_size=batch_size, shuffle=False, collate_fn = collate)\n",
        "\n",
        "\n",
        "    # create optimizer\n",
        "    optimizer = optim.AdamW(model.parameters(), lr=learning_rate, weight_decay=weight_decay)\n",
        "\n",
        "    model.to(device)\n",
        "    accuracies = []\n",
        "    best = 1000000\n",
        "    best_state_dict = None\n",
        "    patience = 5\n",
        "    epoch_since_update = 0\n",
        "\n",
        "    for epoch in range(num_epochs):\n",
        "        train_autoencoder(model, device, train_loader, optimizer, epoch)\n",
        "        if test_adata:\n",
        "          accuracy = test_autoencoder(model, device, test_loader)\n",
        "          accuracies.append(accuracy)\n",
        "          if best - accuracy >0:\n",
        "            best = accuracy\n",
        "            best_state_dict = model.state_dict()\n",
        "            epoch_since_update = 0\n",
        "          else:\n",
        "            epoch_since_update +=1\n",
        "            if epoch_since_update >= patience:\n",
        "              model.load_state_dict(best_state_dict)\n",
        "              break\n",
        "\n",
        "        optimizer.step()\n",
        "\n",
        "    return model, accuracies, ds_train, ds_test"
      ]
    },
    {
      "cell_type": "markdown",
      "metadata": {},
      "source": [
        "### Search hyperparameters"
      ]
    },
    {
      "cell_type": "code",
      "execution_count": null,
      "metadata": {},
      "outputs": [
        {
          "name": "stdout",
          "output_type": "stream",
          "text": [
            "Using device: cuda\n"
          ]
        },
        {
          "name": "stderr",
          "output_type": "stream",
          "text": [
            "Exception ignored in: <bound method IPythonKernel._clean_thread_parent_frames of <ipykernel.ipkernel.IPythonKernel object at 0x7fdb4eb55390>>\n",
            "Traceback (most recent call last):\n",
            "  File \"/home/rand/anaconda/anaconda3/envs/exmd/lib/python3.10/site-packages/ipykernel/ipkernel.py\", line 775, in _clean_thread_parent_frames\n",
            "    def _clean_thread_parent_frames(\n",
            "KeyboardInterrupt: \n",
            "/home/rand/.local/lib/python3.10/site-packages/numpy/lib/function_base.py:520: RuntimeWarning: Mean of empty slice.\n",
            "  avg = a.mean(axis, **keepdims_kw)\n",
            "/home/rand/.local/lib/python3.10/site-packages/numpy/core/_methods.py:121: RuntimeWarning: invalid value encountered in divide\n",
            "  ret = um.true_divide(\n",
            "/home/rand/.local/lib/python3.10/site-packages/numpy/lib/function_base.py:2889: RuntimeWarning: Degrees of freedom <= 0 for slice\n",
            "  c = cov(x, y, rowvar, dtype=dtype)\n",
            "/home/rand/.local/lib/python3.10/site-packages/numpy/lib/function_base.py:2748: RuntimeWarning: divide by zero encountered in divide\n",
            "  c *= np.true_divide(1, fact)\n",
            "/home/rand/.local/lib/python3.10/site-packages/numpy/lib/function_base.py:2748: RuntimeWarning: invalid value encountered in multiply\n",
            "  c *= np.true_divide(1, fact)\n",
            "/home/rand/github/XMED521/proj/sae/sae/sae_model.py:52: UserWarning: var(): degrees of freedom is <= 0. Correction should be strictly less than the reduction factor (input numel divided by output numel). (Triggered internally at ../aten/src/ATen/native/ReduceOps.cpp:1823.)\n",
            "  xr_var = xr.var(dim=0).mean()\n"
          ]
        },
        {
          "name": "stdout",
          "output_type": "stream",
          "text": [
            "Train Epoch: 0 [0/34 (0%)]\tLoss: 366141.750000\n",
            "Test Loss: 12142.216796875\n",
            "Train Epoch: 1 [0/34 (0%)]\tLoss: 453297.937500\n"
          ]
        },
        {
          "name": "stderr",
          "output_type": "stream",
          "text": [
            "/home/rand/.local/lib/python3.10/site-packages/numpy/lib/function_base.py:2897: RuntimeWarning: invalid value encountered in divide\n",
            "  c /= stddev[:, None]\n",
            "/home/rand/.local/lib/python3.10/site-packages/numpy/lib/function_base.py:2898: RuntimeWarning: invalid value encountered in divide\n",
            "  c /= stddev[None, :]\n"
          ]
        },
        {
          "name": "stdout",
          "output_type": "stream",
          "text": [
            "Test Loss: 12114.140625\n",
            "Train Epoch: 2 [0/34 (0%)]\tLoss: 153298.734375\n",
            "Test Loss: 12075.8427734375\n",
            "Train Epoch: 3 [0/34 (0%)]\tLoss: 194793.218750\n",
            "Test Loss: 12011.1015625\n",
            "Train Epoch: 4 [0/34 (0%)]\tLoss: 266412.187500\n",
            "Test Loss: 11925.86328125\n",
            "Train Epoch: 5 [0/34 (0%)]\tLoss: 294565.218750\n",
            "Test Loss: 11820.533203125\n",
            "Train Epoch: 6 [0/34 (0%)]\tLoss: 420646.843750\n",
            "Test Loss: 11696.7265625\n",
            "Train Epoch: 7 [0/34 (0%)]\tLoss: 79569.265625\n",
            "Test Loss: 11556.7490234375\n",
            "Train Epoch: 8 [0/34 (0%)]\tLoss: 160976.156250\n",
            "Test Loss: 11396.8935546875\n",
            "Train Epoch: 9 [0/34 (0%)]\tLoss: 222789.187500\n",
            "Test Loss: 11235.62109375\n",
            "Train Epoch: 10 [0/34 (0%)]\tLoss: 230346.390625\n",
            "Test Loss: 11054.6787109375\n",
            "Train Epoch: 11 [0/34 (0%)]\tLoss: 197412.703125\n",
            "Test Loss: 10863.2021484375\n",
            "Train Epoch: 12 [0/34 (0%)]\tLoss: 45418.476562\n",
            "Test Loss: 10655.6484375\n",
            "Train Epoch: 13 [0/34 (0%)]\tLoss: 187771.671875\n",
            "Test Loss: 10442.9296875\n",
            "Train Epoch: 14 [0/34 (0%)]\tLoss: 214669.234375\n",
            "Test Loss: 10215.546875\n",
            "Train Epoch: 15 [0/34 (0%)]\tLoss: 201090.703125\n",
            "Test Loss: 9982.98828125\n",
            "Train Epoch: 16 [0/34 (0%)]\tLoss: 258780.718750\n",
            "Test Loss: 9743.7138671875\n",
            "Train Epoch: 17 [0/34 (0%)]\tLoss: 160074.171875\n",
            "Test Loss: 9499.8583984375\n",
            "Train Epoch: 18 [0/34 (0%)]\tLoss: 272214.562500\n",
            "Test Loss: 9250.564453125\n",
            "Train Epoch: 19 [0/34 (0%)]\tLoss: 299459.531250\n",
            "Test Loss: 9013.8583984375\n",
            "Train Epoch: 20 [0/34 (0%)]\tLoss: 271994.750000\n"
          ]
        }
      ],
      "source": [
        "test_subjects = ['1','15','3']\n",
        "hidden_dims = [3,4,6,8,10]\n",
        "weight_decay = [0, 0.001, 0.01, 0.1]\n",
        "accuracies = []\n",
        "autoencoders = []\n",
        "params = []\n",
        "for hidden_dim in hidden_dims:\n",
        "  for weight in weight_decay:\n",
        "    model, accuracy, ds_train, ds_test = run_train_autoencoder(test_subjects = test_subjects, hidden_dim=hidden_dim, weight_decay=weight)\n",
        "    accuracies.append(accuracy)\n",
        "    autoencoders.append(model)\n",
        "    params.append((hidden_dim, weight))"
      ]
    },
    {
      "cell_type": "code",
      "execution_count": 87,
      "metadata": {
        "id": "ZGCMr4aw641a"
      },
      "outputs": [
        {
          "data": {
            "text/plain": [
              "[tensor(12104.7266, device='cuda:0'),\n",
              " tensor(12055.0566, device='cuda:0'),\n",
              " tensor(11990.6787, device='cuda:0'),\n",
              " tensor(11913.1943, device='cuda:0'),\n",
              " tensor(11821.1152, device='cuda:0'),\n",
              " tensor(11716.4688, device='cuda:0'),\n",
              " tensor(11592.9990, device='cuda:0'),\n",
              " tensor(11463.1895, device='cuda:0'),\n",
              " tensor(11314.7578, device='cuda:0'),\n",
              " tensor(11154.4785, device='cuda:0'),\n",
              " tensor(10981.8467, device='cuda:0'),\n",
              " tensor(10796.1846, device='cuda:0'),\n",
              " tensor(10609.4248, device='cuda:0'),\n",
              " tensor(10398.7441, device='cuda:0'),\n",
              " tensor(10181.9434, device='cuda:0'),\n",
              " tensor(9970.7920, device='cuda:0'),\n",
              " tensor(9740.4932, device='cuda:0'),\n",
              " tensor(9501.8711, device='cuda:0'),\n",
              " tensor(9266.9082, device='cuda:0'),\n",
              " tensor(9031.8574, device='cuda:0'),\n",
              " tensor(8786.6631, device='cuda:0'),\n",
              " tensor(8550.8535, device='cuda:0'),\n",
              " tensor(8311.6484, device='cuda:0'),\n",
              " tensor(8063.0352, device='cuda:0'),\n",
              " tensor(7826.1250, device='cuda:0'),\n",
              " tensor(7596.1182, device='cuda:0'),\n",
              " tensor(7367.3936, device='cuda:0'),\n",
              " tensor(7132.1787, device='cuda:0'),\n",
              " tensor(6920.3799, device='cuda:0'),\n",
              " tensor(6713.7109, device='cuda:0'),\n",
              " tensor(6522.0107, device='cuda:0'),\n",
              " tensor(6321.9160, device='cuda:0'),\n",
              " tensor(6136.8086, device='cuda:0'),\n",
              " tensor(5968.6904, device='cuda:0'),\n",
              " tensor(5816.9541, device='cuda:0'),\n",
              " tensor(5663.3281, device='cuda:0'),\n",
              " tensor(5526.8862, device='cuda:0'),\n",
              " tensor(5406.8076, device='cuda:0'),\n",
              " tensor(5290.5137, device='cuda:0'),\n",
              " tensor(5186.3589, device='cuda:0'),\n",
              " tensor(5102.7324, device='cuda:0'),\n",
              " tensor(5023.2573, device='cuda:0'),\n",
              " tensor(4957.2627, device='cuda:0'),\n",
              " tensor(4904.8389, device='cuda:0'),\n",
              " tensor(4861.4932, device='cuda:0'),\n",
              " tensor(4832.1011, device='cuda:0'),\n",
              " tensor(4815.7915, device='cuda:0'),\n",
              " tensor(4809.8032, device='cuda:0'),\n",
              " tensor(4814.4473, device='cuda:0'),\n",
              " tensor(4829.8154, device='cuda:0'),\n",
              " tensor(4853.7568, device='cuda:0'),\n",
              " tensor(4885.9136, device='cuda:0'),\n",
              " tensor(4928.5171, device='cuda:0')]"
            ]
          },
          "execution_count": 87,
          "metadata": {},
          "output_type": "execute_result"
        }
      ],
      "source": [
        "accuracies[0]"
      ]
    },
    {
      "cell_type": "code",
      "execution_count": 93,
      "metadata": {
        "id": "ae5mEc0k67xR"
      },
      "outputs": [
        {
          "data": {
            "image/png": "[encoded data removed]",
            "text/plain": [
              "<Figure size 640x480 with 1 Axes>"
            ]
          },
          "metadata": {},
          "output_type": "display_data"
        },
        {
          "data": {
            "image/png": "[encoded data removed]",
            "text/plain": [
              "<Figure size 640x480 with 1 Axes>"
            ]
          },
          "metadata": {},
          "output_type": "display_data"
        }
      ],
      "source": [
        "for param, acc in zip(params[:10], accuracies[:10]):\n",
        "    accuracy = [a.detach().cpu().numpy() for a in acc]\n",
        "    plt.plot(range(len(accuracy)),accuracy, label = f\"hidden_dim: {param[0]}, weight_decay: {param[1]}\")\n",
        "plt.xlabel('Epoch')\n",
        "plt.ylabel('Loss')\n",
        "plt.title('Loss vs Epoch for Different Hyperparameters')\n",
        "plt.legend()\n",
        "plt.grid()\n",
        "plt.show()\n",
        "\n",
        "\n",
        "for param, acc in zip(params[10:], accuracies[10:]):\n",
        "    if param[1] == 0 and param[0] == 10:\n",
        "        continue\n",
        "    accuracy = [a.detach().cpu().numpy() for a in acc]\n",
        "    plt.plot(range(len(accuracy)),accuracy, label = f\"hidden_dim: {param[0]}, weight_decay: {param[1]}\")\n",
        "plt.xlabel('Epoch')\n",
        "plt.ylabel('Loss')\n",
        "plt.title('Loss vs Epoch for Different Hyperparameters')\n",
        "plt.legend()\n",
        "plt.grid()\n",
        "plt.show()\n"
      ]
    },
    {
      "cell_type": "markdown",
      "metadata": {},
      "source": [
        "### train autoencoder"
      ]
    },
    {
      "cell_type": "code",
      "execution_count": 6,
      "metadata": {},
      "outputs": [
        {
          "name": "stdout",
          "output_type": "stream",
          "text": [
            "Using device: cuda\n"
          ]
        },
        {
          "name": "stderr",
          "output_type": "stream",
          "text": [
            "/home/rand/.local/lib/python3.10/site-packages/numpy/lib/function_base.py:520: RuntimeWarning: Mean of empty slice.\n",
            "  avg = a.mean(axis, **keepdims_kw)\n",
            "/home/rand/.local/lib/python3.10/site-packages/numpy/core/_methods.py:121: RuntimeWarning: invalid value encountered in divide\n",
            "  ret = um.true_divide(\n",
            "/home/rand/.local/lib/python3.10/site-packages/numpy/lib/function_base.py:2889: RuntimeWarning: Degrees of freedom <= 0 for slice\n",
            "  c = cov(x, y, rowvar, dtype=dtype)\n",
            "/home/rand/.local/lib/python3.10/site-packages/numpy/lib/function_base.py:2748: RuntimeWarning: divide by zero encountered in divide\n",
            "  c *= np.true_divide(1, fact)\n",
            "/home/rand/.local/lib/python3.10/site-packages/numpy/lib/function_base.py:2748: RuntimeWarning: invalid value encountered in multiply\n",
            "  c *= np.true_divide(1, fact)\n",
            "/home/rand/github/XMED521/proj/sae/sae/sae_model.py:52: UserWarning: var(): degrees of freedom is <= 0. Correction should be strictly less than the reduction factor (input numel divided by output numel). (Triggered internally at ../aten/src/ATen/native/ReduceOps.cpp:1823.)\n",
            "  xr_var = xr.var(dim=0).mean()\n"
          ]
        },
        {
          "name": "stdout",
          "output_type": "stream",
          "text": [
            "Train Epoch: 0 [0/34 (0%)]\tLoss: 319424.156250\n",
            "Test Loss: 12153.0498046875\n",
            "Train Epoch: 1 [0/34 (0%)]\tLoss: 197794.531250\n"
          ]
        },
        {
          "name": "stderr",
          "output_type": "stream",
          "text": [
            "/home/rand/.local/lib/python3.10/site-packages/numpy/lib/function_base.py:2897: RuntimeWarning: invalid value encountered in divide\n",
            "  c /= stddev[:, None]\n",
            "/home/rand/.local/lib/python3.10/site-packages/numpy/lib/function_base.py:2898: RuntimeWarning: invalid value encountered in divide\n",
            "  c /= stddev[None, :]\n"
          ]
        },
        {
          "name": "stdout",
          "output_type": "stream",
          "text": [
            "Test Loss: 12114.203125\n",
            "Train Epoch: 2 [0/34 (0%)]\tLoss: 69715.898438\n",
            "Test Loss: 12049.5546875\n",
            "Train Epoch: 3 [0/34 (0%)]\tLoss: 80146.453125\n",
            "Test Loss: 11967.8701171875\n",
            "Train Epoch: 4 [0/34 (0%)]\tLoss: 378581.906250\n",
            "Test Loss: 11862.046875\n",
            "Train Epoch: 5 [0/34 (0%)]\tLoss: 172822.546875\n",
            "Test Loss: 11741.00390625\n",
            "Train Epoch: 6 [0/34 (0%)]\tLoss: 258251.703125\n",
            "Test Loss: 11601.86328125\n",
            "Train Epoch: 7 [0/34 (0%)]\tLoss: 289227.000000\n",
            "Test Loss: 11443.6484375\n",
            "Train Epoch: 8 [0/34 (0%)]\tLoss: 261654.875000\n",
            "Test Loss: 11263.7724609375\n",
            "Train Epoch: 9 [0/34 (0%)]\tLoss: 389019.000000\n",
            "Test Loss: 11076.5498046875\n",
            "Train Epoch: 10 [0/34 (0%)]\tLoss: 293450.500000\n",
            "Test Loss: 10872.853515625\n",
            "Train Epoch: 11 [0/34 (0%)]\tLoss: 166127.250000\n",
            "Test Loss: 10657.2412109375\n",
            "Train Epoch: 12 [0/34 (0%)]\tLoss: 294127.250000\n",
            "Test Loss: 10423.171875\n",
            "Train Epoch: 13 [0/34 (0%)]\tLoss: 340010.750000\n",
            "Test Loss: 10182.5947265625\n",
            "Train Epoch: 14 [0/34 (0%)]\tLoss: 272772.031250\n",
            "Test Loss: 9939.95703125\n",
            "Train Epoch: 15 [0/34 (0%)]\tLoss: 238822.500000\n",
            "Test Loss: 9682.822265625\n",
            "Train Epoch: 16 [0/34 (0%)]\tLoss: 370990.187500\n",
            "Test Loss: 9422.3408203125\n",
            "Train Epoch: 17 [0/34 (0%)]\tLoss: 175218.640625\n",
            "Test Loss: 9170.603515625\n",
            "Train Epoch: 18 [0/34 (0%)]\tLoss: 201071.093750\n",
            "Test Loss: 8900.8232421875\n",
            "Train Epoch: 19 [0/34 (0%)]\tLoss: 2686.270264\n",
            "Test Loss: 8640.4609375\n",
            "Train Epoch: 20 [0/34 (0%)]\tLoss: 319946.812500\n",
            "Test Loss: 8375.07421875\n",
            "Train Epoch: 21 [0/34 (0%)]\tLoss: 142319.250000\n",
            "Test Loss: 8128.50341796875\n",
            "Train Epoch: 22 [0/34 (0%)]\tLoss: 180728.453125\n",
            "Test Loss: 7876.3271484375\n",
            "Train Epoch: 23 [0/34 (0%)]\tLoss: 238978.687500\n",
            "Test Loss: 7624.5322265625\n",
            "Train Epoch: 24 [0/34 (0%)]\tLoss: 136027.843750\n",
            "Test Loss: 7376.9072265625\n",
            "Train Epoch: 25 [0/34 (0%)]\tLoss: 158718.484375\n",
            "Test Loss: 7151.92578125\n",
            "Train Epoch: 26 [0/34 (0%)]\tLoss: 242951.500000\n",
            "Test Loss: 6917.8623046875\n",
            "Train Epoch: 27 [0/34 (0%)]\tLoss: 444131.812500\n",
            "Test Loss: 6690.0048828125\n",
            "Train Epoch: 28 [0/34 (0%)]\tLoss: 334359.000000\n",
            "Test Loss: 6496.39990234375\n",
            "Train Epoch: 29 [0/34 (0%)]\tLoss: 234514.812500\n",
            "Test Loss: 6296.0126953125\n",
            "Train Epoch: 30 [0/34 (0%)]\tLoss: 179676.875000\n",
            "Test Loss: 6117.1025390625\n",
            "Train Epoch: 31 [0/34 (0%)]\tLoss: 276079.156250\n",
            "Test Loss: 5936.4130859375\n",
            "Train Epoch: 32 [0/34 (0%)]\tLoss: 150435.187500\n",
            "Test Loss: 5767.203125\n",
            "Train Epoch: 33 [0/34 (0%)]\tLoss: 151043.734375\n",
            "Test Loss: 5614.357421875\n",
            "Train Epoch: 34 [0/34 (0%)]\tLoss: 166431.078125\n",
            "Test Loss: 5477.095703125\n",
            "Train Epoch: 35 [0/34 (0%)]\tLoss: 208938.406250\n",
            "Test Loss: 5345.6484375\n",
            "Train Epoch: 36 [0/34 (0%)]\tLoss: 228189.750000\n",
            "Test Loss: 5154.64453125\n",
            "Train Epoch: 37 [0/34 (0%)]\tLoss: 204005.000000\n",
            "Test Loss: 4502.951171875\n",
            "Train Epoch: 38 [0/34 (0%)]\tLoss: 230495.718750\n",
            "Test Loss: 4244.4169921875\n",
            "Train Epoch: 39 [0/34 (0%)]\tLoss: 186666.921875\n",
            "Test Loss: 4006.858154296875\n",
            "Train Epoch: 40 [0/34 (0%)]\tLoss: 132041.468750\n",
            "Test Loss: 3763.708984375\n",
            "Train Epoch: 41 [0/34 (0%)]\tLoss: 86680.351562\n",
            "Test Loss: 3541.92333984375\n",
            "Train Epoch: 42 [0/34 (0%)]\tLoss: 172074.296875\n",
            "Test Loss: 3327.11083984375\n",
            "Train Epoch: 43 [0/34 (0%)]\tLoss: 120587.726562\n",
            "Test Loss: 3129.19384765625\n",
            "Train Epoch: 44 [0/34 (0%)]\tLoss: 145126.406250\n",
            "Test Loss: 2932.086669921875\n",
            "Train Epoch: 45 [0/34 (0%)]\tLoss: 63696.429688\n",
            "Test Loss: 2733.62939453125\n",
            "Train Epoch: 46 [0/34 (0%)]\tLoss: 154767.328125\n",
            "Test Loss: 2556.17138671875\n",
            "Train Epoch: 47 [0/34 (0%)]\tLoss: 41108.718750\n",
            "Test Loss: 2377.661865234375\n",
            "Train Epoch: 48 [0/34 (0%)]\tLoss: 64443.316406\n",
            "Test Loss: 2273.859619140625\n",
            "Train Epoch: 49 [0/34 (0%)]\tLoss: 33601.781250\n",
            "Test Loss: 2057.35693359375\n",
            "Train Epoch: 50 [0/34 (0%)]\tLoss: 93894.992188\n",
            "Test Loss: 1883.9310302734375\n",
            "Train Epoch: 51 [0/34 (0%)]\tLoss: 163117.265625\n",
            "Test Loss: 1733.881591796875\n",
            "Train Epoch: 52 [0/34 (0%)]\tLoss: 77717.476562\n",
            "Test Loss: 1593.114013671875\n",
            "Train Epoch: 53 [0/34 (0%)]\tLoss: 8216.786133\n",
            "Test Loss: 1453.6883544921875\n",
            "Train Epoch: 54 [0/34 (0%)]\tLoss: 59309.144531\n",
            "Test Loss: 1322.3509521484375\n",
            "Train Epoch: 55 [0/34 (0%)]\tLoss: 30921.150391\n",
            "Test Loss: 1203.5462646484375\n",
            "Train Epoch: 56 [0/34 (0%)]\tLoss: 54568.375000\n",
            "Test Loss: 1072.329833984375\n",
            "Train Epoch: 57 [0/34 (0%)]\tLoss: 31422.017578\n",
            "Test Loss: 962.7597045898438\n",
            "Train Epoch: 58 [0/34 (0%)]\tLoss: 41237.585938\n",
            "Test Loss: 854.9000854492188\n",
            "Train Epoch: 59 [0/34 (0%)]\tLoss: 113687.125000\n",
            "Test Loss: 760.4942626953125\n",
            "Train Epoch: 60 [0/34 (0%)]\tLoss: 119446.289062\n",
            "Test Loss: 681.2324829101562\n",
            "Train Epoch: 61 [0/34 (0%)]\tLoss: 63900.785156\n",
            "Test Loss: 616.2693481445312\n",
            "Train Epoch: 62 [0/34 (0%)]\tLoss: 17911.750000\n",
            "Test Loss: 527.6373901367188\n",
            "Train Epoch: 63 [0/34 (0%)]\tLoss: 46937.503906\n",
            "Test Loss: 450.02001953125\n",
            "Train Epoch: 64 [0/34 (0%)]\tLoss: 60537.789062\n",
            "Test Loss: 377.38134765625\n",
            "Train Epoch: 65 [0/34 (0%)]\tLoss: 98501.921875\n",
            "Test Loss: 305.48529052734375\n",
            "Train Epoch: 66 [0/34 (0%)]\tLoss: 92371.828125\n",
            "Test Loss: 253.1860809326172\n",
            "Train Epoch: 67 [0/34 (0%)]\tLoss: 49828.324219\n",
            "Test Loss: 202.08251953125\n",
            "Train Epoch: 68 [0/34 (0%)]\tLoss: 45405.480469\n",
            "Test Loss: 152.15347290039062\n",
            "Train Epoch: 69 [0/34 (0%)]\tLoss: 26747.302734\n",
            "Test Loss: 115.55168914794922\n",
            "Train Epoch: 70 [0/34 (0%)]\tLoss: 69373.703125\n",
            "Test Loss: 83.60260772705078\n",
            "Train Epoch: 71 [0/34 (0%)]\tLoss: 22385.113281\n",
            "Test Loss: 56.510108947753906\n",
            "Train Epoch: 72 [0/34 (0%)]\tLoss: 67913.289062\n",
            "Test Loss: 35.41738510131836\n",
            "Train Epoch: 73 [0/34 (0%)]\tLoss: 103252.937500\n",
            "Test Loss: 19.23360824584961\n",
            "Train Epoch: 74 [0/34 (0%)]\tLoss: 115404.062500\n",
            "Test Loss: 11.925859451293945\n",
            "Train Epoch: 75 [0/34 (0%)]\tLoss: 5783.017090\n",
            "Test Loss: 4.285130500793457\n",
            "Train Epoch: 76 [0/34 (0%)]\tLoss: 180274.171875\n",
            "Test Loss: 3.7052736282348633\n",
            "Train Epoch: 77 [0/34 (0%)]\tLoss: 167746.968750\n",
            "Test Loss: 7.582152366638184\n",
            "Train Epoch: 78 [0/34 (0%)]\tLoss: 3951.338623\n",
            "Test Loss: 14.70688533782959\n",
            "Train Epoch: 79 [0/34 (0%)]\tLoss: 64174.527344\n",
            "Test Loss: 27.76132583618164\n",
            "Train Epoch: 80 [0/34 (0%)]\tLoss: 21460.734375\n",
            "Test Loss: 43.78440475463867\n",
            "Train Epoch: 81 [0/34 (0%)]\tLoss: 9287.125977\n",
            "Test Loss: 63.737709045410156\n"
          ]
        }
      ],
      "source": [
        "autoencoder, accuracies, ds_train, ds_test = run_train_autoencoder(test_subjects = ['1','15','3'])"
      ]
    },
    {
      "cell_type": "code",
      "execution_count": 7,
      "metadata": {
        "colab": {
          "base_uri": "https://localhost:8080/",
          "height": 472
        },
        "id": "MzUhpFhx4cRR",
        "outputId": "819f414b-7cad-4a37-e050-ccbc2811423e"
      },
      "outputs": [
        {
          "data": {
            "image/png": "[encoded data removed]",
            "text/plain": [
              "<Figure size 640x480 with 1 Axes>"
            ]
          },
          "metadata": {},
          "output_type": "display_data"
        }
      ],
      "source": [
        "# COMPLETE THE PLOT FUNCTION HERE\n",
        "loss = [a.detach().cpu().numpy() for a in accuracies]\n",
        "plt.plot(range(len(loss)), loss, label= 'Loss',marker='o')\n",
        "\n",
        "\n",
        "# Add axis labels\n",
        "plt.xlabel('Epoch')\n",
        "plt.ylabel('Loss')\n",
        "\n",
        "# Add a title (optional)\n",
        "plt.title('Loss vs Epoch')\n",
        "\n",
        "# Add a legend (optional)\n",
        "plt.legend()\n",
        "# Show the graph\n",
        "plt.grid()\n",
        "plt.show()"
      ]
    },
    {
      "cell_type": "markdown",
      "metadata": {
        "id": "TgLF0Sc978vz"
      },
      "source": [
        "## Encodings Dataset"
      ]
    },
    {
      "cell_type": "code",
      "execution_count": 8,
      "metadata": {
        "id": "M--81kMzB7Iv"
      },
      "outputs": [],
      "source": [
        "def generate_embeddings(embedding_model, ds):\n",
        "    device = 'cuda' if torch.cuda.is_available() else 'cpu'\n",
        "    loader = DataLoader(ds, batch_size=1, shuffle=False, collate_fn = collate)\n",
        "    embeddings = []\n",
        "    labels = []\n",
        "    genes = []\n",
        "    subjects = []\n",
        "    with torch.no_grad():\n",
        "        for data, size, y, gene, subject in loader:\n",
        "            data, size = data.to(device), size.to(device)\n",
        "            embedding = embedding_model(data, size)\n",
        "            embeddings.append(embedding)\n",
        "            labels.append(y)\n",
        "            genes.append(gene.cpu().item())\n",
        "            subjects.append(subject.cpu().item())\n",
        "    return torch.stack(embeddings, axis=0).squeeze(), torch.stack(labels,axis=0), genes, subjects\n"
      ]
    },
    {
      "cell_type": "code",
      "execution_count": 9,
      "metadata": {
        "id": "GiJe9gHQIaWV"
      },
      "outputs": [],
      "source": [
        "embeddings_train, y_train , genes_train, subjects_train = generate_embeddings(autoencoder.encoder, ds_train)\n",
        "embeddings_test, y_test, genes_test, subjectes_test = generate_embeddings(autoencoder.encoder, ds_test)"
      ]
    },
    {
      "cell_type": "code",
      "execution_count": 10,
      "metadata": {
        "id": "8JKuohQyIPkw"
      },
      "outputs": [],
      "source": [
        "def reshape_tensor_label(tensor, labels, gene_ids, subject_ids, num_genes, num_subjects):\n",
        "\n",
        "    embedding_dim = tensor.shape[1]  # Get embedding dimension\n",
        "    reshaped_tensor = torch.zeros((num_genes, num_subjects, embedding_dim))\n",
        "    reshaped_labels = torch.zeros((num_genes, num_subjects))\n",
        "    for i in range(tensor.shape[0]):\n",
        "        gene_index = gene_ids[i]\n",
        "        subject_index = subject_ids[i]\n",
        "        reshaped_tensor[gene_index, subject_index] = tensor[i]\n",
        "        reshaped_labels[gene_index, subject_index] = labels[i].item()\n",
        "    return reshaped_tensor, reshaped_labels"
      ]
    },
    {
      "cell_type": "code",
      "execution_count": 11,
      "metadata": {
        "id": "_Vo1QAJfImXV"
      },
      "outputs": [],
      "source": [
        "reshaped_embeddings_train, reshaped_labels_train = reshape_tensor_label(embeddings_train, y_train, genes_train, subjects_train, ds_train.num_genes, ds_train.num_subjects)\n",
        "reshaped_embeddings_test, reshaped_labels_test = reshape_tensor_label(embeddings_test, y_test, genes_test, subjectes_test, ds_test.num_genes, ds_test.num_subjects)"
      ]
    },
    {
      "cell_type": "code",
      "execution_count": 12,
      "metadata": {},
      "outputs": [],
      "source": [
        "def transform_split(tensor, labels, split = 1):\n",
        "  transformed = tensor.reshape(tensor.shape[1],tensor.shape[0]*tensor.shape[2])\n",
        "  labels = labels[0,:]\n",
        "  split1 = int(tensor.shape[1]*split)\n",
        "  tensor1 = transformed[:split1,:]\n",
        "  tensor2 = transformed[split1:,:]\n",
        "  labels1 = labels[:split1]\n",
        "  labels2 = labels[split1:]\n",
        "  return tensor1, tensor2, labels1, labels2\n"
      ]
    },
    {
      "cell_type": "code",
      "execution_count": 13,
      "metadata": {},
      "outputs": [],
      "source": [
        "x, _,y,_ = transform_split(reshaped_embeddings_train, reshaped_labels_train)\n",
        "xval, _, yval, _ = transform_split(reshaped_embeddings_test, reshaped_labels_test)"
      ]
    },
    {
      "cell_type": "markdown",
      "metadata": {
        "id": "qr1uLqDtbcwa"
      },
      "source": [
        "## Prediction Models"
      ]
    },
    {
      "cell_type": "code",
      "execution_count": 68,
      "metadata": {},
      "outputs": [],
      "source": [
        "import numpy as np\n",
        "import torch\n",
        "import torch.nn as nn\n",
        "import torch.optim as optim\n",
        "from torch.utils.data import TensorDataset, DataLoader\n",
        "\n",
        "class LinearLayer(nn.Module):\n",
        "    def __init__(self, input_dim, output_dim):     \n",
        "        super(LinearLayer, self).__init__()\n",
        "        self.input_dim = input_dim\n",
        "        self.output_dim = output_dim\n",
        "        \n",
        "        scale = 1. * np.sqrt(6. / (input_dim + output_dim))\n",
        "        # approximated posterior\n",
        "        self.w = nn.Parameter(torch.Tensor(self.input_dim, self.output_dim).uniform_(-scale, scale))\n",
        "        self.bias = nn.Parameter(torch.Tensor(self.output_dim).uniform_(-scale, scale))\n",
        "\n",
        "    def forward(self, x):     \n",
        "        return torch.mm(x, self.w) + self.bias   \n",
        "\n",
        "    \n",
        "class Predictor(nn.Module):\n",
        "    def __init__(self, gene_size, hidden_dim, beta):\n",
        "        super(Predictor, self).__init__()\n",
        "        self.input_dim = gene_size\n",
        "        \n",
        "        self.Layer1 = LinearLayer(self.input_dim, hidden_dim)\n",
        "        self.Layer2 = LinearLayer(hidden_dim, 1)\n",
        "        self.activation_fn = nn.Softplus(beta = beta)\n",
        "        \n",
        "    def forward(self, x):\n",
        "        x1 = self.activation_fn(self.Layer1(x))\n",
        "        x2 = self.Layer2(x1)\n",
        "        output = torch.sigmoid(x2)\n",
        "        return output, self.reg_layers()\n",
        "    \n",
        "    def reg_layers(self):\n",
        "        reg = torch.norm(self.Layer1.w, 1) + torch.norm(self.Layer2.w, 1)\n",
        "        return reg \n",
        "    \n",
        "\n",
        "class Main_effect(nn.Module):\n",
        "    def __init__(self, gene_size):\n",
        "        super(Main_effect, self).__init__()\n",
        "        self.input_dim = gene_size\n",
        "        self.Layer1 = LinearLayer(self.input_dim, 1)\n",
        "\n",
        "    def forward(self, x):\n",
        "        x1 = self.Layer1(x)\n",
        "        return torch.sigmoid(x1), self.reg_layers()\n",
        "\n",
        "    def reg_layers(self):\n",
        "        reg = torch.norm(self.Layer1.w, 1)\n",
        "        return reg\n",
        "\n"
      ]
    },
    {
      "cell_type": "markdown",
      "metadata": {},
      "source": [
        "## Train Gene Interaction NN and Main Effect"
      ]
    },
    {
      "cell_type": "code",
      "execution_count": 15,
      "metadata": {
        "id": "WWRUouen1Wf4"
      },
      "outputs": [],
      "source": [
        "def train_predictor(model, device, train_loader, optimizer, epoch,loss_fn, reg_weight, lambda_l1):\n",
        "    \"\"\"Training loop.\"\"\"\n",
        "    model.train()\n",
        "    for batch_idx, (data, target) in enumerate(train_loader):\n",
        "        data, target = data.to(device), target.to(device)\n",
        "        optimizer.zero_grad()\n",
        "        output, reg = model(data)\n",
        "        loss = loss_fn(output, target)+ reg_weight * reg\n",
        "        #for param in model.parameters():\n",
        "        #    loss += lambda_l1 * torch.sum(torch.abs(param))\n",
        "        loss.backward()\n",
        "        optimizer.step()\n"
      ]
    },
    {
      "cell_type": "code",
      "execution_count": 16,
      "metadata": {
        "id": "XaB3wUqS2ARD"
      },
      "outputs": [],
      "source": [
        "def test_predictor(model, device, test_loader, loss_fn):\n",
        "    model.eval()\n",
        "    with torch.no_grad():\n",
        "        test_loss = 0\n",
        "        correct = 0\n",
        "        for data, target in test_loader:\n",
        "            data, target = data.to(device), target.to(device)\n",
        "            output, reg = model(data)\n",
        "            test_loss += loss_fn(output, target).item()\n",
        "            pred = output.round()\n",
        "            print(f\"output: {output}, pred: {pred}, target: {target}\")\n",
        "            correct += pred.eq(target.view_as(pred)).sum().item()\n",
        "\n",
        "    test_loss /= len(test_loader.dataset)\n",
        "    print('\\nTest set: Average loss: {:.4f}, Accuracy: {}/{} ({:.2f}%)\\n'.format(\n",
        "        test_loss, correct, len(test_loader.dataset),\n",
        "        100. * correct / len(test_loader.dataset)))\n",
        "    return (100.* correct / len(test_loader.dataset)), test_loss"
      ]
    },
    {
      "cell_type": "markdown",
      "metadata": {},
      "source": [
        "### Train Gene Interactoin"
      ]
    },
    {
      "cell_type": "code",
      "execution_count": 82,
      "metadata": {
        "id": "GEah_omo0VMS"
      },
      "outputs": [],
      "source": [
        "def run_train_predictor(x, y, xval, yval, beta):\n",
        "    learning_rate = 0.001\n",
        "    epochs = 100\n",
        "    reg_weight = 0.01\n",
        "\n",
        "    device = 'cuda' if torch.cuda.is_available() else 'cpu'\n",
        "    input_dim = x.shape[1]\n",
        "    hidden_dim = 32\n",
        "\n",
        "    model = Predictor(input_dim, hidden_dim, beta)  \n",
        "\n",
        "    train_dl = DataLoader(TensorDataset(x, y.unsqueeze(1)), batch_size=1, shuffle=True)\n",
        "    test_dl = DataLoader(TensorDataset(xval, yval.unsqueeze(1)), batch_size=1, shuffle=False)\n",
        "    loss_fn = nn.BCELoss()\n",
        "    optimizer = torch.optim.Adam(model.parameters(), lr=learning_rate, eps=1e-8)\n",
        "    model.to(device)\n",
        "    accuracies = []\n",
        "    losses = []\n",
        "    best = 1000000\n",
        "    best_state_dict = None\n",
        "    patience = 8\n",
        "    epoch_since_update = 0\n",
        "    for epoch in range(epochs):\n",
        "        train_predictor(model, device, train_dl, optimizer, epoch, loss_fn, reg_weight=reg_weight,lambda_l1 = 0.02) \n",
        "        accuracy, loss = test_predictor(model, device, test_dl, loss_fn)\n",
        "        if best - loss >0:\n",
        "            best = loss\n",
        "            best_state_dict = model.state_dict()\n",
        "            epoch_since_update = 0\n",
        "        else:\n",
        "            epoch_since_update +=1\n",
        "            if epoch_since_update >= patience:\n",
        "              model.load_state_dict(best_state_dict)\n",
        "              break\n",
        "        accuracies.append(accuracy)\n",
        "        losses.append(loss)\n",
        "        optimizer.step()\n",
        "    return model, accuracies, losses\n",
        "\n"
      ]
    },
    {
      "cell_type": "code",
      "execution_count": 85,
      "metadata": {
        "colab": {
          "base_uri": "https://localhost:8080/"
        },
        "id": "3NlErVuy3ktO",
        "outputId": "725a7df2-19a1-4ea3-b1af-cd24287b1be3"
      },
      "outputs": [
        {
          "name": "stdout",
          "output_type": "stream",
          "text": [
            "output: tensor([[0.]], device='cuda:0'), pred: tensor([[0.]], device='cuda:0'), target: tensor([[1.]], device='cuda:0')\n",
            "output: tensor([[1.]], device='cuda:0'), pred: tensor([[1.]], device='cuda:0'), target: tensor([[1.]], device='cuda:0')\n",
            "output: tensor([[1.]], device='cuda:0'), pred: tensor([[1.]], device='cuda:0'), target: tensor([[0.]], device='cuda:0')\n",
            "\n",
            "Test set: Average loss: 66.6667, Accuracy: 1/3 (33.33%)\n",
            "\n",
            "output: tensor([[0.]], device='cuda:0'), pred: tensor([[0.]], device='cuda:0'), target: tensor([[1.]], device='cuda:0')\n",
            "output: tensor([[1.]], device='cuda:0'), pred: tensor([[1.]], device='cuda:0'), target: tensor([[1.]], device='cuda:0')\n",
            "output: tensor([[1.]], device='cuda:0'), pred: tensor([[1.]], device='cuda:0'), target: tensor([[0.]], device='cuda:0')\n",
            "\n",
            "Test set: Average loss: 66.6667, Accuracy: 1/3 (33.33%)\n",
            "\n",
            "output: tensor([[0.]], device='cuda:0'), pred: tensor([[0.]], device='cuda:0'), target: tensor([[1.]], device='cuda:0')\n",
            "output: tensor([[1.]], device='cuda:0'), pred: tensor([[1.]], device='cuda:0'), target: tensor([[1.]], device='cuda:0')\n",
            "output: tensor([[1.]], device='cuda:0'), pred: tensor([[1.]], device='cuda:0'), target: tensor([[0.]], device='cuda:0')\n",
            "\n",
            "Test set: Average loss: 66.6667, Accuracy: 1/3 (33.33%)\n",
            "\n",
            "output: tensor([[0.]], device='cuda:0'), pred: tensor([[0.]], device='cuda:0'), target: tensor([[1.]], device='cuda:0')\n",
            "output: tensor([[9.3854e-15]], device='cuda:0'), pred: tensor([[0.]], device='cuda:0'), target: tensor([[1.]], device='cuda:0')\n",
            "output: tensor([[8.9070e-09]], device='cuda:0'), pred: tensor([[0.]], device='cuda:0'), target: tensor([[0.]], device='cuda:0')\n",
            "\n",
            "Test set: Average loss: 44.0999, Accuracy: 1/3 (33.33%)\n",
            "\n",
            "output: tensor([[0.]], device='cuda:0'), pred: tensor([[0.]], device='cuda:0'), target: tensor([[1.]], device='cuda:0')\n",
            "output: tensor([[1.]], device='cuda:0'), pred: tensor([[1.]], device='cuda:0'), target: tensor([[1.]], device='cuda:0')\n",
            "output: tensor([[1.]], device='cuda:0'), pred: tensor([[1.]], device='cuda:0'), target: tensor([[0.]], device='cuda:0')\n",
            "\n",
            "Test set: Average loss: 66.6667, Accuracy: 1/3 (33.33%)\n",
            "\n",
            "output: tensor([[0.]], device='cuda:0'), pred: tensor([[0.]], device='cuda:0'), target: tensor([[1.]], device='cuda:0')\n",
            "output: tensor([[1.]], device='cuda:0'), pred: tensor([[1.]], device='cuda:0'), target: tensor([[1.]], device='cuda:0')\n",
            "output: tensor([[1.]], device='cuda:0'), pred: tensor([[1.]], device='cuda:0'), target: tensor([[0.]], device='cuda:0')\n",
            "\n",
            "Test set: Average loss: 66.6667, Accuracy: 1/3 (33.33%)\n",
            "\n",
            "output: tensor([[0.]], device='cuda:0'), pred: tensor([[0.]], device='cuda:0'), target: tensor([[1.]], device='cuda:0')\n",
            "output: tensor([[1.]], device='cuda:0'), pred: tensor([[1.]], device='cuda:0'), target: tensor([[1.]], device='cuda:0')\n",
            "output: tensor([[1.]], device='cuda:0'), pred: tensor([[1.]], device='cuda:0'), target: tensor([[0.]], device='cuda:0')\n",
            "\n",
            "Test set: Average loss: 66.6667, Accuracy: 1/3 (33.33%)\n",
            "\n",
            "output: tensor([[0.]], device='cuda:0'), pred: tensor([[0.]], device='cuda:0'), target: tensor([[1.]], device='cuda:0')\n",
            "output: tensor([[1.]], device='cuda:0'), pred: tensor([[1.]], device='cuda:0'), target: tensor([[1.]], device='cuda:0')\n",
            "output: tensor([[1.]], device='cuda:0'), pred: tensor([[1.]], device='cuda:0'), target: tensor([[0.]], device='cuda:0')\n",
            "\n",
            "Test set: Average loss: 66.6667, Accuracy: 1/3 (33.33%)\n",
            "\n",
            "output: tensor([[0.]], device='cuda:0'), pred: tensor([[0.]], device='cuda:0'), target: tensor([[1.]], device='cuda:0')\n",
            "output: tensor([[1.]], device='cuda:0'), pred: tensor([[1.]], device='cuda:0'), target: tensor([[1.]], device='cuda:0')\n",
            "output: tensor([[1.]], device='cuda:0'), pred: tensor([[1.]], device='cuda:0'), target: tensor([[0.]], device='cuda:0')\n",
            "\n",
            "Test set: Average loss: 66.6667, Accuracy: 1/3 (33.33%)\n",
            "\n",
            "output: tensor([[0.]], device='cuda:0'), pred: tensor([[0.]], device='cuda:0'), target: tensor([[1.]], device='cuda:0')\n",
            "output: tensor([[1.]], device='cuda:0'), pred: tensor([[1.]], device='cuda:0'), target: tensor([[1.]], device='cuda:0')\n",
            "output: tensor([[1.]], device='cuda:0'), pred: tensor([[1.]], device='cuda:0'), target: tensor([[0.]], device='cuda:0')\n",
            "\n",
            "Test set: Average loss: 66.6667, Accuracy: 1/3 (33.33%)\n",
            "\n",
            "output: tensor([[0.]], device='cuda:0'), pred: tensor([[0.]], device='cuda:0'), target: tensor([[1.]], device='cuda:0')\n",
            "output: tensor([[1.]], device='cuda:0'), pred: tensor([[1.]], device='cuda:0'), target: tensor([[1.]], device='cuda:0')\n",
            "output: tensor([[1.]], device='cuda:0'), pred: tensor([[1.]], device='cuda:0'), target: tensor([[0.]], device='cuda:0')\n",
            "\n",
            "Test set: Average loss: 66.6667, Accuracy: 1/3 (33.33%)\n",
            "\n",
            "output: tensor([[0.]], device='cuda:0'), pred: tensor([[0.]], device='cuda:0'), target: tensor([[1.]], device='cuda:0')\n",
            "output: tensor([[1.]], device='cuda:0'), pred: tensor([[1.]], device='cuda:0'), target: tensor([[1.]], device='cuda:0')\n",
            "output: tensor([[1.]], device='cuda:0'), pred: tensor([[1.]], device='cuda:0'), target: tensor([[0.]], device='cuda:0')\n",
            "\n",
            "Test set: Average loss: 66.6667, Accuracy: 1/3 (33.33%)\n",
            "\n"
          ]
        }
      ],
      "source": [
        "predictor, accuracies, losses = run_train_predictor(x,y,xval,yval,beta =5)"
      ]
    },
    {
      "cell_type": "code",
      "execution_count": 86,
      "metadata": {
        "colab": {
          "base_uri": "https://localhost:8080/",
          "height": 447
        },
        "id": "kvFwOHsc33D1",
        "outputId": "390e5fe6-f6e1-441f-e8c8-575a8aa13445"
      },
      "outputs": [
        {
          "data": {
            "text/plain": [
              "[<matplotlib.lines.Line2D at 0x7fedab6b9330>]"
            ]
          },
          "execution_count": 86,
          "metadata": {},
          "output_type": "execute_result"
        },
        {
          "data": {
            "image/png": "[encoded data removed]",
            "text/plain": [
              "<Figure size 640x480 with 1 Axes>"
            ]
          },
          "metadata": {},
          "output_type": "display_data"
        }
      ],
      "source": [
        "plt.plot(range(len(accuracies)),accuracies)"
      ]
    },
    {
      "cell_type": "code",
      "execution_count": 87,
      "metadata": {
        "colab": {
          "base_uri": "https://localhost:8080/",
          "height": 447
        },
        "id": "3TrGE1lb34MM",
        "outputId": "1ee8bda8-81f4-405c-8a1f-b078b3f62084"
      },
      "outputs": [
        {
          "data": {
            "text/plain": [
              "[<matplotlib.lines.Line2D at 0x7fedab516d70>]"
            ]
          },
          "execution_count": 87,
          "metadata": {},
          "output_type": "execute_result"
        },
        {
          "data": {
            "image/png": "[encoded data removed]",
            "text/plain": [
              "<Figure size 640x480 with 1 Axes>"
            ]
          },
          "metadata": {},
          "output_type": "display_data"
        }
      ],
      "source": [
        "plt.plot(range(len(losses)),losses)"
      ]
    },
    {
      "cell_type": "markdown",
      "metadata": {},
      "source": [
        "### Train Main Effect"
      ]
    },
    {
      "cell_type": "code",
      "execution_count": 64,
      "metadata": {},
      "outputs": [],
      "source": [
        "def run_train_maineffect(x, y, xval, yval, beta):\n",
        "    learning_rate = 0.002\n",
        "    epochs = 100\n",
        "    reg_weight = 0.01\n",
        "\n",
        "    device = 'cuda' if torch.cuda.is_available() else 'cpu'\n",
        "    input_dim = x.shape[1]\n",
        "    hidden_dim = 32\n",
        "\n",
        "    model = Main_effect(input_dim)  \n",
        "\n",
        "    train_dl = DataLoader(TensorDataset(x, y.unsqueeze(1)), batch_size=1, shuffle=True)\n",
        "    test_dl = DataLoader(TensorDataset(xval, yval.unsqueeze(1)), batch_size=1, shuffle=False)\n",
        "    loss_fn = nn.BCELoss()\n",
        "    optimizer = torch.optim.Adam(model.parameters(), lr=learning_rate, eps=1e-8)\n",
        "    model.to(device)\n",
        "    accuracies = []\n",
        "    losses = []\n",
        "    best = 1000000\n",
        "    best_state_dict = None\n",
        "    patience = 8\n",
        "    epoch_since_update = 0\n",
        "    for epoch in range(epochs):\n",
        "        train_predictor(model, device, train_dl, optimizer, epoch, loss_fn, reg_weight=reg_weight,lambda_l1 = 0.02) \n",
        "        accuracy, loss = test_predictor(model, device, test_dl, loss_fn)\n",
        "        if best - loss >0:\n",
        "            best = loss\n",
        "            best_state_dict = model.state_dict()\n",
        "            epoch_since_update = 0\n",
        "        else:\n",
        "            epoch_since_update +=1\n",
        "            if epoch_since_update >= patience:\n",
        "              model.load_state_dict(best_state_dict)\n",
        "              break\n",
        "        accuracies.append(accuracy)\n",
        "        losses.append(loss)\n",
        "        optimizer.step()\n",
        "    return model, accuracies, losses"
      ]
    },
    {
      "cell_type": "code",
      "execution_count": 69,
      "metadata": {},
      "outputs": [
        {
          "name": "stdout",
          "output_type": "stream",
          "text": [
            "output: tensor([[0.1528]], device='cuda:0'), pred: tensor([[0.]], device='cuda:0'), target: tensor([[1.]], device='cuda:0')\n",
            "output: tensor([[0.]], device='cuda:0'), pred: tensor([[0.]], device='cuda:0'), target: tensor([[1.]], device='cuda:0')\n",
            "output: tensor([[1.]], device='cuda:0'), pred: tensor([[1.]], device='cuda:0'), target: tensor([[0.]], device='cuda:0')\n",
            "\n",
            "Test set: Average loss: 67.2928, Accuracy: 0/3 (0.00%)\n",
            "\n",
            "output: tensor([[0.]], device='cuda:0'), pred: tensor([[0.]], device='cuda:0'), target: tensor([[1.]], device='cuda:0')\n",
            "output: tensor([[0.]], device='cuda:0'), pred: tensor([[0.]], device='cuda:0'), target: tensor([[1.]], device='cuda:0')\n",
            "output: tensor([[7.5835e-29]], device='cuda:0'), pred: tensor([[0.]], device='cuda:0'), target: tensor([[0.]], device='cuda:0')\n",
            "\n",
            "Test set: Average loss: 66.6667, Accuracy: 1/3 (33.33%)\n",
            "\n",
            "output: tensor([[1.7352e-16]], device='cuda:0'), pred: tensor([[0.]], device='cuda:0'), target: tensor([[1.]], device='cuda:0')\n",
            "output: tensor([[0.]], device='cuda:0'), pred: tensor([[0.]], device='cuda:0'), target: tensor([[1.]], device='cuda:0')\n",
            "output: tensor([[1.]], device='cuda:0'), pred: tensor([[1.]], device='cuda:0'), target: tensor([[0.]], device='cuda:0')\n",
            "\n",
            "Test set: Average loss: 78.7634, Accuracy: 0/3 (0.00%)\n",
            "\n",
            "output: tensor([[0.0002]], device='cuda:0'), pred: tensor([[0.]], device='cuda:0'), target: tensor([[1.]], device='cuda:0')\n",
            "output: tensor([[0.]], device='cuda:0'), pred: tensor([[0.]], device='cuda:0'), target: tensor([[1.]], device='cuda:0')\n",
            "output: tensor([[1.]], device='cuda:0'), pred: tensor([[1.]], device='cuda:0'), target: tensor([[0.]], device='cuda:0')\n",
            "\n",
            "Test set: Average loss: 69.4353, Accuracy: 0/3 (0.00%)\n",
            "\n",
            "output: tensor([[0.0226]], device='cuda:0'), pred: tensor([[0.]], device='cuda:0'), target: tensor([[1.]], device='cuda:0')\n",
            "output: tensor([[0.]], device='cuda:0'), pred: tensor([[0.]], device='cuda:0'), target: tensor([[1.]], device='cuda:0')\n",
            "output: tensor([[1.]], device='cuda:0'), pred: tensor([[1.]], device='cuda:0'), target: tensor([[0.]], device='cuda:0')\n",
            "\n",
            "Test set: Average loss: 67.9297, Accuracy: 0/3 (0.00%)\n",
            "\n",
            "output: tensor([[0.0355]], device='cuda:0'), pred: tensor([[0.]], device='cuda:0'), target: tensor([[1.]], device='cuda:0')\n",
            "output: tensor([[0.]], device='cuda:0'), pred: tensor([[0.]], device='cuda:0'), target: tensor([[1.]], device='cuda:0')\n",
            "output: tensor([[1.]], device='cuda:0'), pred: tensor([[1.]], device='cuda:0'), target: tensor([[0.]], device='cuda:0')\n",
            "\n",
            "Test set: Average loss: 67.7797, Accuracy: 0/3 (0.00%)\n",
            "\n",
            "output: tensor([[0.0279]], device='cuda:0'), pred: tensor([[0.]], device='cuda:0'), target: tensor([[1.]], device='cuda:0')\n",
            "output: tensor([[0.]], device='cuda:0'), pred: tensor([[0.]], device='cuda:0'), target: tensor([[1.]], device='cuda:0')\n",
            "output: tensor([[1.]], device='cuda:0'), pred: tensor([[1.]], device='cuda:0'), target: tensor([[0.]], device='cuda:0')\n",
            "\n",
            "Test set: Average loss: 67.8596, Accuracy: 0/3 (0.00%)\n",
            "\n",
            "output: tensor([[0.0191]], device='cuda:0'), pred: tensor([[0.]], device='cuda:0'), target: tensor([[1.]], device='cuda:0')\n",
            "output: tensor([[0.]], device='cuda:0'), pred: tensor([[0.]], device='cuda:0'), target: tensor([[1.]], device='cuda:0')\n",
            "output: tensor([[1.]], device='cuda:0'), pred: tensor([[1.]], device='cuda:0'), target: tensor([[0.]], device='cuda:0')\n",
            "\n",
            "Test set: Average loss: 67.9863, Accuracy: 0/3 (0.00%)\n",
            "\n",
            "output: tensor([[0.0165]], device='cuda:0'), pred: tensor([[0.]], device='cuda:0'), target: tensor([[1.]], device='cuda:0')\n",
            "output: tensor([[0.]], device='cuda:0'), pred: tensor([[0.]], device='cuda:0'), target: tensor([[1.]], device='cuda:0')\n",
            "output: tensor([[1.]], device='cuda:0'), pred: tensor([[1.]], device='cuda:0'), target: tensor([[0.]], device='cuda:0')\n",
            "\n",
            "Test set: Average loss: 68.0340, Accuracy: 0/3 (0.00%)\n",
            "\n",
            "output: tensor([[0.0143]], device='cuda:0'), pred: tensor([[0.]], device='cuda:0'), target: tensor([[1.]], device='cuda:0')\n",
            "output: tensor([[0.]], device='cuda:0'), pred: tensor([[0.]], device='cuda:0'), target: tensor([[1.]], device='cuda:0')\n",
            "output: tensor([[1.]], device='cuda:0'), pred: tensor([[1.]], device='cuda:0'), target: tensor([[0.]], device='cuda:0')\n",
            "\n",
            "Test set: Average loss: 68.0834, Accuracy: 0/3 (0.00%)\n",
            "\n"
          ]
        }
      ],
      "source": [
        "maineffect_model, me_accuracies, me_losses = run_train_maineffect(x,y,xval,yval,beta =5) "
      ]
    },
    {
      "cell_type": "markdown",
      "metadata": {
        "id": "zNIw8Z1K433L"
      },
      "source": [
        "## Shapley Taylor Interaction Index"
      ]
    },
    {
      "cell_type": "code",
      "execution_count": 90,
      "metadata": {
        "id": "oDyPj4_X4c5f"
      },
      "outputs": [],
      "source": [
        "import numpy as np\n",
        "import torch\n",
        "import torch.multiprocessing as mp\n",
        "\n",
        "class ShapleyTaylorInteractionIndex:\n",
        "    def __init__(self,\n",
        "            encodings,\n",
        "            predictor,\n",
        "            device,\n",
        "            num_permutations: int|None = None,\n",
        "            ):\n",
        "        \"\"\"\n",
        "        encodings expected dimension = (individuals,genes,gene_embedding dimension)\n",
        "\n",
        "        \"\"\"\n",
        "        self.num_permutations = num_permutations\n",
        "        self.encodings = encodings\n",
        "        self.predictor = predictor\n",
        "        self.predictor.eval()\n",
        "        self.baseline = self.caluculate_baseline(self.encodings)\n",
        "        self.num_individuals = self.encodings.shape[0]\n",
        "        self.num_genes = self.encodings.shape[1]\n",
        "        self.device = device\n",
        "\n",
        "    def caluculate_baseline(self, encodings):\n",
        "        #verify this is right\n",
        "        baseline = torch.mean(encodings, dim =0)\n",
        "        return baseline\n",
        "\n",
        "    def generate_permutations(self, num_permutations, num_genes):\n",
        "        permutations = [np.random.permutation(num_genes) for _ in range(num_permutations)]\n",
        "        return permutations\n",
        "\n",
        "    def generate_stratified_permutations(self, num_permutations, num_genes, encodings):\n",
        "        pass\n",
        "\n",
        "    def global_shapely_interaction_index(self, num_permutations,shapley_values = True):\n",
        "        if not num_permutations:\n",
        "            if not self.num_permutations:\n",
        "                raise ValueError(\"num_permutations can not be none\")\n",
        "            else:\n",
        "                num_permutations=self.num_permutations\n",
        "\n",
        "        #intitialize matrix\n",
        "        global_shapley_interactions = torch.zeros(size=(self.num_individuals,self.num_genes,self.num_genes))\n",
        "        #make the permutation matrix\n",
        "        permutations = self.generate_permutations(num_permutations,self.num_genes)\n",
        "        \"\"\"\n",
        "        mp.set_start_method('spawn', force=True)  # Force if already set\n",
        "        num_processes = mp.cpu_count()\n",
        "        if num_processes > num_permutations:\n",
        "          num_processes = num_permutations\n",
        "        pool = mp.Pool(processes=num_processes)\n",
        "        #iterate over individuals, could be parallelized\n",
        "        results = pool.starmap(self.local_shapley_interaction_index, [(permutations,k, shapley_values) for k in range(self.num_individuals)])\n",
        "        pool.close()\n",
        "        pool.join()\n",
        "        global_shapley_interactions = torch.stack(results, axis=0)\n",
        "        \"\"\"\n",
        "\n",
        "        for k in range(self.num_individuals):\n",
        "            global_shapley_interactions[k] = self.local_shapley_interaction_index(permutations,k, shapley_values)\n",
        "            print(f\"finished up to {k}\")\n",
        "\n",
        "        #check axis\n",
        "\n",
        "        global_shapley_interactions = torch.mean(global_shapley_interactions,axis = 0)\n",
        "        return global_shapley_interactions\n",
        "\n",
        "    def local_shapley_interaction_index(self,permutations,k, shapley_values):\n",
        "        local_shapley_interaction = torch.zeros(size=(len(permutations),self.num_genes,self.num_genes))\n",
        "        if shapley_values:\n",
        "            marginal_contribution = torch.zeros(size=(len(permutations),self.num_genes))\n",
        "        for iter, pi in enumerate(permutations):\n",
        "            s = []\n",
        "            for i in pi:\n",
        "                if i >=1: s.append(i-1)\n",
        "                for j in pi[i+1:]:\n",
        "                    local_shapley_interaction[iter,i,j] = self.interaction_score(s,i,j,k)\n",
        "                if shapley_values:\n",
        "                    marginal_contribution[iter,i] = self.marginal_contribution(s,i,k)\n",
        "        local_shapley_interaction = torch.mean(local_shapley_interaction,axis=0)\n",
        "        local_shapley_interaction = local_shapley_interaction + +local_shapley_interaction.T\n",
        "        if shapley_values:\n",
        "            local_shapley_interaction += torch.diag(torch.mean(marginal_contribution, axis =0))\n",
        "        #maybe add shapley value here\n",
        "        return local_shapley_interaction\n",
        "\n",
        "    def interaction_score(self, s, i, j,k):\n",
        "        s_ij = self.mask_input(s+[i,j],k).flatten().unsqueeze(0)\n",
        "        s_i = self.mask_input(s+[i],k).flatten().unsqueeze(0)\n",
        "        s_j = self.mask_input(s+[j],k).flatten().unsqueeze(0)\n",
        "        s = self.mask_input(s,k).flatten().unsqueeze(0)\n",
        "        with torch.no_grad():\n",
        "            output_s_ij, _ = self.predictor(s_ij.to(self.device))\n",
        "            output_s_i, _ = self.predictor(s_i.to(self.device))\n",
        "            output_s_j, _ = self.predictor(s_j.to(self.device))\n",
        "            output_s, _ = self.predictor(s.to(self.device))\n",
        "        interaction_score = output_s_ij-output_s_i-output_s_j+output_s\n",
        "        return interaction_score\n",
        "\n",
        "    def marginal_contribution(self,s,i,k):\n",
        "        s_i = self.mask_input(s+[i],k).flatten().unsqueeze(0)\n",
        "        s= self.mask_input(s,k).flatten().unsqueeze(0)\n",
        "        with torch.no_grad():\n",
        "            output_s_i, _ = self.predictor(s_i.to(self.device))\n",
        "            output_s, _ = self.predictor(s.to(self.device))\n",
        "        marginal_contribution = output_s_i - output_s\n",
        "        return marginal_contribution\n",
        "\n",
        "    def mask_input(self, index_set, k):\n",
        "        input = self.baseline.clone()\n",
        "        input[index_set]=self.encodings[k][index_set]\n",
        "        return input\n",
        "\n",
        "\n",
        "\n",
        "\n",
        "\n"
      ]
    },
    {
      "cell_type": "markdown",
      "metadata": {},
      "source": [
        "### Calculate Interactions"
      ]
    },
    {
      "cell_type": "code",
      "execution_count": 53,
      "metadata": {
        "id": "xGF9AJl37QZK"
      },
      "outputs": [],
      "source": [
        "device = 'cuda' if torch.cuda.is_available() else 'cpu'\n",
        "\n"
      ]
    },
    {
      "cell_type": "code",
      "execution_count": 91,
      "metadata": {
        "id": "faXdSsCS42ss"
      },
      "outputs": [],
      "source": [
        "stii = ShapleyTaylorInteractionIndex(reshaped_embeddings_train.permute(1,0,2), predictor=predictor,device=device)"
      ]
    },
    {
      "cell_type": "code",
      "execution_count": 92,
      "metadata": {
        "colab": {
          "base_uri": "https://localhost:8080/"
        },
        "id": "EWSl5HQu58Ui",
        "outputId": "2ee7242d-5b71-4c0f-a5a0-2a7102378294"
      },
      "outputs": [
        {
          "name": "stdout",
          "output_type": "stream",
          "text": [
            "finished up to 0\n",
            "finished up to 1\n",
            "finished up to 2\n",
            "finished up to 3\n",
            "finished up to 4\n",
            "finished up to 5\n",
            "finished up to 6\n",
            "finished up to 7\n",
            "finished up to 8\n",
            "finished up to 9\n",
            "finished up to 10\n",
            "finished up to 11\n",
            "finished up to 12\n",
            "finished up to 13\n",
            "finished up to 14\n",
            "finished up to 15\n",
            "finished up to 16\n"
          ]
        }
      ],
      "source": [
        "gene_interaction_index = stii.global_shapely_interaction_index(num_permutations=10)"
      ]
    },
    {
      "cell_type": "code",
      "execution_count": 95,
      "metadata": {
        "colab": {
          "base_uri": "https://localhost:8080/"
        },
        "id": "wKPwSl1S6Ees",
        "outputId": "121e358e-fadd-4ef7-eb28-30a22f1bf68b"
      },
      "outputs": [
        {
          "name": "stdout",
          "output_type": "stream",
          "text": [
            "finished up to 0\n",
            "finished up to 1\n",
            "finished up to 2\n",
            "finished up to 3\n",
            "finished up to 4\n",
            "finished up to 5\n",
            "finished up to 6\n",
            "finished up to 7\n",
            "finished up to 8\n",
            "finished up to 9\n",
            "finished up to 10\n",
            "finished up to 11\n",
            "finished up to 12\n",
            "finished up to 13\n",
            "finished up to 14\n",
            "finished up to 15\n",
            "finished up to 16\n"
          ]
        }
      ],
      "source": [
        "meii = ShapleyTaylorInteractionIndex(reshaped_embeddings_train.permute(1,0,2), predictor=maineffect_model,device=device)\n",
        "maineffect_index = stii.global_shapely_interaction_index(num_permutations=10, shapley_values=True)"
      ]
    },
    {
      "cell_type": "markdown",
      "metadata": {},
      "source": [
        "### Interaction Heatmaps"
      ]
    },
    {
      "cell_type": "code",
      "execution_count": 93,
      "metadata": {},
      "outputs": [],
      "source": [
        "import seaborn as sns"
      ]
    },
    {
      "cell_type": "code",
      "execution_count": 94,
      "metadata": {},
      "outputs": [
        {
          "data": {
            "text/plain": [
              "<Axes: >"
            ]
          },
          "execution_count": 94,
          "metadata": {},
          "output_type": "execute_result"
        },
        {
          "data": {
            "image/png": "[encoded data removed]",
            "text/plain": [
              "<Figure size 640x480 with 2 Axes>"
            ]
          },
          "metadata": {},
          "output_type": "display_data"
        }
      ],
      "source": [
        "sns.heatmap(gene_interaction_index)"
      ]
    },
    {
      "cell_type": "code",
      "execution_count": 96,
      "metadata": {},
      "outputs": [
        {
          "data": {
            "text/plain": [
              "<Axes: >"
            ]
          },
          "execution_count": 96,
          "metadata": {},
          "output_type": "execute_result"
        },
        {
          "data": {
            "image/png": "[encoded data removed]",
            "text/plain": [
              "<Figure size 640x480 with 2 Axes>"
            ]
          },
          "metadata": {},
          "output_type": "display_data"
        }
      ],
      "source": [
        "sns.heatmap(maineffect_index)"
      ]
    },
    {
      "cell_type": "code",
      "execution_count": 57,
      "metadata": {},
      "outputs": [],
      "source": [
        "# Create a mask with zeros in the lower triangle and ones in the upper triangle\n",
        "mask = torch.triu(torch.ones_like(gene_interaction_index), diagonal=1)\n",
        "\n",
        "# Multiply the interaction_index by the mask\n",
        "upper_interaction_index = gene_interaction_index * mask"
      ]
    },
    {
      "cell_type": "markdown",
      "metadata": {},
      "source": [
        "## Residual Permutation Dataset"
      ]
    },
    {
      "cell_type": "markdown",
      "metadata": {},
      "source": [
        "Should I permute just over test set and train set seperatley or together."
      ]
    },
    {
      "cell_type": "code",
      "execution_count": 146,
      "metadata": {},
      "outputs": [],
      "source": [
        "def compute_residual_labels(main_effect, x, y, device):\n",
        "    main_effect.to(device)\n",
        "    x = x.to(device)\n",
        "    y = y.to(device)\n",
        "    main_effect.eval()\n",
        "    with torch.no_grad():\n",
        "        # can add this in if we need to use a dataloader for bigger datasets\n",
        "       # dl = DataLoader(TensorDataset(x, y.unsqueeze(1)), batch_size=16, shuffle=True)\n",
        "        outputs, _ = main_effect(x)\n",
        "        print(outputs)\n",
        "    residuals = y- outputs.squeeze()\n",
        "    print(residuals)\n",
        "    return residuals, outputs.squeeze()"
      ]
    },
    {
      "cell_type": "code",
      "execution_count": 147,
      "metadata": {},
      "outputs": [],
      "source": [
        "def generate_permutated_dataset(main_effect, x,y, device):\n",
        "    residuals, outputs = compute_residual_labels(main_effect, x, y, device)\n",
        "    permutation = torch.randperm(residuals.shape[0])\n",
        "    permuted_residuals = residuals[permutation]\n",
        "    \n",
        "    permuted_y = permuted_residuals + outputs\n",
        "    return permuted_y"
      ]
    },
    {
      "cell_type": "code",
      "execution_count": 110,
      "metadata": {},
      "outputs": [],
      "source": [
        "device = 'cuda' if torch.cuda.is_available() else 'cpu'"
      ]
    },
    {
      "cell_type": "code",
      "execution_count": 148,
      "metadata": {},
      "outputs": [
        {
          "name": "stdout",
          "output_type": "stream",
          "text": [
            "tensor([[0.],\n",
            "        [0.],\n",
            "        [0.],\n",
            "        [0.],\n",
            "        [0.],\n",
            "        [1.],\n",
            "        [1.],\n",
            "        [1.],\n",
            "        [1.],\n",
            "        [0.],\n",
            "        [1.],\n",
            "        [0.],\n",
            "        [0.],\n",
            "        [1.],\n",
            "        [1.],\n",
            "        [1.],\n",
            "        [1.]], device='cuda:0')\n",
            "tensor([ 0.,  0.,  0.,  0.,  0.,  0., -1., -1., -1.,  0., -1.,  1.,  1., -1.,\n",
            "        -1., -1., -1.], device='cuda:0')\n"
          ]
        }
      ],
      "source": [
        "permuted_y = generate_permutated_dataset(maineffect_model, x, y, device)"
      ]
    },
    {
      "cell_type": "code",
      "execution_count": 141,
      "metadata": {},
      "outputs": [
        {
          "data": {
            "text/plain": [
              "torch.Size([17])"
            ]
          },
          "execution_count": 141,
          "metadata": {},
          "output_type": "execute_result"
        }
      ],
      "source": [
        "y.shape"
      ]
    },
    {
      "cell_type": "code",
      "execution_count": 142,
      "metadata": {},
      "outputs": [
        {
          "data": {
            "text/plain": [
              "torch.Size([17])"
            ]
          },
          "execution_count": 142,
          "metadata": {},
          "output_type": "execute_result"
        }
      ],
      "source": [
        "permuted_y.shape"
      ]
    },
    {
      "cell_type": "code",
      "execution_count": 143,
      "metadata": {},
      "outputs": [
        {
          "data": {
            "text/plain": [
              "tensor([ 0., -1., -1., -1., -1.,  1.,  1.,  2.,  1.,  0.,  1.,  0., -1.,  0.,\n",
              "         0.,  0.,  2.], device='cuda:0')"
            ]
          },
          "execution_count": 143,
          "metadata": {},
          "output_type": "execute_result"
        }
      ],
      "source": [
        "permuted_y"
      ]
    },
    {
      "cell_type": "code",
      "execution_count": null,
      "metadata": {},
      "outputs": [],
      "source": []
    }
  ],
  "metadata": {
    "accelerator": "GPU",
    "colab": {
      "collapsed_sections": [
        "gnD3Z9eRUe0G",
        "pPz3n-oI6XQX",
        "qr1uLqDtbcwa"
      ],
      "gpuType": "T4",
      "provenance": []
    },
    "kernelspec": {
      "display_name": "exmd",
      "language": "python",
      "name": "python3"
    },
    "language_info": {
      "codemirror_mode": {
        "name": "ipython",
        "version": 3
      },
      "file_extension": ".py",
      "mimetype": "text/x-python",
      "name": "python",
      "nbconvert_exporter": "python",
      "pygments_lexer": "ipython3",
      "version": "3.10.15"
    }
  },
  "nbformat": 4,
  "nbformat_minor": 0
}
