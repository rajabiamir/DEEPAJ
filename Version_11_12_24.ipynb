{
  "nbformat": 4,
  "nbformat_minor": 0,
  "metadata": {
    "colab": {
      "provenance": []
    },
    "kernelspec": {
      "name": "python3",
      "display_name": "Python 3"
    },
    "language_info": {
      "name": "python"
    }
  },
  "cells": [
    {
      "cell_type": "code",
      "execution_count": null,
      "metadata": {
        "colab": {
          "base_uri": "https://localhost:8080/"
        },
        "id": "_xB6Ex0DOxlE",
        "outputId": "89dcf9e9-f15b-4555-89f8-f72568d049ed"
      },
      "outputs": [
        {
          "output_type": "stream",
          "name": "stdout",
          "text": [
            "Cloning into 'sae'...\n",
            "remote: Enumerating objects: 662, done.\u001b[K\n",
            "remote: Counting objects: 100% (662/662), done.\u001b[K\n",
            "remote: Compressing objects: 100% (279/279), done.\u001b[K\n",
            "remote: Total 662 (delta 392), reused 641 (delta 376), pack-reused 0 (from 0)\u001b[K\n",
            "Receiving objects: 100% (662/662), 20.79 MiB | 19.70 MiB/s, done.\n",
            "Resolving deltas: 100% (392/392), done.\n"
          ]
        }
      ],
      "source": [
        "!git clone https://github.com/Acciorocketships/sae.git"
      ]
    },
    {
      "cell_type": "code",
      "source": [
        "%cd sae"
      ],
      "metadata": {
        "colab": {
          "base_uri": "https://localhost:8080/"
        },
        "id": "6JrWFqt_P3K9",
        "outputId": "7ae11f05-ce7c-4dc4-e4d3-3ca223d8de32"
      },
      "execution_count": null,
      "outputs": [
        {
          "output_type": "stream",
          "name": "stdout",
          "text": [
            "/content/sae\n"
          ]
        }
      ]
    },
    {
      "cell_type": "code",
      "source": [
        "!pip install -e"
      ],
      "metadata": {
        "colab": {
          "base_uri": "https://localhost:8080/"
        },
        "id": "KP747dxVP3Nq",
        "outputId": "4f8eb3bf-956f-4fda-ecc9-af66ed095133"
      },
      "execution_count": null,
      "outputs": [
        {
          "output_type": "stream",
          "name": "stdout",
          "text": [
            "\n",
            "Usage:   \n",
            "  pip3 install [options] <requirement specifier> [package-index-options] ...\n",
            "  pip3 install [options] -r <requirements file> [package-index-options] ...\n",
            "  pip3 install [options] [-e] <vcs project url> ...\n",
            "  pip3 install [options] [-e] <local project path> ...\n",
            "  pip3 install [options] <archive url/path> ...\n",
            "\n",
            "-e option requires 1 argument\n"
          ]
        }
      ]
    },
    {
      "cell_type": "code",
      "source": [
        "import torch\n",
        "from torch import nn, optim\n",
        "from sae import AutoEncoder"
      ],
      "metadata": {
        "id": "zLnfVDi9P3P3"
      },
      "execution_count": null,
      "outputs": []
    },
    {
      "cell_type": "code",
      "source": [
        "dim = 10\n",
        "max_n = 5\n",
        "hidden_dim = 4\n",
        "epochs = 50"
      ],
      "metadata": {
        "id": "B5LZQ5lNQNa0"
      },
      "execution_count": null,
      "outputs": []
    },
    {
      "cell_type": "code",
      "source": [
        "model = AutoEncoder(dim=dim, hidden_dim=hidden_dim, max_n=max_n)"
      ],
      "metadata": {
        "id": "Nn1FasuHQNdI"
      },
      "execution_count": null,
      "outputs": []
    },
    {
      "cell_type": "code",
      "source": [
        "optimizer = optim.Adam(model.parameters(), lr=0.001)"
      ],
      "metadata": {
        "id": "Fef8ZaLTQNfl"
      },
      "execution_count": null,
      "outputs": []
    },
    {
      "cell_type": "code",
      "source": [
        "x = torch.randn(5, dim)"
      ],
      "metadata": {
        "id": "L26MWlhqQNh6"
      },
      "execution_count": null,
      "outputs": []
    },
    {
      "cell_type": "code",
      "source": [
        "batch = torch.arange(0, 5)"
      ],
      "metadata": {
        "id": "N3VbqBR6WO1J"
      },
      "execution_count": null,
      "outputs": []
    },
    {
      "cell_type": "code",
      "source": [
        "print(batch)"
      ],
      "metadata": {
        "colab": {
          "base_uri": "https://localhost:8080/"
        },
        "id": "g1YlaenIWfwz",
        "outputId": "c270a932-039b-4eda-b4bd-340002433a76"
      },
      "execution_count": null,
      "outputs": [
        {
          "output_type": "stream",
          "name": "stdout",
          "text": [
            "tensor([0, 1, 2, 3, 4])\n"
          ]
        }
      ]
    },
    {
      "cell_type": "code",
      "source": [
        "for epoch in range(epochs):\n",
        "    model.train()\n",
        "    optimizer.zero_grad()\n",
        "\n",
        "    # Forward pass\n",
        "    xr, batchr = model(x, batch)\n",
        "    loss_data = model.loss()\n",
        "    loss = loss_data[\"loss\"]\n",
        "\n",
        "    # Backward pass\n",
        "    loss.backward()\n",
        "    optimizer.step()\n",
        "\n",
        "    # Logging\n",
        "    if (epoch + 1) % 10 == 0:\n",
        "        print(f\"Epoch {epoch + 1}/{epochs}, Loss: {loss.item()}\")"
      ],
      "metadata": {
        "colab": {
          "base_uri": "https://localhost:8080/"
        },
        "id": "nj0_S82zQNmk",
        "outputId": "99cfb481-28f9-4ac9-d87d-63badeb79cf0"
      },
      "execution_count": null,
      "outputs": [
        {
          "output_type": "stream",
          "name": "stdout",
          "text": [
            "Epoch 10/50, Loss: 46.09587478637695\n",
            "Epoch 20/50, Loss: 42.90612030029297\n",
            "Epoch 30/50, Loss: 39.43661117553711\n",
            "Epoch 40/50, Loss: 35.85036849975586\n",
            "Epoch 50/50, Loss: 32.07410430908203\n"
          ]
        }
      ]
    },
    {
      "cell_type": "code",
      "source": [
        "model.eval()\n",
        "z = model.encoder(x, batch)\n",
        "xr, batchr = model.decoder(z)"
      ],
      "metadata": {
        "id": "sfzzYh-1QNox"
      },
      "execution_count": null,
      "outputs": []
    },
    {
      "cell_type": "code",
      "source": [
        "print(z)"
      ],
      "metadata": {
        "colab": {
          "base_uri": "https://localhost:8080/"
        },
        "id": "Ut3WsF6DY3YH",
        "outputId": "2056e59f-975d-4bcb-f539-66b8703f92c7"
      },
      "execution_count": null,
      "outputs": [
        {
          "output_type": "stream",
          "name": "stdout",
          "text": [
            "tensor([[ 0.9771,  0.1042, -0.3747, -0.1255],\n",
            "        [ 0.9713,  0.2305, -0.3769, -0.0842],\n",
            "        [ 0.9869, -0.0355, -0.3836, -0.0304],\n",
            "        [ 0.9757, -0.1110, -0.3868, -0.1409],\n",
            "        [ 0.9729, -0.0326, -0.3840, -0.1135]], grad_fn=<AddBackward0>)\n"
          ]
        }
      ]
    },
    {
      "cell_type": "code",
      "source": [
        "#To store the resulting embedding for that individual\n",
        "#Need to change to account for embedding for each individual\n",
        "individual_embeddings = z.flatten()"
      ],
      "metadata": {
        "id": "Ey8Ws5NvY3ab"
      },
      "execution_count": null,
      "outputs": []
    },
    {
      "cell_type": "code",
      "source": [
        "import torch\n",
        "import numpy as np\n",
        "import torch.nn as nn\n",
        "import torch.nn.functional as F\n",
        "from sklearn.model_selection import train_test_split\n"
      ],
      "metadata": {
        "id": "NgroPmgNeOMo"
      },
      "execution_count": null,
      "outputs": []
    },
    {
      "cell_type": "code",
      "source": [
        "num_individuals = 20\n",
        "num_rows = 5\n",
        "num_cols = 4\n",
        "\n",
        "synthetic_embeddings = []\n",
        "for i in range(num_individuals):\n",
        "    z = torch.randn(num_rows, num_cols)\n",
        "    synthetic_embeddings.append(z.flatten())\n",
        "\n",
        "#Stack embeddings into a single tensor\n",
        "synthetic_embeddings = torch.stack(synthetic_embeddings)  # Shape: (20, 20)\n",
        "\n",
        "#Generate random labels (0: healthy, 1: diseased)\n",
        "labels = torch.randint(0, 2, (num_individuals,))  # Shape: (20,)"
      ],
      "metadata": {
        "id": "O9CmnHiBY3ce"
      },
      "execution_count": null,
      "outputs": []
    },
    {
      "cell_type": "code",
      "source": [
        "class GeneInteractionNN(nn.Module):\n",
        "    def __init__(self, input_dim, hidden_dim):\n",
        "        super(GeneInteractionNN, self).__init__()\n",
        "        self.hidden = nn.Linear(input_dim, hidden_dim)\n",
        "        self.output = nn.Linear(hidden_dim, 1)\n",
        "\n",
        "    def forward(self, x):\n",
        "        x = F.relu(self.hidden(x))\n",
        "        x = torch.sigmoid(self.output(x))\n",
        "        return x"
      ],
      "metadata": {
        "id": "ObRkqH7seg6Y"
      },
      "execution_count": null,
      "outputs": []
    },
    {
      "cell_type": "code",
      "source": [
        "z_train, z_test, y_train, y_test = train_test_split(synthetic_embeddings.detach().numpy(), labels.numpy(), test_size=0.2, random_state=42)"
      ],
      "metadata": {
        "id": "-0D6yo-Weg82"
      },
      "execution_count": null,
      "outputs": []
    },
    {
      "cell_type": "code",
      "source": [
        "z_train = torch.tensor(z_train, dtype=torch.float32)\n",
        "z_test = torch.tensor(z_test, dtype=torch.float32)\n",
        "y_train = torch.tensor(y_train, dtype=torch.float32).unsqueeze(1)\n",
        "y_test = torch.tensor(y_test, dtype=torch.float32).unsqueeze(1)"
      ],
      "metadata": {
        "id": "2C2lvhZSfRFN"
      },
      "execution_count": null,
      "outputs": []
    },
    {
      "cell_type": "code",
      "source": [
        "input_dim = synthetic_embeddings.shape[1]\n",
        "hidden_dim = 32\n",
        "model = GeneInteractionNN(input_dim, hidden_dim)"
      ],
      "metadata": {
        "id": "Y1kvZ_t4fRHq"
      },
      "execution_count": null,
      "outputs": []
    },
    {
      "cell_type": "code",
      "source": [
        "criterion = nn.BCELoss()\n",
        "optimizer = torch.optim.Adam(model.parameters(), lr=0.001)"
      ],
      "metadata": {
        "id": "vmsRCoHDfRMN"
      },
      "execution_count": null,
      "outputs": []
    },
    {
      "cell_type": "code",
      "source": [
        "epochs = 100\n",
        "for epoch in range(epochs):\n",
        "    model.train()\n",
        "    optimizer.zero_grad()\n",
        "    y_pred = model(z_train)\n",
        "    loss = criterion(y_pred, y_train)\n",
        "    loss.backward()\n",
        "    optimizer.step()\n",
        "\n",
        "    if (epoch + 1) % 10 == 0:\n",
        "        print(f\"Epoch {epoch + 1}/{epochs}, Loss: {loss.item()}\")"
      ],
      "metadata": {
        "colab": {
          "base_uri": "https://localhost:8080/"
        },
        "id": "kZS9w0ocfl5V",
        "outputId": "8609cd32-8b4d-4c50-f978-4b2440a74446"
      },
      "execution_count": null,
      "outputs": [
        {
          "output_type": "stream",
          "name": "stdout",
          "text": [
            "Epoch 10/100, Loss: 0.6365154385566711\n",
            "Epoch 20/100, Loss: 0.5977104902267456\n",
            "Epoch 30/100, Loss: 0.5585681200027466\n",
            "Epoch 40/100, Loss: 0.5182914733886719\n",
            "Epoch 50/100, Loss: 0.47572648525238037\n",
            "Epoch 60/100, Loss: 0.43121540546417236\n",
            "Epoch 70/100, Loss: 0.3861408531665802\n",
            "Epoch 80/100, Loss: 0.34172922372817993\n",
            "Epoch 90/100, Loss: 0.29940494894981384\n",
            "Epoch 100/100, Loss: 0.2602156698703766\n"
          ]
        }
      ]
    },
    {
      "cell_type": "code",
      "source": [
        "model.eval()\n",
        "with torch.no_grad():\n",
        "    y_pred_test = model(z_test)\n",
        "    test_loss = criterion(y_pred_test, y_test)\n",
        "    print(f\"Test Loss: {test_loss.item()}\")"
      ],
      "metadata": {
        "colab": {
          "base_uri": "https://localhost:8080/"
        },
        "id": "ExDj7uCFfl7Z",
        "outputId": "3fb2b1a3-ced0-4279-bfb4-0bfe91457b9a"
      },
      "execution_count": null,
      "outputs": [
        {
          "output_type": "stream",
          "name": "stdout",
          "text": [
            "Test Loss: 0.7851940989494324\n"
          ]
        }
      ]
    },
    {
      "cell_type": "code",
      "source": [],
      "metadata": {
        "id": "fb7hl6rTfROf"
      },
      "execution_count": null,
      "outputs": []
    }
  ]
}