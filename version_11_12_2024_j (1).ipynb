{
  "nbformat": 4,
  "nbformat_minor": 0,
  "metadata": {
    "colab": {
      "provenance": [],
      "gpuType": "T4",
      "collapsed_sections": [
        "gnD3Z9eRUe0G",
        "pPz3n-oI6XQX",
        "qr1uLqDtbcwa"
      ]
    },
    "kernelspec": {
      "name": "python3",
      "display_name": "Python 3"
    },
    "language_info": {
      "name": "python"
    },
    "accelerator": "GPU"
  },
  "cells": [
    {
      "cell_type": "markdown",
      "source": [
        "## Installs\n"
      ],
      "metadata": {
        "id": "KTHksdfUxjEy"
      }
    },
    {
      "cell_type": "code",
      "execution_count": 1,
      "metadata": {
        "colab": {
          "base_uri": "https://localhost:8080/"
        },
        "id": "kjy4DUSg0oY-",
        "outputId": "46c1c344-96a5-4acc-f010-776f96179b24"
      },
      "outputs": [
        {
          "output_type": "stream",
          "name": "stdout",
          "text": [
            "fatal: destination path 'sae' already exists and is not an empty directory.\n"
          ]
        }
      ],
      "source": [
        "! git clone https://github.com/Acciorocketships/sae.git"
      ]
    },
    {
      "cell_type": "code",
      "source": [
        "!pip uninstall sae\n"
      ],
      "metadata": {
        "id": "fvByh_q01OHg",
        "colab": {
          "base_uri": "https://localhost:8080/"
        },
        "outputId": "3f36c860-d171-4d00-8f23-85e1f56b31d0"
      },
      "execution_count": 29,
      "outputs": [
        {
          "output_type": "stream",
          "name": "stdout",
          "text": [
            "Found existing installation: sae 1.1.0\n",
            "Uninstalling sae-1.1.0:\n",
            "  Would remove:\n",
            "    /usr/local/lib/python3.10/dist-packages/sae.egg-link\n",
            "Proceed (Y/n)? y\n",
            "  Successfully uninstalled sae-1.1.0\n"
          ]
        }
      ]
    },
    {
      "cell_type": "code",
      "source": [
        "! pip install -e sae\n"
      ],
      "metadata": {
        "colab": {
          "base_uri": "https://localhost:8080/"
        },
        "id": "pVnPb9Zx1hxP",
        "outputId": "ec450b0c-7157-4561-8c55-d6858f0fb470"
      },
      "execution_count": 1,
      "outputs": [
        {
          "output_type": "stream",
          "name": "stdout",
          "text": [
            "Obtaining file:///home/rand/github/XMED521/proj/sae\n",
            "  Preparing metadata (setup.py) ... \u001b[?25l-\b \bdone\n",
            "\u001b[?25hRequirement already satisfied: torch in /home/rand/anaconda/anaconda3/envs/exmd/lib/python3.10/site-packages (from sae==1.1.0) (2.3.0)\n",
            "Requirement already satisfied: scipy in /home/rand/.local/lib/python3.10/site-packages (from sae==1.1.0) (1.13.0)\n",
            "Requirement already satisfied: wandb in /home/rand/anaconda/anaconda3/envs/exmd/lib/python3.10/site-packages (from sae==1.1.0) (0.19.0)\n",
            "Requirement already satisfied: matplotlib in /home/rand/.local/lib/python3.10/site-packages (from sae==1.1.0) (3.9.2)\n",
            "Requirement already satisfied: torchvision in /home/rand/anaconda/anaconda3/envs/exmd/lib/python3.10/site-packages (from sae==1.1.0) (0.20.1)\n",
            "Requirement already satisfied: tqdm in /home/rand/.local/lib/python3.10/site-packages (from sae==1.1.0) (4.66.4)\n",
            "Requirement already satisfied: contourpy>=1.0.1 in /home/rand/.local/lib/python3.10/site-packages (from matplotlib->sae==1.1.0) (1.3.0)\n",
            "Requirement already satisfied: cycler>=0.10 in /home/rand/.local/lib/python3.10/site-packages (from matplotlib->sae==1.1.0) (0.12.1)\n",
            "Requirement already satisfied: fonttools>=4.22.0 in /home/rand/.local/lib/python3.10/site-packages (from matplotlib->sae==1.1.0) (4.53.1)\n",
            "Requirement already satisfied: kiwisolver>=1.3.1 in /home/rand/.local/lib/python3.10/site-packages (from matplotlib->sae==1.1.0) (1.4.7)\n",
            "Requirement already satisfied: numpy>=1.23 in /home/rand/.local/lib/python3.10/site-packages (from matplotlib->sae==1.1.0) (1.26.4)\n",
            "Requirement already satisfied: packaging>=20.0 in /home/rand/.local/lib/python3.10/site-packages (from matplotlib->sae==1.1.0) (23.2)\n",
            "Requirement already satisfied: pillow>=8 in /home/rand/.local/lib/python3.10/site-packages (from matplotlib->sae==1.1.0) (10.3.0)\n",
            "Requirement already satisfied: pyparsing>=2.3.1 in /home/rand/anaconda/anaconda3/envs/exmd/lib/python3.10/site-packages (from matplotlib->sae==1.1.0) (3.2.0)\n",
            "Requirement already satisfied: python-dateutil>=2.7 in /home/rand/.local/lib/python3.10/site-packages (from matplotlib->sae==1.1.0) (2.9.0.post0)\n",
            "Requirement already satisfied: filelock in /home/rand/.local/lib/python3.10/site-packages (from torch->sae==1.1.0) (3.14.0)\n",
            "Requirement already satisfied: typing-extensions>=4.8.0 in /home/rand/.local/lib/python3.10/site-packages (from torch->sae==1.1.0) (4.12.2)\n",
            "Requirement already satisfied: sympy in /home/rand/anaconda/anaconda3/envs/exmd/lib/python3.10/site-packages (from torch->sae==1.1.0) (1.13.1)\n",
            "Requirement already satisfied: networkx in /home/rand/.local/lib/python3.10/site-packages (from torch->sae==1.1.0) (3.3)\n",
            "Requirement already satisfied: jinja2 in /home/rand/.local/lib/python3.10/site-packages (from torch->sae==1.1.0) (3.1.4)\n",
            "Requirement already satisfied: fsspec in /home/rand/.local/lib/python3.10/site-packages (from torch->sae==1.1.0) (2024.3.1)\n",
            "Collecting torch (from sae==1.1.0)\n",
            "  Using cached torch-2.5.1-cp310-cp310-manylinux1_x86_64.whl.metadata (28 kB)\n",
            "Requirement already satisfied: nvidia-cuda-nvrtc-cu12==12.4.127 in /home/rand/anaconda/anaconda3/envs/exmd/lib/python3.10/site-packages (from torch->sae==1.1.0) (12.4.127)\n",
            "Requirement already satisfied: nvidia-cuda-runtime-cu12==12.4.127 in /home/rand/anaconda/anaconda3/envs/exmd/lib/python3.10/site-packages (from torch->sae==1.1.0) (12.4.127)\n",
            "Requirement already satisfied: nvidia-cuda-cupti-cu12==12.4.127 in /home/rand/anaconda/anaconda3/envs/exmd/lib/python3.10/site-packages (from torch->sae==1.1.0) (12.4.127)\n",
            "Requirement already satisfied: nvidia-cudnn-cu12==9.1.0.70 in /home/rand/anaconda/anaconda3/envs/exmd/lib/python3.10/site-packages (from torch->sae==1.1.0) (9.1.0.70)\n",
            "Requirement already satisfied: nvidia-cublas-cu12==12.4.5.8 in /home/rand/anaconda/anaconda3/envs/exmd/lib/python3.10/site-packages (from torch->sae==1.1.0) (12.4.5.8)\n",
            "Requirement already satisfied: nvidia-cufft-cu12==11.2.1.3 in /home/rand/anaconda/anaconda3/envs/exmd/lib/python3.10/site-packages (from torch->sae==1.1.0) (11.2.1.3)\n",
            "Requirement already satisfied: nvidia-curand-cu12==10.3.5.147 in /home/rand/anaconda/anaconda3/envs/exmd/lib/python3.10/site-packages (from torch->sae==1.1.0) (10.3.5.147)\n",
            "Requirement already satisfied: nvidia-cusolver-cu12==11.6.1.9 in /home/rand/anaconda/anaconda3/envs/exmd/lib/python3.10/site-packages (from torch->sae==1.1.0) (11.6.1.9)\n",
            "Requirement already satisfied: nvidia-cusparse-cu12==12.3.1.170 in /home/rand/anaconda/anaconda3/envs/exmd/lib/python3.10/site-packages (from torch->sae==1.1.0) (12.3.1.170)\n",
            "Requirement already satisfied: nvidia-nccl-cu12==2.21.5 in /home/rand/anaconda/anaconda3/envs/exmd/lib/python3.10/site-packages (from torch->sae==1.1.0) (2.21.5)\n",
            "Requirement already satisfied: nvidia-nvtx-cu12==12.4.127 in /home/rand/anaconda/anaconda3/envs/exmd/lib/python3.10/site-packages (from torch->sae==1.1.0) (12.4.127)\n",
            "Requirement already satisfied: nvidia-nvjitlink-cu12==12.4.127 in /home/rand/.local/lib/python3.10/site-packages (from torch->sae==1.1.0) (12.4.127)\n",
            "Requirement already satisfied: triton==3.1.0 in /home/rand/anaconda/anaconda3/envs/exmd/lib/python3.10/site-packages (from torch->sae==1.1.0) (3.1.0)\n",
            "Requirement already satisfied: mpmath<1.4,>=1.1.0 in /home/rand/.local/lib/python3.10/site-packages (from sympy->torch->sae==1.1.0) (1.3.0)\n",
            "Requirement already satisfied: click!=8.0.0,>=7.1 in /home/rand/.local/lib/python3.10/site-packages (from wandb->sae==1.1.0) (8.1.7)\n",
            "Requirement already satisfied: docker-pycreds>=0.4.0 in /home/rand/anaconda/anaconda3/envs/exmd/lib/python3.10/site-packages (from wandb->sae==1.1.0) (0.4.0)\n",
            "Requirement already satisfied: gitpython!=3.1.29,>=1.0.0 in /home/rand/anaconda/anaconda3/envs/exmd/lib/python3.10/site-packages (from wandb->sae==1.1.0) (3.1.43)\n",
            "Requirement already satisfied: platformdirs in /home/rand/anaconda/anaconda3/envs/exmd/lib/python3.10/site-packages (from wandb->sae==1.1.0) (4.3.6)\n",
            "Requirement already satisfied: protobuf!=4.21.0,!=5.28.0,<6,>=3.19.0 in /home/rand/.local/lib/python3.10/site-packages (from wandb->sae==1.1.0) (4.25.3)\n",
            "Requirement already satisfied: psutil>=5.0.0 in /home/rand/.local/lib/python3.10/site-packages (from wandb->sae==1.1.0) (6.0.0)\n",
            "Requirement already satisfied: pydantic<3,>=2.6 in /home/rand/.local/lib/python3.10/site-packages (from wandb->sae==1.1.0) (2.7.1)\n",
            "Requirement already satisfied: pyyaml in /home/rand/.local/lib/python3.10/site-packages (from wandb->sae==1.1.0) (6.0.1)\n",
            "Requirement already satisfied: requests<3,>=2.0.0 in /home/rand/.local/lib/python3.10/site-packages (from wandb->sae==1.1.0) (2.31.0)\n",
            "Requirement already satisfied: sentry-sdk>=2.0.0 in /home/rand/anaconda/anaconda3/envs/exmd/lib/python3.10/site-packages (from wandb->sae==1.1.0) (2.19.2)\n",
            "Requirement already satisfied: setproctitle in /home/rand/anaconda/anaconda3/envs/exmd/lib/python3.10/site-packages (from wandb->sae==1.1.0) (1.3.4)\n",
            "Requirement already satisfied: setuptools in /home/rand/.local/lib/python3.10/site-packages (from wandb->sae==1.1.0) (68.2.2)\n",
            "Requirement already satisfied: six>=1.4.0 in /home/rand/anaconda/anaconda3/envs/exmd/lib/python3.10/site-packages (from docker-pycreds>=0.4.0->wandb->sae==1.1.0) (1.16.0)\n",
            "Requirement already satisfied: gitdb<5,>=4.0.1 in /home/rand/anaconda/anaconda3/envs/exmd/lib/python3.10/site-packages (from gitpython!=3.1.29,>=1.0.0->wandb->sae==1.1.0) (4.0.11)\n",
            "Requirement already satisfied: annotated-types>=0.4.0 in /home/rand/.local/lib/python3.10/site-packages (from pydantic<3,>=2.6->wandb->sae==1.1.0) (0.6.0)\n",
            "Requirement already satisfied: pydantic-core==2.18.2 in /home/rand/.local/lib/python3.10/site-packages (from pydantic<3,>=2.6->wandb->sae==1.1.0) (2.18.2)\n",
            "Requirement already satisfied: charset-normalizer<4,>=2 in /home/rand/.local/lib/python3.10/site-packages (from requests<3,>=2.0.0->wandb->sae==1.1.0) (3.3.2)\n",
            "Requirement already satisfied: idna<4,>=2.5 in /home/rand/.local/lib/python3.10/site-packages (from requests<3,>=2.0.0->wandb->sae==1.1.0) (3.7)\n",
            "Requirement already satisfied: urllib3<3,>=1.21.1 in /home/rand/.local/lib/python3.10/site-packages (from requests<3,>=2.0.0->wandb->sae==1.1.0) (2.2.1)\n",
            "Requirement already satisfied: certifi>=2017.4.17 in /home/rand/.local/lib/python3.10/site-packages (from requests<3,>=2.0.0->wandb->sae==1.1.0) (2024.2.2)\n",
            "Requirement already satisfied: MarkupSafe>=2.0 in /home/rand/.local/lib/python3.10/site-packages (from jinja2->torch->sae==1.1.0) (2.1.5)\n",
            "Requirement already satisfied: smmap<6,>=3.0.1 in /home/rand/anaconda/anaconda3/envs/exmd/lib/python3.10/site-packages (from gitdb<5,>=4.0.1->gitpython!=3.1.29,>=1.0.0->wandb->sae==1.1.0) (5.0.1)\n",
            "Using cached torch-2.5.1-cp310-cp310-manylinux1_x86_64.whl (906.4 MB)\n",
            "Installing collected packages: torch, sae\n",
            "  Attempting uninstall: torch\n",
            "    Found existing installation: torch 2.3.0\n",
            "    Uninstalling torch-2.3.0:\n",
            "      Successfully uninstalled torch-2.3.0\n",
            "  Attempting uninstall: sae\n",
            "    Found existing installation: sae 1.1.0\n",
            "    Uninstalling sae-1.1.0:\n",
            "      Successfully uninstalled sae-1.1.0\n",
            "\u001b[33m  DEPRECATION: Legacy editable install of sae==1.1.0 from file:///home/rand/github/XMED521/proj/sae (setup.py develop) is deprecated. pip 25.0 will enforce this behaviour change. A possible replacement is to add a pyproject.toml or enable --use-pep517, and use setuptools >= 64. If the resulting installation is not behaving as expected, try using --config-settings editable_mode=compat. Please consult the setuptools documentation for more information. Discussion can be found at https://github.com/pypa/pip/issues/11457\u001b[0m\u001b[33m\n",
            "\u001b[0m  Running setup.py develop for sae\n",
            "Successfully installed sae torch-2.5.1\n"
          ]
        }
      ]
    },
    {
      "cell_type": "code",
      "source": [
        "\n",
        "import torch\n",
        "from torch import nn, optim\n",
        "from sae import AutoEncoder\n",
        "import scanpy as sc\n",
        "import pandas as pd\n",
        "import numpy as np\n",
        "from torch.utils.data import DataLoader\n",
        "import matplotlib.pyplot as plt"
      ],
      "metadata": {
        "id": "Q2ujC4vH1SIM"
      },
      "execution_count": 1,
      "outputs": []
    },
    {
      "cell_type": "markdown",
      "source": [
        "## Dataset"
      ],
      "metadata": {
        "id": "q4ydZX2XI6PP"
      }
    },
    {
      "cell_type": "code",
      "source": [
        "import scanpy as sc\n",
        "\n",
        "def split_data(X, subject_ids, unique_ids):\n",
        "  unique_ids = subject_ids.unique()\n",
        "  data = [[] for _ in range(X.shape[1])]\n",
        "  sizes = [[] for _ in range(X.shape[1])]\n",
        "  for i in range(X.shape[1]):\n",
        "    for j, subject_id in enumerate(unique_ids):\n",
        "      subject_indices = subject_ids == subject_id\n",
        "      subject_data = X[subject_indices, i]\n",
        "      data[i].append(torch.from_numpy(subject_data.toarray()))\n",
        "      sizes[i].append(torch.tensor([subject_data.shape[0]],dtype = torch.int32))\n",
        "  return data, sizes\n",
        "\n",
        "def collate(batch):\n",
        "      \"\"\"\n",
        "      x = torch.cat(data[0], dim=0)\n",
        "      sizes = torch.cat(sizes[0], dim=0)\n",
        "      batch = torch.arange(sizes.numel()).repeat_interleave(sizes)\n",
        "      \"\"\"\n",
        "      data = [item[0] for item in batch]\n",
        "      sizes = [item[1] for item in batch]\n",
        "      target = [item[2] for item in batch]\n",
        "      gene = [item[3] for item in batch]\n",
        "      subject = [item[4] for item in batch]\n",
        "      x = torch.cat(data, dim=0)\n",
        "      sizes = torch.cat([item[1] for item in batch], dim=0)\n",
        "      batch = torch.arange(sizes.numel()).repeat_interleave(sizes)\n",
        "      target = torch.LongTensor(target)\n",
        "      gene = torch.LongTensor(gene)\n",
        "      subject = torch.LongTensor(subject)\n",
        "      return x, batch, target, gene, subject\n",
        "\n",
        "class SCDataset(torch.utils.data.Dataset):\n",
        "    def __init__(\n",
        "        self,\n",
        "        adata,\n",
        "        d_output=2, # default binary classification\n",
        "        dest_path=\"/content\", # default for colab\n",
        "        return_augs=False,\n",
        "    ):\n",
        "\n",
        "        self.return_augs = return_augs\n",
        "        self.d_output = d_output  # needed for decoder to grab\n",
        "        self.adata = adata\n",
        "        self.X  = self.adata.X\n",
        "\n",
        "        self.num_genes = self.X.shape[1]\n",
        "\n",
        "        self.subject_ids = self.adata.obs[\"subject_id\"]\n",
        "        self.unique_ids = self.subject_ids.unique()\n",
        "        self.num_subjects = len(self.unique_ids)\n",
        "\n",
        "        self.data, self.sizes = split_data(self.X, self.subject_ids, self.unique_ids)\n",
        "\n",
        "        self.phenotypes = pd.read_csv('phenotypes.csv')\n",
        "        self.labels = [self.phenotypes[self.phenotypes['Sample_ID']==int(unique_id)]['binary_y'] for unique_id in self.unique_ids]\n",
        "\n",
        "    def __len__(self):\n",
        "        return self.num_genes*self.num_subjects\n",
        "\n",
        "    def __getitem__(self, idx):\n",
        "        gene = idx // self.num_subjects\n",
        "        subject = idx % self.num_subjects\n",
        "        x = self.data[gene][subject]\n",
        "        size = self.sizes[gene][subject]\n",
        "        target = self.labels[subject].item()\n",
        "        return x, size, target, gene, subject"
      ],
      "metadata": {
        "id": "CJ-zntp-5j0m"
      },
      "execution_count": 4,
      "outputs": []
    },
    {
      "cell_type": "code",
      "source": [],
      "metadata": {
        "id": "IOYWmmY-vCTY"
      },
      "execution_count": null,
      "outputs": []
    },
    {
      "cell_type": "markdown",
      "source": [
        "### Junk"
      ],
      "metadata": {
        "id": "gnD3Z9eRUe0G"
      }
    },
    {
      "cell_type": "code",
      "source": [
        "adata = sc.read(\"/content/processed_dataset.h5ad\")"
      ],
      "metadata": {
        "id": "iFHI6RYs16ay"
      },
      "execution_count": null,
      "outputs": []
    },
    {
      "cell_type": "code",
      "source": [
        "adata.X.shape"
      ],
      "metadata": {
        "colab": {
          "base_uri": "https://localhost:8080/"
        },
        "id": "XjXPROP0PdxS",
        "outputId": "59444997-f256-4c91-ce69-f1eae8f9b756"
      },
      "execution_count": null,
      "outputs": [
        {
          "output_type": "execute_result",
          "data": {
            "text/plain": [
              "(5296, 128)"
            ]
          },
          "metadata": {},
          "execution_count": 5
        }
      ]
    },
    {
      "cell_type": "code",
      "source": [
        "subject_ids = adata.obs['subject_id']"
      ],
      "metadata": {
        "id": "gxuYra1z3j_6"
      },
      "execution_count": null,
      "outputs": []
    },
    {
      "cell_type": "code",
      "source": [
        "def split_data(X, subject_ids):\n",
        "  unique_ids = subject_ids.unique()\n",
        "  data = [[] for _ in range(X.shape[1])]\n",
        "  sizes = [[] for _ in range(X.shape[1])]\n",
        "  for i in range(X.shape[1]):\n",
        "    for j, subject_id in enumerate(unique_ids):\n",
        "      subject_indices = subject_ids == subject_id\n",
        "      subject_data = X[subject_indices, i]\n",
        "      data[i].append(torch.from_numpy(subject_data.toarray()))\n",
        "      sizes[i].append(torch.tensor([subject_data.shape[0]],dtype = torch.int32))\n",
        "  return data, sizes\n",
        "\n"
      ],
      "metadata": {
        "id": "vFpZ-PFJ4iyW"
      },
      "execution_count": null,
      "outputs": []
    },
    {
      "cell_type": "code",
      "source": [
        "data, sizes = split_data(adata.X, subject_ids)"
      ],
      "metadata": {
        "id": "-WkrLdFQ6CoS"
      },
      "execution_count": null,
      "outputs": []
    },
    {
      "cell_type": "code",
      "source": [
        "len(data[0])"
      ],
      "metadata": {
        "colab": {
          "base_uri": "https://localhost:8080/"
        },
        "id": "8bH-oaoWP1s4",
        "outputId": "861190ee-a9e6-4b8c-e328-ca49d2e3bf4f"
      },
      "execution_count": null,
      "outputs": [
        {
          "output_type": "execute_result",
          "data": {
            "text/plain": [
              "14"
            ]
          },
          "metadata": {},
          "execution_count": 13
        }
      ]
    },
    {
      "cell_type": "code",
      "source": [
        "import random\n",
        "class MyDataLoader:\n",
        "    def __init__(self, dataset, batch_size, shuffle = True):\n",
        "        self.dataset = dataset\n",
        "        self.batch_size = batch_size\n",
        "        self.shuffle = shuffle\n",
        "        self.indices = list(range(len(dataset)))\n",
        "\n",
        "    def __iter__(self):\n",
        "        if self.shuffle:\n",
        "            random.shuffle(self.indices)\n",
        "        self.current_index = 0\n",
        "        return self\n",
        "\n",
        "    def __next__(self):\n",
        "        if self.current_index >= len(self.dataset):\n",
        "            raise StopIteration\n",
        "        btach_indices = self.indices[self.current_index:self.current_index + self.batch_size]\n",
        "        batch = [self.dataset[i] for i in batch_indices]\n",
        "        self.current_index += self.batch_size\n",
        "        return batch\n",
        ""
      ],
      "metadata": {
        "id": "McC1TQNU2cEj"
      },
      "execution_count": null,
      "outputs": []
    },
    {
      "cell_type": "markdown",
      "source": [
        "## Autoencoder Training"
      ],
      "metadata": {
        "id": "I2upLaDoI_0P"
      }
    },
    {
      "cell_type": "code",
      "source": [
        "def train_autoencoder(model, device, train_loader, optimizer, epoch, log_interval=5000):\n",
        "    \"\"\"Training loop.\"\"\"\n",
        "    model.train()\n",
        "    for batch_idx, (data, size, target,_,_) in enumerate(train_loader):\n",
        "        data, size = data.to(device), size.to(device)\n",
        "        optimizer.zero_grad()\n",
        "        xr, batchr = model(data, size)\n",
        "        loss_data = model.loss()\n",
        "        loss = loss_data[\"loss\"]\n",
        "        loss.backward()\n",
        "        optimizer.step()\n",
        "        if batch_idx % log_interval == 0:\n",
        "            print('Train Epoch: {} [{}/{} ({:.0f}%)]\\tLoss: {:.6f}'.format(\n",
        "                epoch, batch_idx * len(data), len(train_loader),\n",
        "                100. * batch_idx / len(train_loader), loss.item()))\n"
      ],
      "metadata": {
        "id": "XnQ7MTivUjeX"
      },
      "execution_count": 5,
      "outputs": []
    },
    {
      "cell_type": "code",
      "source": [
        "def test_autoencoder(model, device, test_loader):\n",
        "    model.eval()\n",
        "    test_loss = 0\n",
        "    with torch.no_grad():\n",
        "        for data, size, _ ,_,_ in test_loader:\n",
        "            data, size = data.to(device), size.to(device)\n",
        "            xr, batchr = model(data, size)\n",
        "            loss_data = model.loss()\n",
        "            loss = loss_data[\"loss\"]\n",
        "            test_loss += loss  # sum up batch loss\n",
        "\n",
        "    test_loss /= len(test_loader.dataset)\n",
        "\n",
        "    print(f\"Test Loss: {test_loss}\")\n",
        "    #changed\n",
        "    return test_loss"
      ],
      "metadata": {
        "id": "UeOw9I6yVokN"
      },
      "execution_count": 6,
      "outputs": []
    },
    {
      "cell_type": "code",
      "source": [
        "def run_train_autoencoder(test_subjects=None):\n",
        "\n",
        "    # experiment settings:\n",
        "    num_epochs = 220  # ~100 seems fine\n",
        "    batch_size = 8\n",
        "    learning_rate = .005  # good default for Hyena\n",
        "    weight_decay = 0.1\n",
        "\n",
        "    max_n = 700\n",
        "    hidden_dim = 4\n",
        "    dim = 1\n",
        "\n",
        "    model = AutoEncoder(dim=dim, hidden_dim=hidden_dim, max_n=max_n)\n",
        "\n",
        "    device = 'cuda' if torch.cuda.is_available() else 'cpu'\n",
        "    print(\"Using device:\", device)\n",
        "    model.to(device)\n",
        "\n",
        "    adata = sc.read(\"./processed_dataset.h5ad\")\n",
        "    subject_ids = adata.obs['subject_id']\n",
        "    if test_subjects:\n",
        "      train_adata = adata[~adata.obs['subject_id'].isin(test_subjects), :]\n",
        "      test_adata = adata[adata.obs['subject_id'].isin(test_subjects), :]\n",
        "    else:\n",
        "      train_adata = adata\n",
        "      test_adata = None\n",
        "\n",
        "\n",
        "    # create datasets\n",
        "    ds_train = SCDataset(\n",
        "        adata=train_adata,\n",
        "        d_output=2,\n",
        "        dest_path=\"/content\",\n",
        "        return_augs=False,\n",
        "    )\n",
        "    train_loader = DataLoader(ds_train, batch_size=batch_size, shuffle=True, collate_fn = collate)\n",
        "    if test_adata:\n",
        "      ds_test = SCDataset(\n",
        "          adata=test_adata,\n",
        "          d_output=2,\n",
        "          dest_path=\"/content\",\n",
        "          return_augs=False,\n",
        "      )\n",
        "      test_loader = DataLoader(ds_test, batch_size=batch_size, shuffle=False, collate_fn = collate)\n",
        "\n",
        "\n",
        "\n",
        "\n",
        "    # create optimizer\n",
        "    optimizer = optim.AdamW(model.parameters(), lr=learning_rate, weight_decay=weight_decay)\n",
        "\n",
        "    model.to(device)\n",
        "    accuracies = []\n",
        "    best = 1000000\n",
        "    best_state_dict = None\n",
        "    patience = 5\n",
        "    epoch_since_update = 0\n",
        "    for epoch in range(num_epochs):\n",
        "        train_autoencoder(model, device, train_loader, optimizer, epoch)\n",
        "        if test_adata:\n",
        "          accuracy = test_autoencoder(model, device, test_loader)\n",
        "          accuracies.append(accuracy)\n",
        "          if best - accuracy >0:\n",
        "            best = accuracy\n",
        "            best_state_dict = model.state_dict()\n",
        "            epoch_since_update = 0\n",
        "          else:\n",
        "            epoch_since_update +=1\n",
        "            if epoch_since_update >= patience:\n",
        "              model.load_state_dict(best_state_dict)\n",
        "              break\n",
        "\n",
        "        optimizer.step()\n",
        "\n",
        "    return model, accuracies, ds_train, ds_test"
      ],
      "metadata": {
        "id": "dzGG-XmfVpBX"
      },
      "execution_count": 52,
      "outputs": []
    },
    {
      "cell_type": "code",
      "source": [
        "model, accuracies, ds_train, ds_test = run_train_autoencoder(test_subjects = ['20','19'])"
      ],
      "metadata": {
        "colab": {
          "base_uri": "https://localhost:8080/"
        },
        "id": "iE8K0784kVyX",
        "outputId": "5ddbec01-1058-4779-89dd-cf0853451f9d"
      },
      "execution_count": 53,
      "outputs": [
        {
          "output_type": "stream",
          "name": "stdout",
          "text": [
            "Using device: cuda\n"
          ]
        },
        {
          "output_type": "stream",
          "name": "stderr",
          "text": [
            "/home/rand/.local/lib/python3.10/site-packages/numpy/lib/function_base.py:520: RuntimeWarning: Mean of empty slice.\n",
            "  avg = a.mean(axis, **keepdims_kw)\n",
            "/home/rand/.local/lib/python3.10/site-packages/numpy/core/_methods.py:121: RuntimeWarning: invalid value encountered in divide\n",
            "  ret = um.true_divide(\n",
            "/home/rand/.local/lib/python3.10/site-packages/numpy/lib/function_base.py:2889: RuntimeWarning: Degrees of freedom <= 0 for slice\n",
            "  c = cov(x, y, rowvar, dtype=dtype)\n",
            "/home/rand/.local/lib/python3.10/site-packages/numpy/lib/function_base.py:2748: RuntimeWarning: divide by zero encountered in divide\n",
            "  c *= np.true_divide(1, fact)\n",
            "/home/rand/.local/lib/python3.10/site-packages/numpy/lib/function_base.py:2748: RuntimeWarning: invalid value encountered in multiply\n",
            "  c *= np.true_divide(1, fact)\n",
            "/home/rand/github/XMED521/proj/sae/sae/sae_model.py:52: UserWarning: var(): degrees of freedom is <= 0. Correction should be strictly less than the reduction factor (input numel divided by output numel). (Triggered internally at ../aten/src/ATen/native/ReduceOps.cpp:1823.)\n",
            "  xr_var = xr.var(dim=0).mean()\n"
          ]
        },
        {
          "output_type": "stream",
          "name": "stdout",
          "text": [
            "Train Epoch: 0 [0/192 (0%)]\tLoss: 122301.242188\n"
          ]
        },
        {
          "output_type": "stream",
          "name": "stderr",
          "text": [
            "/home/rand/.local/lib/python3.10/site-packages/numpy/lib/function_base.py:2897: RuntimeWarning: invalid value encountered in divide\n",
            "  c /= stddev[:, None]\n",
            "/home/rand/.local/lib/python3.10/site-packages/numpy/lib/function_base.py:2898: RuntimeWarning: invalid value encountered in divide\n",
            "  c /= stddev[None, :]\n"
          ]
        },
        {
          "output_type": "stream",
          "name": "stdout",
          "text": [
            "Test Loss: 23116.044921875\n",
            "Train Epoch: 1 [0/192 (0%)]\tLoss: 157948.500000\n",
            "Test Loss: 21873.728515625\n",
            "Train Epoch: 2 [0/192 (0%)]\tLoss: 219556.515625\n",
            "Test Loss: 20215.931640625\n",
            "Train Epoch: 3 [0/192 (0%)]\tLoss: 171829.609375\n",
            "Test Loss: 18508.9296875\n",
            "Train Epoch: 4 [0/192 (0%)]\tLoss: 137945.656250\n",
            "Test Loss: 16881.150390625\n",
            "Train Epoch: 5 [0/192 (0%)]\tLoss: 124544.093750\n",
            "Test Loss: 15465.4111328125\n",
            "Train Epoch: 6 [0/192 (0%)]\tLoss: 139375.000000\n",
            "Test Loss: 14247.28125\n",
            "Train Epoch: 7 [0/192 (0%)]\tLoss: 102057.593750\n",
            "Test Loss: 13238.712890625\n",
            "Train Epoch: 8 [0/192 (0%)]\tLoss: 85176.281250\n",
            "Test Loss: 12391.1318359375\n",
            "Train Epoch: 9 [0/192 (0%)]\tLoss: 99474.984375\n",
            "Test Loss: 11706.779296875\n",
            "Train Epoch: 10 [0/192 (0%)]\tLoss: 63236.800781\n",
            "Test Loss: 11156.40234375\n",
            "Train Epoch: 11 [0/192 (0%)]\tLoss: 110209.109375\n",
            "Test Loss: 10706.3134765625\n",
            "Train Epoch: 12 [0/192 (0%)]\tLoss: 86262.484375\n",
            "Test Loss: 10341.103515625\n",
            "Train Epoch: 13 [0/192 (0%)]\tLoss: 94833.664062\n",
            "Test Loss: 10042.228515625\n",
            "Train Epoch: 14 [0/192 (0%)]\tLoss: 77789.359375\n",
            "Test Loss: 9789.3740234375\n",
            "Train Epoch: 15 [0/192 (0%)]\tLoss: 109873.867188\n",
            "Test Loss: 9584.50390625\n",
            "Train Epoch: 16 [0/192 (0%)]\tLoss: 105796.554688\n",
            "Test Loss: 9417.09375\n",
            "Train Epoch: 17 [0/192 (0%)]\tLoss: 90429.171875\n",
            "Test Loss: 9298.6982421875\n",
            "Train Epoch: 18 [0/192 (0%)]\tLoss: 46893.699219\n",
            "Test Loss: 9189.30078125\n",
            "Train Epoch: 19 [0/192 (0%)]\tLoss: 61710.453125\n",
            "Test Loss: 9086.8291015625\n",
            "Train Epoch: 20 [0/192 (0%)]\tLoss: 54452.132812\n",
            "Test Loss: 8975.419921875\n",
            "Train Epoch: 21 [0/192 (0%)]\tLoss: 126900.781250\n",
            "Test Loss: 8922.400390625\n",
            "Train Epoch: 22 [0/192 (0%)]\tLoss: 39084.003906\n",
            "Test Loss: 8876.6494140625\n",
            "Train Epoch: 23 [0/192 (0%)]\tLoss: 39746.621094\n",
            "Test Loss: 8809.890625\n",
            "Train Epoch: 24 [0/192 (0%)]\tLoss: 135043.031250\n",
            "Test Loss: 8759.966796875\n",
            "Train Epoch: 25 [0/192 (0%)]\tLoss: 61122.699219\n",
            "Test Loss: 8714.169921875\n",
            "Train Epoch: 26 [0/192 (0%)]\tLoss: 147778.343750\n",
            "Test Loss: 8683.8310546875\n",
            "Train Epoch: 27 [0/192 (0%)]\tLoss: 89022.007812\n",
            "Test Loss: 8651.7685546875\n",
            "Train Epoch: 28 [0/192 (0%)]\tLoss: 23984.990234\n",
            "Test Loss: 8603.1611328125\n",
            "Train Epoch: 29 [0/192 (0%)]\tLoss: 29381.666016\n",
            "Test Loss: 8592.0029296875\n",
            "Train Epoch: 30 [0/192 (0%)]\tLoss: 58519.835938\n",
            "Test Loss: 8565.5048828125\n",
            "Train Epoch: 31 [0/192 (0%)]\tLoss: 115257.351562\n",
            "Test Loss: 8532.0078125\n",
            "Train Epoch: 32 [0/192 (0%)]\tLoss: 34917.734375\n",
            "Test Loss: 8496.54296875\n",
            "Train Epoch: 33 [0/192 (0%)]\tLoss: 27796.150391\n",
            "Test Loss: 8497.365234375\n",
            "Train Epoch: 34 [0/192 (0%)]\tLoss: 79407.500000\n",
            "Test Loss: 8478.6953125\n",
            "Train Epoch: 35 [0/192 (0%)]\tLoss: 46729.480469\n",
            "Test Loss: 8450.865234375\n",
            "Train Epoch: 36 [0/192 (0%)]\tLoss: 56154.941406\n",
            "Test Loss: 8432.197265625\n",
            "Train Epoch: 37 [0/192 (0%)]\tLoss: 32752.007812\n",
            "Test Loss: 8410.8720703125\n",
            "Train Epoch: 38 [0/192 (0%)]\tLoss: 88482.312500\n",
            "Test Loss: 8402.4013671875\n",
            "Train Epoch: 39 [0/192 (0%)]\tLoss: 45174.941406\n",
            "Test Loss: 8393.99609375\n",
            "Train Epoch: 40 [0/192 (0%)]\tLoss: 73514.695312\n",
            "Test Loss: 8381.3095703125\n",
            "Train Epoch: 41 [0/192 (0%)]\tLoss: 95750.171875\n",
            "Test Loss: 8369.6201171875\n",
            "Train Epoch: 42 [0/192 (0%)]\tLoss: 50358.128906\n",
            "Test Loss: 8383.5166015625\n",
            "Train Epoch: 43 [0/192 (0%)]\tLoss: 59580.800781\n",
            "Test Loss: 8356.1376953125\n",
            "Train Epoch: 44 [0/192 (0%)]\tLoss: 51987.902344\n",
            "Test Loss: 8364.634765625\n",
            "Train Epoch: 45 [0/192 (0%)]\tLoss: 78210.976562\n",
            "Test Loss: 8338.0185546875\n",
            "Train Epoch: 46 [0/192 (0%)]\tLoss: 70632.250000\n",
            "Test Loss: 8340.072265625\n",
            "Train Epoch: 47 [0/192 (0%)]\tLoss: 34530.683594\n",
            "Test Loss: 8337.357421875\n",
            "Train Epoch: 48 [0/192 (0%)]\tLoss: 23779.076172\n",
            "Test Loss: 8313.328125\n",
            "Train Epoch: 49 [0/192 (0%)]\tLoss: 49959.898438\n",
            "Test Loss: 8307.2275390625\n",
            "Train Epoch: 50 [0/192 (0%)]\tLoss: 84790.867188\n",
            "Test Loss: 8318.96875\n",
            "Train Epoch: 51 [0/192 (0%)]\tLoss: 32107.810547\n",
            "Test Loss: 8309.435546875\n",
            "Train Epoch: 52 [0/192 (0%)]\tLoss: 100475.445312\n",
            "Test Loss: 8286.5908203125\n",
            "Train Epoch: 53 [0/192 (0%)]\tLoss: 77489.914062\n",
            "Test Loss: 8275.6123046875\n",
            "Train Epoch: 54 [0/192 (0%)]\tLoss: 101057.781250\n",
            "Test Loss: 8287.1669921875\n",
            "Train Epoch: 55 [0/192 (0%)]\tLoss: 120234.445312\n",
            "Test Loss: 8271.1689453125\n",
            "Train Epoch: 56 [0/192 (0%)]\tLoss: 126125.804688\n",
            "Test Loss: 8283.314453125\n",
            "Train Epoch: 57 [0/192 (0%)]\tLoss: 90846.640625\n",
            "Test Loss: 8262.4580078125\n",
            "Train Epoch: 58 [0/192 (0%)]\tLoss: 107267.187500\n",
            "Test Loss: 8279.208984375\n",
            "Train Epoch: 59 [0/192 (0%)]\tLoss: 23279.777344\n",
            "Test Loss: 8275.2333984375\n",
            "Train Epoch: 60 [0/192 (0%)]\tLoss: 80295.570312\n",
            "Test Loss: 8292.3134765625\n",
            "Train Epoch: 61 [0/192 (0%)]\tLoss: 54476.042969\n",
            "Test Loss: 8295.80859375\n",
            "Train Epoch: 62 [0/192 (0%)]\tLoss: 94386.750000\n",
            "Test Loss: 8281.8935546875\n"
          ]
        }
      ]
    },
    {
      "cell_type": "code",
      "source": [],
      "metadata": {
        "id": "ZGCMr4aw641a"
      },
      "execution_count": 54,
      "outputs": []
    },
    {
      "cell_type": "code",
      "source": [
        "accuracies = [accuracy.cpu().numpy() for accuracy in accuracies]"
      ],
      "metadata": {
        "id": "ae5mEc0k67xR"
      },
      "execution_count": 55,
      "outputs": []
    },
    {
      "cell_type": "code",
      "source": [
        "# COMPLETE THE PLOT FUNCTION HERE\n",
        "plt.plot(range(len(accuracies)), accuracies, label= 'Loss',marker='o')\n",
        "\n",
        "\n",
        "# Add axis labels\n",
        "plt.xlabel('Epoch')\n",
        "plt.ylabel('Loss')\n",
        "\n",
        "# Add a title (optional)\n",
        "plt.title('Loss vs Epoch')\n",
        "\n",
        "# Add a legend (optional)\n",
        "plt.legend()\n",
        "# Show the graph\n",
        "plt.grid()\n",
        "plt.show()"
      ],
      "metadata": {
        "colab": {
          "base_uri": "https://localhost:8080/",
          "height": 472
        },
        "id": "MzUhpFhx4cRR",
        "outputId": "819f414b-7cad-4a37-e050-ccbc2811423e"
      },
      "execution_count": 56,
      "outputs": [
        {
          "output_type": "display_data",
          "data": {
            "text/plain": [
              "<Figure size 640x480 with 1 Axes>"
            ],
            "image/png": "[encoded data removed]"
          },
          "metadata": {}
        }
      ]
    },
    {
      "cell_type": "markdown",
      "source": [
        "## Encodings Dataset"
      ],
      "metadata": {
        "id": "TgLF0Sc978vz"
      }
    },
    {
      "cell_type": "code",
      "source": [
        "def generate_embeddings(embedding_model, ds_train):\n",
        "    device = 'cuda' if torch.cuda.is_available() else 'cpu'\n",
        "    train_loader = DataLoader(ds_train, batch_size=1, shuffle=False, collate_fn = collate)\n",
        "    embeddings = []\n",
        "    labels = []\n",
        "    genes = []\n",
        "    subjects = []\n",
        "    with torch.no_grad():\n",
        "        for data, size, y, gene, subject in train_loader:\n",
        "            data, size = data.to(device), size.to(device)\n",
        "            embedding = embedding_model(data, size)\n",
        "            embeddings.append(embedding)\n",
        "            labels.append(y)\n",
        "            genes.append(gene.cpu().item())\n",
        "            subjects.append(subject.cpu().item())\n",
        "    return torch.stack(embeddings, axis=0).squeeze(), torch.stack(labels,axis=0), genes, subjects\n",
        ""
      ],
      "metadata": {
        "id": "M--81kMzB7Iv"
      },
      "execution_count": 57,
      "outputs": []
    },
    {
      "cell_type": "code",
      "source": [
        "embeddings, y , genes, subjects = generate_embeddings(model.encoder, ds_train)"
      ],
      "metadata": {
        "id": "GiJe9gHQIaWV"
      },
      "execution_count": 58,
      "outputs": []
    },
    {
      "cell_type": "code",
      "source": [
        "def reshape_tensor_label(tensor, labels, gene_ids, subject_ids, num_genes, num_subjects):\n",
        "\n",
        "    embedding_dim = tensor.shape[1]  # Get embedding dimension\n",
        "    reshaped_tensor = torch.zeros((num_genes, num_subjects, embedding_dim))\n",
        "    reshaped_labels = torch.zeros((num_genes, num_subjects))\n",
        "    for i in range(tensor.shape[0]):\n",
        "        gene_index = gene_ids[i]\n",
        "        subject_index = subject_ids[i]\n",
        "        reshaped_tensor[gene_index, subject_index] = tensor[i]\n",
        "        reshaped_labels[gene_index, subject_index] = labels[i].item()\n",
        "    return reshaped_tensor, reshaped_labels"
      ],
      "metadata": {
        "id": "8JKuohQyIPkw"
      },
      "execution_count": 59,
      "outputs": []
    },
    {
      "cell_type": "code",
      "source": [
        "reshaped_embeddings, reshaped_labels = reshape_tensor_label(embeddings, y, genes, subjects, ds_train.num_genes, ds_train.num_subjects)"
      ],
      "metadata": {
        "id": "_Vo1QAJfImXV"
      },
      "execution_count": 60,
      "outputs": []
    },
    {
      "cell_type": "markdown",
      "source": [
        "## Prediction Models (they don't worj )"
      ],
      "metadata": {
        "id": "pPz3n-oI6XQX"
      }
    },
    {
      "cell_type": "code",
      "source": [
        "import numpy as np\n",
        "import torch\n",
        "import torch.nn as nn\n",
        "import torch.optim as optim\n",
        "from torch.utils.data import TensorDataset, DataLoader\n",
        "\n",
        "class LinearLayer(nn.Module):\n",
        "    def __init__(self, input_dim, output_dim):\n",
        "        super(LinearLayer, self).__init__()\n",
        "        self.input_dim = input_dim\n",
        "        self.output_dim = output_dim\n",
        "\n",
        "        scale = 1. * np.sqrt(6. / (input_dim + output_dim))\n",
        "        # approximated posterior\n",
        "        self.w = nn.Parameter(torch.Tensor(self.input_dim, self.output_dim).uniform_(-scale, scale))\n",
        "        self.bias = nn.Parameter(torch.Tensor(self.output_dim).uniform_(-scale, scale))\n",
        "\n",
        "    def forward(self, x):\n",
        "        output = torch.mm(x, self.w) + self.bias\n",
        "        return output\n",
        "\n",
        "\n",
        "class Predictor(nn.Module):\n",
        "    def __init__(self, input_dim, hidden_dim):\n",
        "        super(Predictor, self).__init__()\n",
        "        self.hidden = nn.Linear(input_dim, hidden_dim)\n",
        "        self.output = nn.Linear(hidden_dim, 1)\n",
        "        self.activation_fn = nn.Softplus(beta = 5)\n",
        "        self.output_fn = nn.Sigmoid()\n",
        "\n",
        "    def forward(self, x):\n",
        "        x1 = self.activation_fn(self.hidden(x))\n",
        "       # print(torch.sum(x1))\n",
        "        x2 = self.output_fn(self.output(x1))\n",
        "        #print(x2)\n",
        "        #return x2, self.reg_layers()\n",
        "        return x2\n",
        "\n",
        "    def reg_layers(self):\n",
        "        reg = torch.norm(self.Layer1.w, 1) + torch.norm(self.Layer2.w, 1)\n",
        "        return reg\n",
        "\n",
        "\n",
        "\n",
        "class Main_effect(nn.Module):\n",
        "    def __init__(self, gene_size):\n",
        "        super(Main_effect, self).__init__()\n",
        "        self.input_dim = gene_size\n",
        "        self.Layer1 = LinearLayer(self.input_dim, 1)\n",
        "\n",
        "    def forward(self, x):\n",
        "        x = self.Layer1(x)\n",
        "        return x, self.reg_layers()\n",
        "\n",
        "    def reg_layers(self):\n",
        "        reg = torch.norm(self.Layer1.w, 1)\n",
        "        return reg\n",
        "\n",
        "\n",
        "\n",
        "class NNtraining(object):\n",
        "    def __init__(self,\n",
        "                 model,\n",
        "                 learning_rate=0.05,\n",
        "                 batch_size=10000,\n",
        "                 num_epoch=10,\n",
        "                 early_stop_patience = 20,\n",
        "                 reg_weight_predictor = 0.0,\n",
        "                 use_cuda=False,\n",
        "                 use_early_stopping = False):\n",
        "\n",
        "        self.model = model\n",
        "        self.learning_rate = learning_rate\n",
        "        self.batch_size = batch_size\n",
        "        self.num_epoch = num_epoch\n",
        "        self.best_val = 1e5\n",
        "        self.early_stop_patience = early_stop_patience\n",
        "        self.epochs_since_update = 0  # used for early stopping\n",
        "        self.reg_weight_predictor = reg_weight_predictor\n",
        "        self.use_early_stopping = use_early_stopping\n",
        "\n",
        "        self.use_cuda = use_cuda\n",
        "        if use_cuda:\n",
        "            self.model.cuda()\n",
        "\n",
        "    def training(self, x, y, xval, yval):\n",
        "\n",
        "        parameters = set(self.model.parameters())\n",
        "        optimizer = optim.Adam(parameters, lr=self.learning_rate, eps=1e-8)\n",
        "        criterion = nn.BCELoss()\n",
        "        if self.use_cuda:\n",
        "            x = x.cuda()\n",
        "            y = y.cuda()\n",
        "        train_dl = DataLoader(TensorDataset(x, y), batch_size=self.batch_size, shuffle=True)\n",
        "        for epoch in range(self.num_epoch):\n",
        "            for x_batch, y_batch in train_dl:\n",
        "                optimizer.zero_grad()\n",
        "                self.model.train()\n",
        "                # calculate the training loss\n",
        "                #output, reg_predictor = self.model(x_batch)\n",
        "                output = self.model(x_batch)\n",
        "                #loss = criterion(y_batch, output) + self.reg_weight_predictor * reg_predictor\n",
        "                print(output)\n",
        "                print(y_batch.unsqueeze(1))\n",
        "                loss = criterion(output,y_batch.unsqueeze(1))\n",
        "                print(loss)\n",
        "                # backpropogate the gradient\n",
        "                loss.backward()\n",
        "                # optimize with SGD\n",
        "                optimizer.step()\n",
        "\n",
        "            train_mse, train_pve = self.build_evaluation(x, y)\n",
        "            val_mse, val_pve = self.build_evaluation(xval, yval)\n",
        "            print('>>> Epoch {:5d}/{:5d} | train_mse={:.5f} | val_mse={:.5f} | train_pve={:.5f} | val_pve={:.5f}'.format(epoch,\n",
        "                                                                                                                         self.num_epoch,\n",
        "                                                                                                                         train_mse,\n",
        "                                                                                                                         val_mse,\n",
        "                                                                                                                         train_pve,\n",
        "                                                                                                                         val_pve))\n",
        "            if self.use_early_stopping:\n",
        "                early_stop = self._early_stop(val_mse)\n",
        "                if early_stop:\n",
        "                    break\n",
        "\n",
        "\n",
        "    def build_evaluation(self, x_test, y_test):\n",
        "        criterion = nn.BCELoss()\n",
        "        if self.use_cuda:\n",
        "            x_test = x_test.cuda()\n",
        "            y_test = y_test.cuda()\n",
        "        self.model.eval()\n",
        "        y_pred = self.model(x_test)\n",
        "      #  y_pred, _, = self.model(x_test)\n",
        "        mse_eval = criterion(y_test, y_pred).detach()\n",
        "\n",
        "        pve = (1. - torch.var(y_pred.view(-1) - y_test.view(-1)) / torch.var(y_test.view(-1))).detach()\n",
        "        return mse_eval, pve\n",
        "\n",
        "    def _early_stop(self, val_loss):\n",
        "        updated = False # flag\n",
        "        current = val_loss\n",
        "        best = self.best_val\n",
        "        improvement = (best - current) / best\n",
        "#         improvement  = best - current\n",
        "\n",
        "        if improvement > 0.00:\n",
        "            self.best_val = current\n",
        "            updated = True\n",
        "\n",
        "        if updated:\n",
        "            self.epochs_since_update = 0\n",
        "        else:\n",
        "            self.epochs_since_update += 1\n",
        "\n",
        "        return self.epochs_since_update > self.early_stop_patience\n",
        ""
      ],
      "metadata": {
        "id": "pzjMkgyP6abt"
      },
      "execution_count": 26,
      "outputs": []
    },
    {
      "cell_type": "code",
      "source": [
        "predictor= Predictor(reshaped_embeddings.shape[0]*reshaped_embeddings.shape[2], 100)\n",
        "gene_interaction_nn = NNtraining(predictor,batch_size =1,)\n",
        "gene_interaction_nn.training(x,y, xval,yval)"
      ],
      "metadata": {
        "id": "I2BOlvdISlh6"
      },
      "execution_count": null,
      "outputs": []
    },
    {
      "cell_type": "markdown",
      "source": [
        "##Prediction (something is wrong it only outputs zeros)"
      ],
      "metadata": {
        "id": "qr1uLqDtbcwa"
      }
    },
    {
      "cell_type": "code",
      "source": [
        "def transform_split(tensor, labels, split = .8):\n",
        "  transformed = tensor.reshape(tensor.shape[1],tensor.shape[0]*tensor.shape[2])\n",
        "  labels = labels[0,:]\n",
        "  split1 = int(tensor.shape[1]*split)\n",
        "  tensor1 = transformed[:split1,:]\n",
        "  tensor2 = transformed[split1:,:]\n",
        "  labels1 = labels[:split1]\n",
        "  labels2 = labels[split1:]\n",
        "  return tensor1, tensor2, labels1, labels2"
      ],
      "metadata": {
        "id": "zDfgi307agi3"
      },
      "execution_count": 18,
      "outputs": []
    },
    {
      "cell_type": "code",
      "source": [
        "x, xval,y,yval = transform_split(reshaped_embeddings, reshaped_labels)"
      ],
      "metadata": {
        "id": "Fn1nrJIBbMsu"
      },
      "execution_count": 66,
      "outputs": []
    },
    {
      "cell_type": "code",
      "source": [
        "from torch.utils.data import TensorDataset, DataLoader\n",
        "class GeneInteractionNN(nn.Module):\n",
        "    def __init__(self, input_dim, hidden_dim):\n",
        "        super(GeneInteractionNN, self).__init__()\n",
        "        self.hidden = nn.Linear(input_dim, hidden_dim)\n",
        "        self.output = nn.Linear(hidden_dim, 1)\n",
        "        self.activation_fn = nn.Softplus(beta = 5)\n",
        "\n",
        "\n",
        "    def forward(self, x):\n",
        "        x = self.activation_fn(self.hidden(x))\n",
        "        x = torch.sigmoid(self.output(x))\n",
        "        return x\n",
        ""
      ],
      "metadata": {
        "id": "_zvP3_u9zxAl"
      },
      "execution_count": 69,
      "outputs": []
    },
    {
      "cell_type": "code",
      "source": [
        "def train_predictor(model, device, train_loader, optimizer, epoch,loss_fn):\n",
        "    \"\"\"Training loop.\"\"\"\n",
        "    model.train()\n",
        "    for batch_idx, (data, target) in enumerate(train_loader):\n",
        "        data, target = data.to(device), target.to(device)\n",
        "        optimizer.zero_grad()\n",
        "        output = model(data)\n",
        "        loss = loss_fn(output, target)\n",
        "        loss.backward()\n",
        "        optimizer.step()\n",
        ""
      ],
      "metadata": {
        "id": "WWRUouen1Wf4"
      },
      "execution_count": 70,
      "outputs": []
    },
    {
      "cell_type": "code",
      "source": [
        "def test_predictor(model, device, test_loader, loss_fn):\n",
        "    model.eval()\n",
        "    with torch.no_grad():\n",
        "        test_loss = 0\n",
        "        correct = 0\n",
        "        for data, target in test_loader:\n",
        "            data, target = data.to(device), target.to(device)\n",
        "            output = model(data)\n",
        "            test_loss += loss_fn(output, target).item()\n",
        "            pred = output.argmax(dim=1, keepdim=True)\n",
        "            print(pred)\n",
        "            correct += pred.eq(target.view_as(pred)).sum().item()\n",
        "\n",
        "    test_loss /= len(test_loader.dataset)\n",
        "    print('\\nTest set: Average loss: {:.4f}, Accuracy: {}/{} ({:.2f}%)\\n'.format(\n",
        "        test_loss, correct, len(test_loader.dataset),\n",
        "        100. * correct / len(test_loader.dataset)))\n",
        "    return (100.* correct / len(test_loader.dataset)), test_loss"
      ],
      "metadata": {
        "id": "XaB3wUqS2ARD"
      },
      "execution_count": 84,
      "outputs": []
    },
    {
      "cell_type": "code",
      "source": [
        "def run_train_predictor(x, y, xval, yval):\n",
        "    learning_rate = 0.001\n",
        "    epochs = 100\n",
        "\n",
        "    device = 'cuda' if torch.cuda.is_available() else 'cpu'\n",
        "    input_dim = x.shape[1]\n",
        "    hidden_dim = 32\n",
        "\n",
        "    model = GeneInteractionNN(input_dim, hidden_dim)\n",
        "\n",
        "    train_dl = DataLoader(TensorDataset(x, y.unsqueeze(1)), batch_size=1, shuffle=True)\n",
        "    test_dl = DataLoader(TensorDataset(xval, yval.unsqueeze(1)), batch_size=1, shuffle=False)\n",
        "    loss_fn = nn.BCELoss()\n",
        "    optimizer = torch.optim.Adam(model.parameters(), lr=learning_rate)\n",
        "    model.to(device)\n",
        "    accuracies = []\n",
        "    losses = []\n",
        "    for epoch in range(epochs):\n",
        "        train_predictor(model, device, train_dl, optimizer, epoch, loss_fn)\n",
        "        accuracy, loss = test_predictor(model, device, test_dl, loss_fn)\n",
        "        accuracies.append(accuracy)\n",
        "        losses.append(loss)\n",
        "        optimizer.step()\n",
        "    return model, accuracies, losses\n",
        "\n",
        ""
      ],
      "metadata": {
        "id": "GEah_omo0VMS"
      },
      "execution_count": 74,
      "outputs": []
    },
    {
      "cell_type": "code",
      "source": [
        "model, accuracies, losses = run_train_predictor(x,y,xval,yval)"
      ],
      "metadata": {
        "colab": {
          "base_uri": "https://localhost:8080/"
        },
        "id": "3NlErVuy3ktO",
        "outputId": "725a7df2-19a1-4ea3-b1af-cd24287b1be3"
      },
      "execution_count": 85,
      "outputs": [
        {
          "output_type": "stream",
          "name": "stdout",
          "text": [
            "tensor([[0]], device='cuda:0')\n",
            "tensor([[0]], device='cuda:0')\n",
            "tensor([[0]], device='cuda:0')\n",
            "\n",
            "Test set: Average loss: 0.7079, Accuracy: 2/3 (66.67%)\n",
            "\n",
            "tensor([[0]], device='cuda:0')\n",
            "tensor([[0]], device='cuda:0')\n",
            "tensor([[0]], device='cuda:0')\n",
            "\n",
            "Test set: Average loss: 0.7083, Accuracy: 2/3 (66.67%)\n",
            "\n",
            "tensor([[0]], device='cuda:0')\n",
            "tensor([[0]], device='cuda:0')\n",
            "tensor([[0]], device='cuda:0')\n",
            "\n",
            "Test set: Average loss: 0.7069, Accuracy: 2/3 (66.67%)\n",
            "\n",
            "tensor([[0]], device='cuda:0')\n",
            "tensor([[0]], device='cuda:0')\n",
            "tensor([[0]], device='cuda:0')\n",
            "\n",
            "Test set: Average loss: 0.7056, Accuracy: 2/3 (66.67%)\n",
            "\n",
            "tensor([[0]], device='cuda:0')\n",
            "tensor([[0]], device='cuda:0')\n",
            "tensor([[0]], device='cuda:0')\n",
            "\n",
            "Test set: Average loss: 0.7026, Accuracy: 2/3 (66.67%)\n",
            "\n",
            "tensor([[0]], device='cuda:0')\n",
            "tensor([[0]], device='cuda:0')\n",
            "tensor([[0]], device='cuda:0')\n",
            "\n",
            "Test set: Average loss: 0.7019, Accuracy: 2/3 (66.67%)\n",
            "\n",
            "tensor([[0]], device='cuda:0')\n",
            "tensor([[0]], device='cuda:0')\n",
            "tensor([[0]], device='cuda:0')\n",
            "\n",
            "Test set: Average loss: 0.7004, Accuracy: 2/3 (66.67%)\n",
            "\n",
            "tensor([[0]], device='cuda:0')\n",
            "tensor([[0]], device='cuda:0')\n",
            "tensor([[0]], device='cuda:0')\n",
            "\n",
            "Test set: Average loss: 0.7002, Accuracy: 2/3 (66.67%)\n",
            "\n",
            "tensor([[0]], device='cuda:0')\n",
            "tensor([[0]], device='cuda:0')\n",
            "tensor([[0]], device='cuda:0')\n",
            "\n",
            "Test set: Average loss: 0.6978, Accuracy: 2/3 (66.67%)\n",
            "\n",
            "tensor([[0]], device='cuda:0')\n",
            "tensor([[0]], device='cuda:0')\n",
            "tensor([[0]], device='cuda:0')\n",
            "\n",
            "Test set: Average loss: 0.6972, Accuracy: 2/3 (66.67%)\n",
            "\n",
            "tensor([[0]], device='cuda:0')\n",
            "tensor([[0]], device='cuda:0')\n",
            "tensor([[0]], device='cuda:0')\n",
            "\n",
            "Test set: Average loss: 0.6968, Accuracy: 2/3 (66.67%)\n",
            "\n",
            "tensor([[0]], device='cuda:0')\n",
            "tensor([[0]], device='cuda:0')\n",
            "tensor([[0]], device='cuda:0')\n",
            "\n",
            "Test set: Average loss: 0.6965, Accuracy: 2/3 (66.67%)\n",
            "\n",
            "tensor([[0]], device='cuda:0')\n",
            "tensor([[0]], device='cuda:0')\n",
            "tensor([[0]], device='cuda:0')\n",
            "\n",
            "Test set: Average loss: 0.6965, Accuracy: 2/3 (66.67%)\n",
            "\n",
            "tensor([[0]], device='cuda:0')\n",
            "tensor([[0]], device='cuda:0')\n",
            "tensor([[0]], device='cuda:0')\n",
            "\n",
            "Test set: Average loss: 0.6957, Accuracy: 2/3 (66.67%)\n",
            "\n",
            "tensor([[0]], device='cuda:0')\n",
            "tensor([[0]], device='cuda:0')\n",
            "tensor([[0]], device='cuda:0')\n",
            "\n",
            "Test set: Average loss: 0.6941, Accuracy: 2/3 (66.67%)\n",
            "\n",
            "tensor([[0]], device='cuda:0')\n",
            "tensor([[0]], device='cuda:0')\n",
            "tensor([[0]], device='cuda:0')\n",
            "\n",
            "Test set: Average loss: 0.6928, Accuracy: 2/3 (66.67%)\n",
            "\n",
            "tensor([[0]], device='cuda:0')\n",
            "tensor([[0]], device='cuda:0')\n",
            "tensor([[0]], device='cuda:0')\n",
            "\n",
            "Test set: Average loss: 0.6914, Accuracy: 2/3 (66.67%)\n",
            "\n",
            "tensor([[0]], device='cuda:0')\n",
            "tensor([[0]], device='cuda:0')\n",
            "tensor([[0]], device='cuda:0')\n",
            "\n",
            "Test set: Average loss: 0.6913, Accuracy: 2/3 (66.67%)\n",
            "\n",
            "tensor([[0]], device='cuda:0')\n",
            "tensor([[0]], device='cuda:0')\n",
            "tensor([[0]], device='cuda:0')\n",
            "\n",
            "Test set: Average loss: 0.6917, Accuracy: 2/3 (66.67%)\n",
            "\n",
            "tensor([[0]], device='cuda:0')\n",
            "tensor([[0]], device='cuda:0')\n",
            "tensor([[0]], device='cuda:0')\n",
            "\n",
            "Test set: Average loss: 0.6903, Accuracy: 2/3 (66.67%)\n",
            "\n",
            "tensor([[0]], device='cuda:0')\n",
            "tensor([[0]], device='cuda:0')\n",
            "tensor([[0]], device='cuda:0')\n",
            "\n",
            "Test set: Average loss: 0.6901, Accuracy: 2/3 (66.67%)\n",
            "\n",
            "tensor([[0]], device='cuda:0')\n",
            "tensor([[0]], device='cuda:0')\n",
            "tensor([[0]], device='cuda:0')\n",
            "\n",
            "Test set: Average loss: 0.6898, Accuracy: 2/3 (66.67%)\n",
            "\n",
            "tensor([[0]], device='cuda:0')\n",
            "tensor([[0]], device='cuda:0')\n",
            "tensor([[0]], device='cuda:0')\n",
            "\n",
            "Test set: Average loss: 0.6885, Accuracy: 2/3 (66.67%)\n",
            "\n",
            "tensor([[0]], device='cuda:0')\n",
            "tensor([[0]], device='cuda:0')\n",
            "tensor([[0]], device='cuda:0')\n",
            "\n",
            "Test set: Average loss: 0.6870, Accuracy: 2/3 (66.67%)\n",
            "\n",
            "tensor([[0]], device='cuda:0')\n",
            "tensor([[0]], device='cuda:0')\n",
            "tensor([[0]], device='cuda:0')\n",
            "\n",
            "Test set: Average loss: 0.6852, Accuracy: 2/3 (66.67%)\n",
            "\n",
            "tensor([[0]], device='cuda:0')\n",
            "tensor([[0]], device='cuda:0')\n",
            "tensor([[0]], device='cuda:0')\n",
            "\n",
            "Test set: Average loss: 0.6838, Accuracy: 2/3 (66.67%)\n",
            "\n",
            "tensor([[0]], device='cuda:0')\n",
            "tensor([[0]], device='cuda:0')\n",
            "tensor([[0]], device='cuda:0')\n",
            "\n",
            "Test set: Average loss: 0.6825, Accuracy: 2/3 (66.67%)\n",
            "\n",
            "tensor([[0]], device='cuda:0')\n",
            "tensor([[0]], device='cuda:0')\n",
            "tensor([[0]], device='cuda:0')\n",
            "\n",
            "Test set: Average loss: 0.6825, Accuracy: 2/3 (66.67%)\n",
            "\n",
            "tensor([[0]], device='cuda:0')\n",
            "tensor([[0]], device='cuda:0')\n",
            "tensor([[0]], device='cuda:0')\n",
            "\n",
            "Test set: Average loss: 0.6809, Accuracy: 2/3 (66.67%)\n",
            "\n",
            "tensor([[0]], device='cuda:0')\n",
            "tensor([[0]], device='cuda:0')\n",
            "tensor([[0]], device='cuda:0')\n",
            "\n",
            "Test set: Average loss: 0.6802, Accuracy: 2/3 (66.67%)\n",
            "\n",
            "tensor([[0]], device='cuda:0')\n",
            "tensor([[0]], device='cuda:0')\n",
            "tensor([[0]], device='cuda:0')\n",
            "\n",
            "Test set: Average loss: 0.6793, Accuracy: 2/3 (66.67%)\n",
            "\n",
            "tensor([[0]], device='cuda:0')\n",
            "tensor([[0]], device='cuda:0')\n",
            "tensor([[0]], device='cuda:0')\n",
            "\n",
            "Test set: Average loss: 0.6786, Accuracy: 2/3 (66.67%)\n",
            "\n",
            "tensor([[0]], device='cuda:0')\n",
            "tensor([[0]], device='cuda:0')\n",
            "tensor([[0]], device='cuda:0')\n",
            "\n",
            "Test set: Average loss: 0.6790, Accuracy: 2/3 (66.67%)\n",
            "\n",
            "tensor([[0]], device='cuda:0')\n",
            "tensor([[0]], device='cuda:0')\n",
            "tensor([[0]], device='cuda:0')\n",
            "\n",
            "Test set: Average loss: 0.6786, Accuracy: 2/3 (66.67%)\n",
            "\n",
            "tensor([[0]], device='cuda:0')\n",
            "tensor([[0]], device='cuda:0')\n",
            "tensor([[0]], device='cuda:0')\n",
            "\n",
            "Test set: Average loss: 0.6780, Accuracy: 2/3 (66.67%)\n",
            "\n",
            "tensor([[0]], device='cuda:0')\n",
            "tensor([[0]], device='cuda:0')\n",
            "tensor([[0]], device='cuda:0')\n",
            "\n",
            "Test set: Average loss: 0.6769, Accuracy: 2/3 (66.67%)\n",
            "\n",
            "tensor([[0]], device='cuda:0')\n",
            "tensor([[0]], device='cuda:0')\n",
            "tensor([[0]], device='cuda:0')\n",
            "\n",
            "Test set: Average loss: 0.6761, Accuracy: 2/3 (66.67%)\n",
            "\n",
            "tensor([[0]], device='cuda:0')\n",
            "tensor([[0]], device='cuda:0')\n",
            "tensor([[0]], device='cuda:0')\n",
            "\n",
            "Test set: Average loss: 0.6745, Accuracy: 2/3 (66.67%)\n",
            "\n",
            "tensor([[0]], device='cuda:0')\n",
            "tensor([[0]], device='cuda:0')\n",
            "tensor([[0]], device='cuda:0')\n",
            "\n",
            "Test set: Average loss: 0.6742, Accuracy: 2/3 (66.67%)\n",
            "\n",
            "tensor([[0]], device='cuda:0')\n",
            "tensor([[0]], device='cuda:0')\n",
            "tensor([[0]], device='cuda:0')\n",
            "\n",
            "Test set: Average loss: 0.6734, Accuracy: 2/3 (66.67%)\n",
            "\n",
            "tensor([[0]], device='cuda:0')\n",
            "tensor([[0]], device='cuda:0')\n",
            "tensor([[0]], device='cuda:0')\n",
            "\n",
            "Test set: Average loss: 0.6734, Accuracy: 2/3 (66.67%)\n",
            "\n",
            "tensor([[0]], device='cuda:0')\n",
            "tensor([[0]], device='cuda:0')\n",
            "tensor([[0]], device='cuda:0')\n",
            "\n",
            "Test set: Average loss: 0.6741, Accuracy: 2/3 (66.67%)\n",
            "\n",
            "tensor([[0]], device='cuda:0')\n",
            "tensor([[0]], device='cuda:0')\n",
            "tensor([[0]], device='cuda:0')\n",
            "\n",
            "Test set: Average loss: 0.6737, Accuracy: 2/3 (66.67%)\n",
            "\n",
            "tensor([[0]], device='cuda:0')\n",
            "tensor([[0]], device='cuda:0')\n",
            "tensor([[0]], device='cuda:0')\n",
            "\n",
            "Test set: Average loss: 0.6727, Accuracy: 2/3 (66.67%)\n",
            "\n",
            "tensor([[0]], device='cuda:0')\n",
            "tensor([[0]], device='cuda:0')\n",
            "tensor([[0]], device='cuda:0')\n",
            "\n",
            "Test set: Average loss: 0.6722, Accuracy: 2/3 (66.67%)\n",
            "\n",
            "tensor([[0]], device='cuda:0')\n",
            "tensor([[0]], device='cuda:0')\n",
            "tensor([[0]], device='cuda:0')\n",
            "\n",
            "Test set: Average loss: 0.6718, Accuracy: 2/3 (66.67%)\n",
            "\n",
            "tensor([[0]], device='cuda:0')\n",
            "tensor([[0]], device='cuda:0')\n",
            "tensor([[0]], device='cuda:0')\n",
            "\n",
            "Test set: Average loss: 0.6717, Accuracy: 2/3 (66.67%)\n",
            "\n",
            "tensor([[0]], device='cuda:0')\n",
            "tensor([[0]], device='cuda:0')\n",
            "tensor([[0]], device='cuda:0')\n",
            "\n",
            "Test set: Average loss: 0.6715, Accuracy: 2/3 (66.67%)\n",
            "\n",
            "tensor([[0]], device='cuda:0')\n",
            "tensor([[0]], device='cuda:0')\n",
            "tensor([[0]], device='cuda:0')\n",
            "\n",
            "Test set: Average loss: 0.6705, Accuracy: 2/3 (66.67%)\n",
            "\n",
            "tensor([[0]], device='cuda:0')\n",
            "tensor([[0]], device='cuda:0')\n",
            "tensor([[0]], device='cuda:0')\n",
            "\n",
            "Test set: Average loss: 0.6696, Accuracy: 2/3 (66.67%)\n",
            "\n",
            "tensor([[0]], device='cuda:0')\n",
            "tensor([[0]], device='cuda:0')\n",
            "tensor([[0]], device='cuda:0')\n",
            "\n",
            "Test set: Average loss: 0.6690, Accuracy: 2/3 (66.67%)\n",
            "\n",
            "tensor([[0]], device='cuda:0')\n",
            "tensor([[0]], device='cuda:0')\n",
            "tensor([[0]], device='cuda:0')\n",
            "\n",
            "Test set: Average loss: 0.6678, Accuracy: 2/3 (66.67%)\n",
            "\n",
            "tensor([[0]], device='cuda:0')\n",
            "tensor([[0]], device='cuda:0')\n",
            "tensor([[0]], device='cuda:0')\n",
            "\n",
            "Test set: Average loss: 0.6673, Accuracy: 2/3 (66.67%)\n",
            "\n",
            "tensor([[0]], device='cuda:0')\n",
            "tensor([[0]], device='cuda:0')\n",
            "tensor([[0]], device='cuda:0')\n",
            "\n",
            "Test set: Average loss: 0.6663, Accuracy: 2/3 (66.67%)\n",
            "\n",
            "tensor([[0]], device='cuda:0')\n",
            "tensor([[0]], device='cuda:0')\n",
            "tensor([[0]], device='cuda:0')\n",
            "\n",
            "Test set: Average loss: 0.6662, Accuracy: 2/3 (66.67%)\n",
            "\n",
            "tensor([[0]], device='cuda:0')\n",
            "tensor([[0]], device='cuda:0')\n",
            "tensor([[0]], device='cuda:0')\n",
            "\n",
            "Test set: Average loss: 0.6664, Accuracy: 2/3 (66.67%)\n",
            "\n",
            "tensor([[0]], device='cuda:0')\n",
            "tensor([[0]], device='cuda:0')\n",
            "tensor([[0]], device='cuda:0')\n",
            "\n",
            "Test set: Average loss: 0.6664, Accuracy: 2/3 (66.67%)\n",
            "\n",
            "tensor([[0]], device='cuda:0')\n",
            "tensor([[0]], device='cuda:0')\n",
            "tensor([[0]], device='cuda:0')\n",
            "\n",
            "Test set: Average loss: 0.6661, Accuracy: 2/3 (66.67%)\n",
            "\n",
            "tensor([[0]], device='cuda:0')\n",
            "tensor([[0]], device='cuda:0')\n",
            "tensor([[0]], device='cuda:0')\n",
            "\n",
            "Test set: Average loss: 0.6658, Accuracy: 2/3 (66.67%)\n",
            "\n",
            "tensor([[0]], device='cuda:0')\n",
            "tensor([[0]], device='cuda:0')\n",
            "tensor([[0]], device='cuda:0')\n",
            "\n",
            "Test set: Average loss: 0.6650, Accuracy: 2/3 (66.67%)\n",
            "\n",
            "tensor([[0]], device='cuda:0')\n",
            "tensor([[0]], device='cuda:0')\n",
            "tensor([[0]], device='cuda:0')\n",
            "\n",
            "Test set: Average loss: 0.6639, Accuracy: 2/3 (66.67%)\n",
            "\n",
            "tensor([[0]], device='cuda:0')\n",
            "tensor([[0]], device='cuda:0')\n",
            "tensor([[0]], device='cuda:0')\n",
            "\n",
            "Test set: Average loss: 0.6641, Accuracy: 2/3 (66.67%)\n",
            "\n",
            "tensor([[0]], device='cuda:0')\n",
            "tensor([[0]], device='cuda:0')\n",
            "tensor([[0]], device='cuda:0')\n",
            "\n",
            "Test set: Average loss: 0.6653, Accuracy: 2/3 (66.67%)\n",
            "\n",
            "tensor([[0]], device='cuda:0')\n",
            "tensor([[0]], device='cuda:0')\n",
            "tensor([[0]], device='cuda:0')\n",
            "\n",
            "Test set: Average loss: 0.6649, Accuracy: 2/3 (66.67%)\n",
            "\n",
            "tensor([[0]], device='cuda:0')\n",
            "tensor([[0]], device='cuda:0')\n",
            "tensor([[0]], device='cuda:0')\n",
            "\n",
            "Test set: Average loss: 0.6638, Accuracy: 2/3 (66.67%)\n",
            "\n",
            "tensor([[0]], device='cuda:0')\n",
            "tensor([[0]], device='cuda:0')\n",
            "tensor([[0]], device='cuda:0')\n",
            "\n",
            "Test set: Average loss: 0.6644, Accuracy: 2/3 (66.67%)\n",
            "\n",
            "tensor([[0]], device='cuda:0')\n",
            "tensor([[0]], device='cuda:0')\n",
            "tensor([[0]], device='cuda:0')\n",
            "\n",
            "Test set: Average loss: 0.6652, Accuracy: 2/3 (66.67%)\n",
            "\n",
            "tensor([[0]], device='cuda:0')\n",
            "tensor([[0]], device='cuda:0')\n",
            "tensor([[0]], device='cuda:0')\n",
            "\n",
            "Test set: Average loss: 0.6649, Accuracy: 2/3 (66.67%)\n",
            "\n",
            "tensor([[0]], device='cuda:0')\n",
            "tensor([[0]], device='cuda:0')\n",
            "tensor([[0]], device='cuda:0')\n",
            "\n",
            "Test set: Average loss: 0.6646, Accuracy: 2/3 (66.67%)\n",
            "\n",
            "tensor([[0]], device='cuda:0')\n",
            "tensor([[0]], device='cuda:0')\n",
            "tensor([[0]], device='cuda:0')\n",
            "\n",
            "Test set: Average loss: 0.6640, Accuracy: 2/3 (66.67%)\n",
            "\n",
            "tensor([[0]], device='cuda:0')\n",
            "tensor([[0]], device='cuda:0')\n",
            "tensor([[0]], device='cuda:0')\n",
            "\n",
            "Test set: Average loss: 0.6631, Accuracy: 2/3 (66.67%)\n",
            "\n",
            "tensor([[0]], device='cuda:0')\n",
            "tensor([[0]], device='cuda:0')\n",
            "tensor([[0]], device='cuda:0')\n",
            "\n",
            "Test set: Average loss: 0.6630, Accuracy: 2/3 (66.67%)\n",
            "\n",
            "tensor([[0]], device='cuda:0')\n",
            "tensor([[0]], device='cuda:0')\n",
            "tensor([[0]], device='cuda:0')\n",
            "\n",
            "Test set: Average loss: 0.6641, Accuracy: 2/3 (66.67%)\n",
            "\n",
            "tensor([[0]], device='cuda:0')\n",
            "tensor([[0]], device='cuda:0')\n",
            "tensor([[0]], device='cuda:0')\n",
            "\n",
            "Test set: Average loss: 0.6644, Accuracy: 2/3 (66.67%)\n",
            "\n",
            "tensor([[0]], device='cuda:0')\n",
            "tensor([[0]], device='cuda:0')\n",
            "tensor([[0]], device='cuda:0')\n",
            "\n",
            "Test set: Average loss: 0.6631, Accuracy: 2/3 (66.67%)\n",
            "\n",
            "tensor([[0]], device='cuda:0')\n",
            "tensor([[0]], device='cuda:0')\n",
            "tensor([[0]], device='cuda:0')\n",
            "\n",
            "Test set: Average loss: 0.6630, Accuracy: 2/3 (66.67%)\n",
            "\n",
            "tensor([[0]], device='cuda:0')\n",
            "tensor([[0]], device='cuda:0')\n",
            "tensor([[0]], device='cuda:0')\n",
            "\n",
            "Test set: Average loss: 0.6642, Accuracy: 2/3 (66.67%)\n",
            "\n",
            "tensor([[0]], device='cuda:0')\n",
            "tensor([[0]], device='cuda:0')\n",
            "tensor([[0]], device='cuda:0')\n",
            "\n",
            "Test set: Average loss: 0.6639, Accuracy: 2/3 (66.67%)\n",
            "\n",
            "tensor([[0]], device='cuda:0')\n",
            "tensor([[0]], device='cuda:0')\n",
            "tensor([[0]], device='cuda:0')\n",
            "\n",
            "Test set: Average loss: 0.6632, Accuracy: 2/3 (66.67%)\n",
            "\n",
            "tensor([[0]], device='cuda:0')\n",
            "tensor([[0]], device='cuda:0')\n",
            "tensor([[0]], device='cuda:0')\n",
            "\n",
            "Test set: Average loss: 0.6629, Accuracy: 2/3 (66.67%)\n",
            "\n",
            "tensor([[0]], device='cuda:0')\n",
            "tensor([[0]], device='cuda:0')\n",
            "tensor([[0]], device='cuda:0')\n",
            "\n",
            "Test set: Average loss: 0.6625, Accuracy: 2/3 (66.67%)\n",
            "\n",
            "tensor([[0]], device='cuda:0')\n",
            "tensor([[0]], device='cuda:0')\n",
            "tensor([[0]], device='cuda:0')\n",
            "\n",
            "Test set: Average loss: 0.6623, Accuracy: 2/3 (66.67%)\n",
            "\n",
            "tensor([[0]], device='cuda:0')\n",
            "tensor([[0]], device='cuda:0')\n",
            "tensor([[0]], device='cuda:0')\n",
            "\n",
            "Test set: Average loss: 0.6620, Accuracy: 2/3 (66.67%)\n",
            "\n",
            "tensor([[0]], device='cuda:0')\n",
            "tensor([[0]], device='cuda:0')\n",
            "tensor([[0]], device='cuda:0')\n",
            "\n",
            "Test set: Average loss: 0.6608, Accuracy: 2/3 (66.67%)\n",
            "\n",
            "tensor([[0]], device='cuda:0')\n",
            "tensor([[0]], device='cuda:0')\n",
            "tensor([[0]], device='cuda:0')\n",
            "\n",
            "Test set: Average loss: 0.6613, Accuracy: 2/3 (66.67%)\n",
            "\n",
            "tensor([[0]], device='cuda:0')\n",
            "tensor([[0]], device='cuda:0')\n",
            "tensor([[0]], device='cuda:0')\n",
            "\n",
            "Test set: Average loss: 0.6614, Accuracy: 2/3 (66.67%)\n",
            "\n",
            "tensor([[0]], device='cuda:0')\n",
            "tensor([[0]], device='cuda:0')\n",
            "tensor([[0]], device='cuda:0')\n",
            "\n",
            "Test set: Average loss: 0.6619, Accuracy: 2/3 (66.67%)\n",
            "\n",
            "tensor([[0]], device='cuda:0')\n",
            "tensor([[0]], device='cuda:0')\n",
            "tensor([[0]], device='cuda:0')\n",
            "\n",
            "Test set: Average loss: 0.6629, Accuracy: 2/3 (66.67%)\n",
            "\n",
            "tensor([[0]], device='cuda:0')\n",
            "tensor([[0]], device='cuda:0')\n",
            "tensor([[0]], device='cuda:0')\n",
            "\n",
            "Test set: Average loss: 0.6626, Accuracy: 2/3 (66.67%)\n",
            "\n",
            "tensor([[0]], device='cuda:0')\n",
            "tensor([[0]], device='cuda:0')\n",
            "tensor([[0]], device='cuda:0')\n",
            "\n",
            "Test set: Average loss: 0.6629, Accuracy: 2/3 (66.67%)\n",
            "\n",
            "tensor([[0]], device='cuda:0')\n",
            "tensor([[0]], device='cuda:0')\n",
            "tensor([[0]], device='cuda:0')\n",
            "\n",
            "Test set: Average loss: 0.6638, Accuracy: 2/3 (66.67%)\n",
            "\n",
            "tensor([[0]], device='cuda:0')\n",
            "tensor([[0]], device='cuda:0')\n",
            "tensor([[0]], device='cuda:0')\n",
            "\n",
            "Test set: Average loss: 0.6639, Accuracy: 2/3 (66.67%)\n",
            "\n",
            "tensor([[0]], device='cuda:0')\n",
            "tensor([[0]], device='cuda:0')\n",
            "tensor([[0]], device='cuda:0')\n",
            "\n",
            "Test set: Average loss: 0.6635, Accuracy: 2/3 (66.67%)\n",
            "\n",
            "tensor([[0]], device='cuda:0')\n",
            "tensor([[0]], device='cuda:0')\n",
            "tensor([[0]], device='cuda:0')\n",
            "\n",
            "Test set: Average loss: 0.6622, Accuracy: 2/3 (66.67%)\n",
            "\n",
            "tensor([[0]], device='cuda:0')\n",
            "tensor([[0]], device='cuda:0')\n",
            "tensor([[0]], device='cuda:0')\n",
            "\n",
            "Test set: Average loss: 0.6629, Accuracy: 2/3 (66.67%)\n",
            "\n",
            "tensor([[0]], device='cuda:0')\n",
            "tensor([[0]], device='cuda:0')\n",
            "tensor([[0]], device='cuda:0')\n",
            "\n",
            "Test set: Average loss: 0.6624, Accuracy: 2/3 (66.67%)\n",
            "\n",
            "tensor([[0]], device='cuda:0')\n",
            "tensor([[0]], device='cuda:0')\n",
            "tensor([[0]], device='cuda:0')\n",
            "\n",
            "Test set: Average loss: 0.6624, Accuracy: 2/3 (66.67%)\n",
            "\n",
            "tensor([[0]], device='cuda:0')\n",
            "tensor([[0]], device='cuda:0')\n",
            "tensor([[0]], device='cuda:0')\n",
            "\n",
            "Test set: Average loss: 0.6620, Accuracy: 2/3 (66.67%)\n",
            "\n",
            "tensor([[0]], device='cuda:0')\n",
            "tensor([[0]], device='cuda:0')\n",
            "tensor([[0]], device='cuda:0')\n",
            "\n",
            "Test set: Average loss: 0.6614, Accuracy: 2/3 (66.67%)\n",
            "\n",
            "tensor([[0]], device='cuda:0')\n",
            "tensor([[0]], device='cuda:0')\n",
            "tensor([[0]], device='cuda:0')\n",
            "\n",
            "Test set: Average loss: 0.6603, Accuracy: 2/3 (66.67%)\n",
            "\n"
          ]
        }
      ]
    },
    {
      "cell_type": "code",
      "source": [
        "plt.plot(range(len(accuracies)),accuracies)"
      ],
      "metadata": {
        "colab": {
          "base_uri": "https://localhost:8080/",
          "height": 447
        },
        "id": "kvFwOHsc33D1",
        "outputId": "390e5fe6-f6e1-441f-e8c8-575a8aa13445"
      },
      "execution_count": 77,
      "outputs": [
        {
          "output_type": "execute_result",
          "data": {
            "text/plain": [
              "[<matplotlib.lines.Line2D at 0x7f47402dd000>]"
            ]
          },
          "metadata": {},
          "execution_count": 77
        },
        {
          "output_type": "display_data",
          "data": {
            "text/plain": [
              "<Figure size 640x480 with 1 Axes>"
            ],
            "image/png": "[encoded data removed]"
          },
          "metadata": {}
        }
      ]
    },
    {
      "cell_type": "code",
      "source": [
        "plt.plot(range(len(losses)),losses)"
      ],
      "metadata": {
        "colab": {
          "base_uri": "https://localhost:8080/",
          "height": 447
        },
        "id": "3TrGE1lb34MM",
        "outputId": "1ee8bda8-81f4-405c-8a1f-b078b3f62084"
      },
      "execution_count": 78,
      "outputs": [
        {
          "output_type": "execute_result",
          "data": {
            "text/plain": [
              "[<matplotlib.lines.Line2D at 0x7f47891dbbb0>]"
            ]
          },
          "metadata": {},
          "execution_count": 78
        },
        {
          "output_type": "display_data",
          "data": {
            "text/plain": [
              "<Figure size 640x480 with 1 Axes>"
            ],
            "image/png": "[encoded data removed]"
          },
          "metadata": {}
        }
      ]
    },
    {
      "cell_type": "markdown",
      "source": [
        "## Shapley Taylor Interactoin Index"
      ],
      "metadata": {
        "id": "zNIw8Z1K433L"
      }
    },
    {
      "cell_type": "code",
      "source": [
        "import numpy as np\n",
        "import torch\n",
        "import torch.multiprocessing as mp\n",
        "\n",
        "class ShapleyTaylorInteractionIndex:\n",
        "    def __init__(self,\n",
        "            encodings,\n",
        "            predictor,\n",
        "            device,\n",
        "            num_permutations: int|None = None,\n",
        "            ):\n",
        "        \"\"\"\n",
        "        encodings expected dimension = (individuals,genes,gene_embedding dimension)\n",
        "\n",
        "        \"\"\"\n",
        "        self.num_permutations = num_permutations\n",
        "        self.encodings = encodings\n",
        "        self.predictor = predictor\n",
        "        self.baseline = self.caluculate_baseline(self.encodings)\n",
        "        self.num_individuals = self.encodings.shape[0]\n",
        "        self.num_genes = self.encodings.shape[1]\n",
        "\n",
        "    def caluculate_baseline(self, encodings):\n",
        "        #verify this is right\n",
        "        baseline = torch.mean(encodings, dim =0)\n",
        "        return baseline\n",
        "\n",
        "    def generate_permutations(self, num_permutations, num_genes):\n",
        "        permutations = [np.random.permutation(num_genes) for _ in range(num_permutations)]\n",
        "        return permutations\n",
        "\n",
        "    def generate_stratified_permutations(self, num_permutations, num_genes, encodings):\n",
        "        pass\n",
        "\n",
        "    def global_shapely_interaction_index(self, num_permutations,shapley_values = True):\n",
        "        if not num_permutations:\n",
        "            if not self.num_permutations:\n",
        "                raise ValueError(\"num_permutations can not be none\")\n",
        "            else:\n",
        "                num_permutations=self.num_permutations\n",
        "\n",
        "        #intitialize matrix\n",
        "        global_shapley_interactions = torch.zeros(size=(self.num_individuals,self.num_genes,self.num_genes))\n",
        "        #make the permutation matrix\n",
        "        permutations = self.generate_permutations(num_permutations,self.num_genes)\n",
        "        \"\"\"\n",
        "        mp.set_start_method('spawn', force=True)  # Force if already set\n",
        "        num_processes = mp.cpu_count()\n",
        "        if num_processes > num_permutations:\n",
        "          num_processes = num_permutations\n",
        "        pool = mp.Pool(processes=num_processes)\n",
        "        #iterate over individuals, could be parallelized\n",
        "        results = pool.starmap(self.local_shapley_interaction_index, [(permutations,k, shapley_values) for k in range(self.num_individuals)])\n",
        "        pool.close()\n",
        "        pool.join()\n",
        "        global_shapley_interactions = torch.stack(results, axis=0)\n",
        "        \"\"\"\n",
        "\n",
        "        for k in range(self.num_individuals):\n",
        "            global_shapley_interactions[k] = self.local_shapley_interaction_index(permutations,k, shapley_values)\n",
        "            print(f\"finished up to {k}\")\n",
        "\n",
        "        #check axis\n",
        "\n",
        "        global_shapley_interactions = torch.mean(global_shapley_interactions,axis = 0)\n",
        "        return global_shapley_interactions\n",
        "\n",
        "    def local_shapley_interaction_index(self,permutations,k, shapley_values):\n",
        "        local_shapley_interaction = torch.zeros(size=(len(permutations),self.num_genes,self.num_genes))\n",
        "        if shapley_values:\n",
        "            marginal_contribution = torch.zeros(size=(len(permutations),self.num_genes))\n",
        "        for iter, pi in enumerate(permutations):\n",
        "            s = []\n",
        "            for i in pi:\n",
        "                if i >=1: s.append(i-1)\n",
        "                for j in pi[i+1:]:\n",
        "                    local_shapley_interaction[iter] = self.interaction_score(s,i,j,k)\n",
        "                if shapley_values:\n",
        "                    marginal_contribution[iter] = self.marginal_contribution(s,i,k)\n",
        "        local_shapley_interaction = torch.mean(local_shapley_interaction,axis=0)\n",
        "        local_shapley_interaction = local_shapley_interaction + +local_shapley_interaction.T\n",
        "        if shapley_values:\n",
        "            local_shapley_interaction += torch.diag(torch.mean(marginal_contribution, axis =0))\n",
        "        #maybe add shapley value here\n",
        "        return local_shapley_interaction\n",
        "\n",
        "    def interaction_score(self, s, i, j,k):\n",
        "        s_ij = self.mask_input(s+[i,j],k).flatten()\n",
        "        s_i = self.mask_input(s+[i],k).flatten()\n",
        "        s_j = self.mask_input(s+[j],k).flatten()\n",
        "        s = self.mask_input(s,k).flatten()\n",
        "        output_s_ij = self.predictor(s_ij.to(device))\n",
        "        output_s_i = self.predictor(s_i.to(device))\n",
        "        output_s_j = self.predictor(s_j.to(device))\n",
        "        output_s = self.predictor(s.to(device))\n",
        "\n",
        "        return output_s_ij-output_s_i-output_s_j+output_s\n",
        "\n",
        "    def marginal_contribution(self,s,i,k):\n",
        "        s_i = self.mask_input(s+[i],k).flatten()\n",
        "        s = self.mask_input(s,k).flatten()\n",
        "        output_s_i = self.predictor(s_i.to(device))\n",
        "        output_s = self.predictor(s.to(device))\n",
        "        return output_s_i - output_s\n",
        "\n",
        "    def mask_input(self, index_set, k):\n",
        "        input = self.baseline.clone()\n",
        "        input[index_set]=self.encodings[k][index_set]\n",
        "        return input\n",
        "\n",
        "\n",
        "\n",
        "\n",
        "\n"
      ],
      "metadata": {
        "id": "oDyPj4_X4c5f"
      },
      "execution_count": 79,
      "outputs": []
    },
    {
      "cell_type": "code",
      "source": [
        "device = 'cuda' if torch.cuda.is_available() else 'cpu'\n"
      ],
      "metadata": {
        "id": "xGF9AJl37QZK"
      },
      "execution_count": 80,
      "outputs": []
    },
    {
      "cell_type": "code",
      "source": [
        "stii = ShapleyTaylorInteractionIndex(reshaped_embeddings.permute(1,0,2), model, device=device)"
      ],
      "metadata": {
        "id": "faXdSsCS42ss"
      },
      "execution_count": 81,
      "outputs": []
    },
    {
      "cell_type": "code",
      "source": [
        "interaction_index = stii.global_shapely_interaction_index(1)"
      ],
      "metadata": {
        "colab": {
          "base_uri": "https://localhost:8080/"
        },
        "id": "EWSl5HQu58Ui",
        "outputId": "2ee7242d-5b71-4c0f-a5a0-2a7102378294"
      },
      "execution_count": 82,
      "outputs": [
        {
          "output_type": "stream",
          "name": "stdout",
          "text": [
            "finished up to 0\n",
            "finished up to 1\n",
            "finished up to 2\n",
            "finished up to 3\n",
            "finished up to 4\n",
            "finished up to 5\n",
            "finished up to 6\n",
            "finished up to 7\n",
            "finished up to 8\n",
            "finished up to 9\n",
            "finished up to 10\n",
            "finished up to 11\n"
          ]
        }
      ]
    },
    {
      "cell_type": "code",
      "source": [
        "interaction_index[interaction_index != 0]"
      ],
      "metadata": {
        "colab": {
          "base_uri": "https://localhost:8080/"
        },
        "id": "wKPwSl1S6Ees",
        "outputId": "121e358e-fadd-4ef7-eb28-30a22f1bf68b"
      },
      "execution_count": 83,
      "outputs": [
        {
          "output_type": "execute_result",
          "data": {
            "text/plain": [
              "tensor([], grad_fn=<IndexBackward0>)"
            ]
          },
          "metadata": {},
          "execution_count": 83
        }
      ]
    },
    {
      "cell_type": "code",
      "source": [],
      "metadata": {
        "id": "qb7kCABqQO_e"
      },
      "execution_count": null,
      "outputs": []
    }
  ]
}